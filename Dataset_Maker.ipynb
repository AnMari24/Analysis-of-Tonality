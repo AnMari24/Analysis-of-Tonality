{
  "cells": [
    {
      "cell_type": "markdown",
      "id": "bf3ddf82-3e3b-4075-8cf6-91f792f5eb4c",
      "metadata": {
        "id": "bf3ddf82-3e3b-4075-8cf6-91f792f5eb4c"
      },
      "source": [
        "# Очистка текстов и создание обучающего датасета"
      ]
    },
    {
      "cell_type": "code",
      "execution_count": null,
      "id": "ef36c05e-e982-44e0-b5d7-b5608c844780",
      "metadata": {
        "id": "ef36c05e-e982-44e0-b5d7-b5608c844780"
      },
      "outputs": [],
      "source": [
        "import pandas as pd\n",
        "import numpy as np\n",
        "import json\n",
        "import re\n",
        "from nltk.stem.snowball import SnowballStemmer"
      ]
    },
    {
      "cell_type": "code",
      "execution_count": null,
      "id": "7e815faf-8610-4a13-9fb6-ceaa9a876f93",
      "metadata": {
        "id": "7e815faf-8610-4a13-9fb6-ceaa9a876f93",
        "outputId": "05175558-6b0d-491b-ffee-c886427d9f8c"
      },
      "outputs": [
        {
          "data": {
            "text/html": [
              "<div>\n",
              "<style scoped>\n",
              "    .dataframe tbody tr th:only-of-type {\n",
              "        vertical-align: middle;\n",
              "    }\n",
              "\n",
              "    .dataframe tbody tr th {\n",
              "        vertical-align: top;\n",
              "    }\n",
              "\n",
              "    .dataframe thead th {\n",
              "        text-align: right;\n",
              "    }\n",
              "</style>\n",
              "<table border=\"1\" class=\"dataframe\">\n",
              "  <thead>\n",
              "    <tr style=\"text-align: right;\">\n",
              "      <th></th>\n",
              "      <th>Unnamed: 0</th>\n",
              "      <th>issuerid</th>\n",
              "      <th>EMITENT_FULL_NAME</th>\n",
              "      <th>datetrackstart</th>\n",
              "      <th>datetrackend</th>\n",
              "      <th>BGTicker</th>\n",
              "      <th>OtherTicker</th>\n",
              "    </tr>\n",
              "  </thead>\n",
              "  <tbody>\n",
              "    <tr>\n",
              "      <th>0</th>\n",
              "      <td>0</td>\n",
              "      <td>1</td>\n",
              "      <td>\"Акционерный коммерческий банк \"Держава\" публи...</td>\n",
              "      <td>2021-06-02 12:47:55.100</td>\n",
              "      <td>NaN</td>\n",
              "      <td>NaN</td>\n",
              "      <td>NaN</td>\n",
              "    </tr>\n",
              "    <tr>\n",
              "      <th>1</th>\n",
              "      <td>1</td>\n",
              "      <td>2</td>\n",
              "      <td>\"МОСКОВСКИЙ КРЕДИТНЫЙ БАНК\" (публичное акционе...</td>\n",
              "      <td>2021-06-02 12:47:55.100</td>\n",
              "      <td>NaN</td>\n",
              "      <td>CBOM RX</td>\n",
              "      <td>NaN</td>\n",
              "    </tr>\n",
              "  </tbody>\n",
              "</table>\n",
              "</div>"
            ],
            "text/plain": [
              "   Unnamed: 0  issuerid                                  EMITENT_FULL_NAME  \\\n",
              "0           0         1  \"Акционерный коммерческий банк \"Держава\" публи...   \n",
              "1           1         2  \"МОСКОВСКИЙ КРЕДИТНЫЙ БАНК\" (публичное акционе...   \n",
              "\n",
              "            datetrackstart  datetrackend BGTicker OtherTicker  \n",
              "0  2021-06-02 12:47:55.100           NaN      NaN         NaN  \n",
              "1  2021-06-02 12:47:55.100           NaN  CBOM RX         NaN  "
            ]
          },
          "execution_count": 3,
          "metadata": {},
          "output_type": "execute_result"
        }
      ],
      "source": [
        "issuers = pd.read_excel('issuers.xlsx')\n",
        "issuers.head(2)"
      ]
    },
    {
      "cell_type": "code",
      "execution_count": null,
      "id": "7545fade-9e3f-4912-bfdc-168a992af466",
      "metadata": {
        "id": "7545fade-9e3f-4912-bfdc-168a992af466",
        "outputId": "517ef7cf-8348-4635-d925-3a7de29d1d87"
      },
      "outputs": [
        {
          "data": {
            "text/html": [
              "<div>\n",
              "<style scoped>\n",
              "    .dataframe tbody tr th:only-of-type {\n",
              "        vertical-align: middle;\n",
              "    }\n",
              "\n",
              "    .dataframe tbody tr th {\n",
              "        vertical-align: top;\n",
              "    }\n",
              "\n",
              "    .dataframe thead th {\n",
              "        text-align: right;\n",
              "    }\n",
              "</style>\n",
              "<table border=\"1\" class=\"dataframe\">\n",
              "  <thead>\n",
              "    <tr style=\"text-align: right;\">\n",
              "      <th></th>\n",
              "      <th>issuerid</th>\n",
              "      <th>EMITENT_FULL_NAME</th>\n",
              "      <th>VeryOddCompany</th>\n",
              "      <th>BGTicker</th>\n",
              "      <th>BGTicker.1</th>\n",
              "      <th>Unnamed: 5</th>\n",
              "      <th>Unnamed: 6</th>\n",
              "      <th>Unnamed: 7</th>\n",
              "      <th>Unnamed: 8</th>\n",
              "      <th>Unnamed: 9</th>\n",
              "      <th>Unnamed: 10</th>\n",
              "      <th>Unnamed: 11</th>\n",
              "      <th>Unnamed: 12</th>\n",
              "      <th>Unnamed: 13</th>\n",
              "      <th>Unnamed: 14</th>\n",
              "    </tr>\n",
              "  </thead>\n",
              "  <tbody>\n",
              "    <tr>\n",
              "      <th>0</th>\n",
              "      <td>1</td>\n",
              "      <td>Акционерный коммерческий банк \"Держава\" публич...</td>\n",
              "      <td>NaN</td>\n",
              "      <td>NaN</td>\n",
              "      <td>DERZP</td>\n",
              "      <td>Держава</td>\n",
              "      <td>DERZHAVA</td>\n",
              "      <td>DERZ</td>\n",
              "      <td>NaN</td>\n",
              "      <td>NaN</td>\n",
              "      <td>NaN</td>\n",
              "      <td>NaN</td>\n",
              "      <td>NaN</td>\n",
              "      <td>NaN</td>\n",
              "      <td>NaN</td>\n",
              "    </tr>\n",
              "    <tr>\n",
              "      <th>1</th>\n",
              "      <td>2</td>\n",
              "      <td>\"МОСКОВСКИЙ КРЕДИТНЫЙ БАНК\" (публичное акционе...</td>\n",
              "      <td>NaN</td>\n",
              "      <td>CBOM RX</td>\n",
              "      <td>NaN</td>\n",
              "      <td>Московский кредитный банк</td>\n",
              "      <td>мкб</td>\n",
              "      <td>Credit Bank of Moscow</td>\n",
              "      <td>Credit Bank</td>\n",
              "      <td>NaN</td>\n",
              "      <td>NaN</td>\n",
              "      <td>NaN</td>\n",
              "      <td>NaN</td>\n",
              "      <td>NaN</td>\n",
              "      <td>NaN</td>\n",
              "    </tr>\n",
              "  </tbody>\n",
              "</table>\n",
              "</div>"
            ],
            "text/plain": [
              "   issuerid                                  EMITENT_FULL_NAME  \\\n",
              "0         1  Акционерный коммерческий банк \"Держава\" публич...   \n",
              "1         2  \"МОСКОВСКИЙ КРЕДИТНЫЙ БАНК\" (публичное акционе...   \n",
              "\n",
              "   VeryOddCompany BGTicker BGTicker.1                 Unnamed: 5 Unnamed: 6  \\\n",
              "0             NaN      NaN      DERZP                    Держава   DERZHAVA   \n",
              "1             NaN  CBOM RX        NaN  Московский кредитный банк        мкб   \n",
              "\n",
              "              Unnamed: 7   Unnamed: 8 Unnamed: 9 Unnamed: 10 Unnamed: 11  \\\n",
              "0                   DERZ          NaN        NaN         NaN         NaN   \n",
              "1  Credit Bank of Moscow  Credit Bank        NaN         NaN         NaN   \n",
              "\n",
              "  Unnamed: 12 Unnamed: 13 Unnamed: 14  \n",
              "0         NaN         NaN         NaN  \n",
              "1         NaN         NaN         NaN  "
            ]
          },
          "execution_count": 4,
          "metadata": {},
          "output_type": "execute_result"
        }
      ],
      "source": [
        "syn = pd.read_excel('synonyms.xlsx')\n",
        "syn.head(2)"
      ]
    },
    {
      "cell_type": "code",
      "execution_count": null,
      "id": "4f20db23-136c-404a-a255-01bafc739166",
      "metadata": {
        "id": "4f20db23-136c-404a-a255-01bafc739166",
        "outputId": "bcf34f22-813e-4d2b-9021-c40e25b07da3"
      },
      "outputs": [
        {
          "data": {
            "text/html": [
              "<div>\n",
              "<style scoped>\n",
              "    .dataframe tbody tr th:only-of-type {\n",
              "        vertical-align: middle;\n",
              "    }\n",
              "\n",
              "    .dataframe tbody tr th {\n",
              "        vertical-align: top;\n",
              "    }\n",
              "\n",
              "    .dataframe thead th {\n",
              "        text-align: right;\n",
              "    }\n",
              "</style>\n",
              "<table border=\"1\" class=\"dataframe\">\n",
              "  <thead>\n",
              "    <tr style=\"text-align: right;\">\n",
              "      <th></th>\n",
              "      <th>ChannelID</th>\n",
              "      <th>messageid</th>\n",
              "      <th>issuerid</th>\n",
              "      <th>MessageID</th>\n",
              "      <th>DateAdded</th>\n",
              "      <th>DatePosted</th>\n",
              "      <th>MessageText</th>\n",
              "      <th>IsForward</th>\n",
              "    </tr>\n",
              "  </thead>\n",
              "  <tbody>\n",
              "    <tr>\n",
              "      <th>0</th>\n",
              "      <td>1197210433</td>\n",
              "      <td>5408</td>\n",
              "      <td>90</td>\n",
              "      <td>5408</td>\n",
              "      <td>2021-02-06 01:42:42</td>\n",
              "      <td>2020-04-29 07:29:01</td>\n",
              "      <td>?? Фокус недели #ФН  Сегодня ????? ММК опублик...</td>\n",
              "      <td>False</td>\n",
              "    </tr>\n",
              "    <tr>\n",
              "      <th>1</th>\n",
              "      <td>1203560567</td>\n",
              "      <td>64803</td>\n",
              "      <td>57</td>\n",
              "      <td>64803</td>\n",
              "      <td>2021-02-06 01:47:00</td>\n",
              "      <td>2020-01-21 12:51:42</td>\n",
              "      <td>??#LSRG  ЛСР - операционные результаты (2019г)...</td>\n",
              "      <td>False</td>\n",
              "    </tr>\n",
              "  </tbody>\n",
              "</table>\n",
              "</div>"
            ],
            "text/plain": [
              "    ChannelID  messageid  issuerid  MessageID           DateAdded  \\\n",
              "0  1197210433       5408        90       5408 2021-02-06 01:42:42   \n",
              "1  1203560567      64803        57      64803 2021-02-06 01:47:00   \n",
              "\n",
              "           DatePosted                                        MessageText  \\\n",
              "0 2020-04-29 07:29:01  ?? Фокус недели #ФН  Сегодня ????? ММК опублик...   \n",
              "1 2020-01-21 12:51:42  ??#LSRG  ЛСР - операционные результаты (2019г)...   \n",
              "\n",
              "   IsForward  \n",
              "0      False  \n",
              "1      False  "
            ]
          },
          "execution_count": 5,
          "metadata": {},
          "output_type": "execute_result"
        }
      ],
      "source": [
        "names_texts = pd.read_pickle('mentions texts.pickle')\n",
        "names_texts.head(2)"
      ]
    },
    {
      "cell_type": "code",
      "execution_count": null,
      "id": "33b7d8a8-c976-4fd7-9a05-d80959d869a3",
      "metadata": {
        "id": "33b7d8a8-c976-4fd7-9a05-d80959d869a3",
        "outputId": "26dd7f75-6975-47cd-8078-6373305e9e6f"
      },
      "outputs": [
        {
          "data": {
            "text/html": [
              "<div>\n",
              "<style scoped>\n",
              "    .dataframe tbody tr th:only-of-type {\n",
              "        vertical-align: middle;\n",
              "    }\n",
              "\n",
              "    .dataframe tbody tr th {\n",
              "        vertical-align: top;\n",
              "    }\n",
              "\n",
              "    .dataframe thead th {\n",
              "        text-align: right;\n",
              "    }\n",
              "</style>\n",
              "<table border=\"1\" class=\"dataframe\">\n",
              "  <thead>\n",
              "    <tr style=\"text-align: right;\">\n",
              "      <th></th>\n",
              "      <th>MessageID</th>\n",
              "      <th>ChannelID</th>\n",
              "      <th>issuerid</th>\n",
              "      <th>SentimentScore</th>\n",
              "      <th>DateAdded</th>\n",
              "      <th>DatePosted</th>\n",
              "      <th>MessageText</th>\n",
              "      <th>IsForward</th>\n",
              "    </tr>\n",
              "  </thead>\n",
              "  <tbody>\n",
              "    <tr>\n",
              "      <th>0</th>\n",
              "      <td>241407</td>\n",
              "      <td>1203560567</td>\n",
              "      <td>153</td>\n",
              "      <td>2</td>\n",
              "      <td>2023-05-12 19:03:20</td>\n",
              "      <td>2023-05-12 19:02:42</td>\n",
              "      <td>⚠️🇷🇺#SELG #дивиденд  сд Селигдар: дивиденды 20...</td>\n",
              "      <td>False</td>\n",
              "    </tr>\n",
              "    <tr>\n",
              "      <th>1</th>\n",
              "      <td>33684</td>\n",
              "      <td>1136626166</td>\n",
              "      <td>230</td>\n",
              "      <td>4</td>\n",
              "      <td>2023-02-03 20:56:29</td>\n",
              "      <td>2023-02-03 16:46:34</td>\n",
              "      <td>Ozon продолжает развивать специализированные ф...</td>\n",
              "      <td>False</td>\n",
              "    </tr>\n",
              "  </tbody>\n",
              "</table>\n",
              "</div>"
            ],
            "text/plain": [
              "   MessageID   ChannelID  issuerid  SentimentScore           DateAdded  \\\n",
              "0     241407  1203560567       153               2 2023-05-12 19:03:20   \n",
              "1      33684  1136626166       230               4 2023-02-03 20:56:29   \n",
              "\n",
              "           DatePosted                                        MessageText  \\\n",
              "0 2023-05-12 19:02:42  ⚠️🇷🇺#SELG #дивиденд  сд Селигдар: дивиденды 20...   \n",
              "1 2023-02-03 16:46:34  Ozon продолжает развивать специализированные ф...   \n",
              "\n",
              "   IsForward  \n",
              "0      False  \n",
              "1      False  "
            ]
          },
          "execution_count": 6,
          "metadata": {},
          "output_type": "execute_result"
        }
      ],
      "source": [
        "sent_texts = pd.read_pickle('sentiment_texts.pickle')\n",
        "sent_texts.head(2)"
      ]
    },
    {
      "cell_type": "markdown",
      "id": "437b050a-702d-4da7-9f18-b087ec75bcb4",
      "metadata": {
        "id": "437b050a-702d-4da7-9f18-b087ec75bcb4"
      },
      "source": [
        "### Очистка текста"
      ]
    },
    {
      "cell_type": "code",
      "execution_count": null,
      "id": "62362e8d-80b0-4d21-9323-153793044204",
      "metadata": {
        "id": "62362e8d-80b0-4d21-9323-153793044204"
      },
      "outputs": [],
      "source": [
        "def clear_text(df):\n",
        "    remove_question = lambda text: re.sub(r'\\?{2,}', '', text)\n",
        "    df['MessageTextClean'] = df['MessageText'].apply(remove_question)\n",
        "    remove_u200b = lambda text: re.sub(r'\\u200b', '', text)\n",
        "    df['MessageTextClean'] = df['MessageTextClean'].apply(remove_u200b)\n",
        "    remove_backslash = lambda text: re.sub(r'\\\\[^ ]*', '', text)\n",
        "    df['MessageTextClean'] = df['MessageTextClean'].apply(remove_backslash)\n",
        "    remove_at = lambda text: re.sub(r'\\@\\S{2,}', '', text)\n",
        "    df['MessageTextClean'] = df['MessageTextClean'].apply(remove_at)\n",
        "    remove_site = lambda text: re.sub(r'http\\S{2,}', '', text)\n",
        "    df['MessageTextClean'] = df['MessageTextClean'].apply(remove_site)\n",
        "    remove_space = lambda text: re.sub(r'\\s{2,}', ' ', text)\n",
        "    df['MessageTextClean'] = df['MessageTextClean'].apply(remove_space)\n",
        "    remove_quotation = lambda text: re.sub(r'\\\"{2,}', '\"', text)\n",
        "    df['MessageTextClean'] = df['MessageTextClean'].apply(remove_quotation)\n",
        "    return df"
      ]
    },
    {
      "cell_type": "code",
      "execution_count": null,
      "id": "9bbac7fe-5fb6-4518-b88f-5a16acd04c70",
      "metadata": {
        "id": "9bbac7fe-5fb6-4518-b88f-5a16acd04c70",
        "outputId": "4f3e5b26-4e70-4d50-9fbe-4603fa317754"
      },
      "outputs": [
        {
          "name": "stdout",
          "output_type": "stream",
          "text": [
            "CPU times: total: 938 ms\n",
            "Wall time: 1.06 s\n"
          ]
        }
      ],
      "source": [
        "%%time\n",
        "names_texts = clear_text(names_texts)\n",
        "sent_texts = clear_text(sent_texts)"
      ]
    },
    {
      "cell_type": "code",
      "execution_count": null,
      "id": "cf06d725-8b52-4ef6-9d9a-c3c432ae0f47",
      "metadata": {
        "id": "cf06d725-8b52-4ef6-9d9a-c3c432ae0f47"
      },
      "outputs": [],
      "source": [
        "sent_texts.to_csv('sent_clean2.csv', index=False)"
      ]
    },
    {
      "cell_type": "markdown",
      "id": "b5400eea-c376-4af7-924d-adcd3cd16ab9",
      "metadata": {
        "id": "b5400eea-c376-4af7-924d-adcd3cd16ab9"
      },
      "source": [
        "### Формирование списков синонимов"
      ]
    },
    {
      "cell_type": "code",
      "execution_count": null,
      "id": "9360208c-a0d5-4302-80f7-d3a37b829996",
      "metadata": {
        "id": "9360208c-a0d5-4302-80f7-d3a37b829996",
        "outputId": "d92cc5cf-ae44-45ee-dcac-25f34c738414"
      },
      "outputs": [
        {
          "data": {
            "text/html": [
              "<div>\n",
              "<style scoped>\n",
              "    .dataframe tbody tr th:only-of-type {\n",
              "        vertical-align: middle;\n",
              "    }\n",
              "\n",
              "    .dataframe tbody tr th {\n",
              "        vertical-align: top;\n",
              "    }\n",
              "\n",
              "    .dataframe thead th {\n",
              "        text-align: right;\n",
              "    }\n",
              "</style>\n",
              "<table border=\"1\" class=\"dataframe\">\n",
              "  <thead>\n",
              "    <tr style=\"text-align: right;\">\n",
              "      <th></th>\n",
              "      <th>Unnamed: 0</th>\n",
              "      <th>issuerid</th>\n",
              "      <th>EMITENT_FULL_NAME</th>\n",
              "      <th>datetrackstart</th>\n",
              "      <th>datetrackend</th>\n",
              "      <th>BGTicker</th>\n",
              "      <th>OtherTicker</th>\n",
              "      <th>VeryOddCompany</th>\n",
              "      <th>BGTicker.1</th>\n",
              "      <th>Unnamed: 5</th>\n",
              "      <th>Unnamed: 6</th>\n",
              "      <th>Unnamed: 7</th>\n",
              "      <th>Unnamed: 8</th>\n",
              "      <th>Unnamed: 9</th>\n",
              "      <th>Unnamed: 10</th>\n",
              "      <th>Unnamed: 11</th>\n",
              "      <th>Unnamed: 12</th>\n",
              "      <th>Unnamed: 13</th>\n",
              "      <th>Unnamed: 14</th>\n",
              "    </tr>\n",
              "  </thead>\n",
              "  <tbody>\n",
              "    <tr>\n",
              "      <th>0</th>\n",
              "      <td>0</td>\n",
              "      <td>1</td>\n",
              "      <td>\"Акционерный коммерческий банк \"Держава\" публи...</td>\n",
              "      <td>2021-06-02 12:47:55.100</td>\n",
              "      <td>NaN</td>\n",
              "      <td>NaN</td>\n",
              "      <td>NaN</td>\n",
              "      <td>NaN</td>\n",
              "      <td>DERZP</td>\n",
              "      <td>Держава</td>\n",
              "      <td>DERZHAVA</td>\n",
              "      <td>DERZ</td>\n",
              "      <td>NaN</td>\n",
              "      <td>NaN</td>\n",
              "      <td>NaN</td>\n",
              "      <td>NaN</td>\n",
              "      <td>NaN</td>\n",
              "      <td>NaN</td>\n",
              "      <td>NaN</td>\n",
              "    </tr>\n",
              "    <tr>\n",
              "      <th>1</th>\n",
              "      <td>1</td>\n",
              "      <td>2</td>\n",
              "      <td>\"МОСКОВСКИЙ КРЕДИТНЫЙ БАНК\" (публичное акционе...</td>\n",
              "      <td>2021-06-02 12:47:55.100</td>\n",
              "      <td>NaN</td>\n",
              "      <td>CBOM RX</td>\n",
              "      <td>NaN</td>\n",
              "      <td>NaN</td>\n",
              "      <td>NaN</td>\n",
              "      <td>Московский кредитный банк</td>\n",
              "      <td>мкб</td>\n",
              "      <td>Credit Bank of Moscow</td>\n",
              "      <td>Credit Bank</td>\n",
              "      <td>NaN</td>\n",
              "      <td>NaN</td>\n",
              "      <td>NaN</td>\n",
              "      <td>NaN</td>\n",
              "      <td>NaN</td>\n",
              "      <td>NaN</td>\n",
              "    </tr>\n",
              "  </tbody>\n",
              "</table>\n",
              "</div>"
            ],
            "text/plain": [
              "   Unnamed: 0  issuerid                                  EMITENT_FULL_NAME  \\\n",
              "0           0         1  \"Акционерный коммерческий банк \"Держава\" публи...   \n",
              "1           1         2  \"МОСКОВСКИЙ КРЕДИТНЫЙ БАНК\" (публичное акционе...   \n",
              "\n",
              "            datetrackstart  datetrackend BGTicker OtherTicker  VeryOddCompany  \\\n",
              "0  2021-06-02 12:47:55.100           NaN      NaN         NaN             NaN   \n",
              "1  2021-06-02 12:47:55.100           NaN  CBOM RX         NaN             NaN   \n",
              "\n",
              "  BGTicker.1                 Unnamed: 5 Unnamed: 6             Unnamed: 7  \\\n",
              "0      DERZP                    Держава   DERZHAVA                   DERZ   \n",
              "1        NaN  Московский кредитный банк        мкб  Credit Bank of Moscow   \n",
              "\n",
              "    Unnamed: 8 Unnamed: 9 Unnamed: 10 Unnamed: 11 Unnamed: 12 Unnamed: 13  \\\n",
              "0          NaN        NaN         NaN         NaN         NaN         NaN   \n",
              "1  Credit Bank        NaN         NaN         NaN         NaN         NaN   \n",
              "\n",
              "  Unnamed: 14  \n",
              "0         NaN  \n",
              "1         NaN  "
            ]
          },
          "execution_count": 9,
          "metadata": {},
          "output_type": "execute_result"
        }
      ],
      "source": [
        "names = issuers.merge(syn.drop(['EMITENT_FULL_NAME', 'BGTicker'], axis=1), on='issuerid', how='inner')\n",
        "names.head(2)"
      ]
    },
    {
      "cell_type": "code",
      "execution_count": null,
      "id": "bf11aaaa-c58c-45ef-8553-a75834600619",
      "metadata": {
        "id": "bf11aaaa-c58c-45ef-8553-a75834600619",
        "outputId": "cb2360c8-266a-4977-a894-910905f4f9f4"
      },
      "outputs": [
        {
          "data": {
            "text/plain": [
              "['EMITENT_FULL_NAME',\n",
              " 'BGTicker',\n",
              " 'OtherTicker',\n",
              " 'BGTicker.1',\n",
              " 'Unnamed: 5',\n",
              " 'Unnamed: 6',\n",
              " 'Unnamed: 7',\n",
              " 'Unnamed: 8',\n",
              " 'Unnamed: 9',\n",
              " 'Unnamed: 10',\n",
              " 'Unnamed: 11',\n",
              " 'Unnamed: 12',\n",
              " 'Unnamed: 13',\n",
              " 'Unnamed: 14']"
            ]
          },
          "execution_count": 10,
          "metadata": {},
          "output_type": "execute_result"
        }
      ],
      "source": [
        "l_syns = ['EMITENT_FULL_NAME', 'BGTicker', 'OtherTicker', 'BGTicker.1']\n",
        "for i in range(5, 15):\n",
        "    l_syns.append('Unnamed: '+str(i))\n",
        "l_syns"
      ]
    },
    {
      "cell_type": "code",
      "execution_count": null,
      "id": "2423a2ed-e806-4dfd-b1cd-a1a46fac377d",
      "metadata": {
        "id": "2423a2ed-e806-4dfd-b1cd-a1a46fac377d",
        "outputId": "ef829a52-8181-4eda-a1b0-a122470955ad"
      },
      "outputs": [
        {
          "name": "stdout",
          "output_type": "stream",
          "text": [
            "CPU times: total: 0 ns\n",
            "Wall time: 4.99 ms\n"
          ]
        },
        {
          "data": {
            "text/plain": [
              "0      [Держава, DERZ, DERZHAVA, \"Акционерный коммерч...\n",
              "1      [мкб, CBOM RX, Московский кредитный банк, Cred...\n",
              "2      [roads Bank, \"Российский акционерный коммерчес...\n",
              "3      [алроса, alrosa, ALRS RX, Акционерная компания...\n",
              "4      [Акционерный Коммерческий банк \"АВАНГАРД\" - пу...\n",
              "                             ...                        \n",
              "250                         [Хендерсон, Henderson, HNFG]\n",
              "251                       [Sovcombank, SVCB, Совкомбанк]\n",
              "252    [АЗС «Трасса», АЗС Трасса, Евротранс, EUTR, АЗ...\n",
              "253    [\"Каршеринг Руссия\", ПАО, ПАО \"Каршеринг Русси...\n",
              "254                             [Диасофт, DIAS, Diasoft]\n",
              "Name: l_syns, Length: 255, dtype: object"
            ]
          },
          "execution_count": 11,
          "metadata": {},
          "output_type": "execute_result"
        }
      ],
      "source": [
        "%%time\n",
        "names['l_syns'] = names[l_syns].apply(lambda x: [re.sub(r'\\s{2,}', '', a) for a in x if str(a) != 'nan'], axis=1)\n",
        "names['l_syns'] = names['l_syns'].apply(lambda x: list(set(x)))\n",
        "names['l_syns']"
      ]
    },
    {
      "cell_type": "code",
      "execution_count": null,
      "id": "b6da5b40-1b5f-4145-aa79-bad06d12e46e",
      "metadata": {
        "id": "b6da5b40-1b5f-4145-aa79-bad06d12e46e",
        "outputId": "7cbd7dba-a73c-4ba2-c80c-84c118286647"
      },
      "outputs": [
        {
          "data": {
            "text/html": [
              "<div>\n",
              "<style scoped>\n",
              "    .dataframe tbody tr th:only-of-type {\n",
              "        vertical-align: middle;\n",
              "    }\n",
              "\n",
              "    .dataframe tbody tr th {\n",
              "        vertical-align: top;\n",
              "    }\n",
              "\n",
              "    .dataframe thead th {\n",
              "        text-align: right;\n",
              "    }\n",
              "</style>\n",
              "<table border=\"1\" class=\"dataframe\">\n",
              "  <thead>\n",
              "    <tr style=\"text-align: right;\">\n",
              "      <th></th>\n",
              "      <th>issuerid</th>\n",
              "      <th>l_syns</th>\n",
              "    </tr>\n",
              "  </thead>\n",
              "  <tbody>\n",
              "    <tr>\n",
              "      <th>0</th>\n",
              "      <td>1</td>\n",
              "      <td>[Держава, DERZ, DERZHAVA, \"Акционерный коммерч...</td>\n",
              "    </tr>\n",
              "    <tr>\n",
              "      <th>1</th>\n",
              "      <td>2</td>\n",
              "      <td>[мкб, CBOM RX, Московский кредитный банк, Cred...</td>\n",
              "    </tr>\n",
              "    <tr>\n",
              "      <th>2</th>\n",
              "      <td>3</td>\n",
              "      <td>[roads Bank, \"Российский акционерный коммерчес...</td>\n",
              "    </tr>\n",
              "    <tr>\n",
              "      <th>3</th>\n",
              "      <td>4</td>\n",
              "      <td>[алроса, alrosa, ALRS RX, Акционерная компания...</td>\n",
              "    </tr>\n",
              "    <tr>\n",
              "      <th>4</th>\n",
              "      <td>5</td>\n",
              "      <td>[Акционерный Коммерческий банк \"АВАНГАРД\" - пу...</td>\n",
              "    </tr>\n",
              "  </tbody>\n",
              "</table>\n",
              "</div>"
            ],
            "text/plain": [
              "   issuerid                                             l_syns\n",
              "0         1  [Держава, DERZ, DERZHAVA, \"Акционерный коммерч...\n",
              "1         2  [мкб, CBOM RX, Московский кредитный банк, Cred...\n",
              "2         3  [roads Bank, \"Российский акционерный коммерчес...\n",
              "3         4  [алроса, alrosa, ALRS RX, Акционерная компания...\n",
              "4         5  [Акционерный Коммерческий банк \"АВАНГАРД\" - пу..."
            ]
          },
          "execution_count": 12,
          "metadata": {},
          "output_type": "execute_result"
        }
      ],
      "source": [
        "company_names = names[['issuerid', 'l_syns']].copy()\n",
        "company_names.head()"
      ]
    },
    {
      "cell_type": "code",
      "execution_count": null,
      "id": "1dc45e57-fe12-45d4-947f-1a6d8e440823",
      "metadata": {
        "id": "1dc45e57-fe12-45d4-947f-1a6d8e440823"
      },
      "outputs": [],
      "source": [
        "def ff(x):\n",
        "    for i in x:\n",
        "        if ' RX' in i:\n",
        "            x.append(i.split(' RX')[0])\n",
        "            break\n",
        "    return x"
      ]
    },
    {
      "cell_type": "code",
      "execution_count": null,
      "id": "b6135577-d751-42a4-becb-3970518da533",
      "metadata": {
        "id": "b6135577-d751-42a4-becb-3970518da533"
      },
      "outputs": [],
      "source": [
        "company_names['l_syns'] = company_names['l_syns'].apply(lambda x: ff(x))"
      ]
    },
    {
      "cell_type": "code",
      "execution_count": null,
      "id": "e99ef5a5-3614-4244-9165-d16a228d62fe",
      "metadata": {
        "id": "e99ef5a5-3614-4244-9165-d16a228d62fe",
        "outputId": "81e7c57c-68d9-4a05-d10c-c78048f455e2"
      },
      "outputs": [
        {
          "data": {
            "text/plain": [
              "['алроса',\n",
              " 'alrosa',\n",
              " 'ALRS RX',\n",
              " 'Акционерная компания \"АЛРОСА\" (публичное акционерное общество)',\n",
              " 'ALRS']"
            ]
          },
          "execution_count": 15,
          "metadata": {},
          "output_type": "execute_result"
        }
      ],
      "source": [
        "company_names['l_syns'].loc[3]"
      ]
    },
    {
      "cell_type": "code",
      "execution_count": null,
      "id": "fe531f81-3a4d-4a71-afd7-ded13109a970",
      "metadata": {
        "id": "fe531f81-3a4d-4a71-afd7-ded13109a970"
      },
      "outputs": [],
      "source": [
        "company_names.to_pickle('company_names2.pickle')"
      ]
    },
    {
      "cell_type": "markdown",
      "id": "3cb7747a-2e59-4272-972b-9a4f8b63cfc3",
      "metadata": {
        "id": "3cb7747a-2e59-4272-972b-9a4f8b63cfc3"
      },
      "source": [
        "### Создание обучающего датасета"
      ]
    },
    {
      "cell_type": "code",
      "execution_count": null,
      "id": "68452a54-5a64-4a86-a054-06a6d25d1ac5",
      "metadata": {
        "id": "68452a54-5a64-4a86-a054-06a6d25d1ac5",
        "outputId": "077854e2-943b-484d-fcb9-0c67a7bc2e6a"
      },
      "outputs": [
        {
          "data": {
            "text/plain": [
              "['cbom rx',\n",
              " '\"московский кредитный банк\" (публичное акционерное общество)',\n",
              " 'credit bank of moscow',\n",
              " 'московский кредитный банк',\n",
              " 'мкб',\n",
              " 'credit bank',\n",
              " 'cbom']"
            ]
          },
          "execution_count": 16,
          "metadata": {},
          "output_type": "execute_result"
        }
      ],
      "source": [
        "company_names = pd.read_pickle('company_names2.pickle')\n",
        "company_names['l_syns'] = company_names['l_syns'].apply(lambda x: [a.lower() for a in x])\n",
        "company_names['l_syns'].loc[1]"
      ]
    },
    {
      "cell_type": "code",
      "execution_count": null,
      "id": "b029a6a7-8dd8-4007-8980-482aeac7a418",
      "metadata": {
        "id": "b029a6a7-8dd8-4007-8980-482aeac7a418"
      },
      "outputs": [],
      "source": [
        "df = names_texts[['issuerid', 'MessageTextClean']].copy()"
      ]
    },
    {
      "cell_type": "code",
      "execution_count": null,
      "id": "090cf017-7958-49f9-bb1c-850330275b59",
      "metadata": {
        "id": "090cf017-7958-49f9-bb1c-850330275b59",
        "outputId": "416c1949-a1f3-41c6-f348-d2b18c968666"
      },
      "outputs": [
        {
          "data": {
            "text/plain": [
              "115"
            ]
          },
          "execution_count": 18,
          "metadata": {},
          "output_type": "execute_result"
        }
      ],
      "source": [
        "df.duplicated().sum()"
      ]
    },
    {
      "cell_type": "code",
      "execution_count": null,
      "id": "a90ea19b-cfa7-462f-acf1-ad83d7843d28",
      "metadata": {
        "id": "a90ea19b-cfa7-462f-acf1-ad83d7843d28"
      },
      "outputs": [],
      "source": [
        "df.drop_duplicates(inplace=True)"
      ]
    },
    {
      "cell_type": "code",
      "execution_count": null,
      "id": "a88c6f17-af16-470c-9327-fbff6c749909",
      "metadata": {
        "id": "a88c6f17-af16-470c-9327-fbff6c749909",
        "outputId": "8ed26afa-b765-495a-a161-96b14e94b4bd"
      },
      "outputs": [
        {
          "data": {
            "text/plain": [
              "{'text': ' Фокус недели #ФН Сегодня ММК опубликует финансовую отчётность за 1 кв. 2020 #MAGN #Отчетность Магнит представит операционные результаты за 1 кв. 2020 #MGNT #Результаты Новатэк опубликует финансовую отчётность за 1 кв. 2020 #NVTK #Отчетность ФРС США представит решение по процентной ставке #ФРС #Макро Tesla опубликует финансовую отчётность за 1 кв. 2020 #TSLA #Отчетность Microsoft опубликует финансовую отчётность за 1 кв. 2020 #MSFT #Отчетность Facebook опубликует финансовую отчётность за 1 кв. 2020 #FB #Отчетность 30 апреля Детский мир опубликует финансовую отчётность по МСФО за 2019 #DSKY #Отчетность Энел Россия опубликует финансовую отчётность по РСБУ за 1 кв. #ENRU #Отчетность Evraz представит операционные результаты за 1 кв. 2020 #EVR #Результаты НорНикель опубликует производственные результаты за 1 кв. 2020 #GMKN #Результаты РусГидро представит финансовую отчётность по РСБУ за 1 кв. 2020 #HYDR #Отчетность СД НЛМК рассмотрит дивиденды за 1 кв. 2020 #NLMK #Дивиденды Apple опубликует финансовую отчётность за 1 кв. 2020 #AAPL #Отчетность Amazon опубликует финансовую отчётность за 1 кв. 2020 #AMZN #Отчетность Gilead опубликует финансовую отчётность за 1 кв. 2020 #GILD #Отчетность 1 мая Торги на МосБирже не проводятся из-за праздников #MOEX #График Exxon Mobil опубликует финансовую отчетность за 1 кв. 2020 #XOM #Отчетность Chevron публикует финансовую отчетность за 1 кв. 2020 #CVX #Отчетность 4 мая Акции ЦМТ последний день торгуются с дивидендом 0,56 руб. на акцию #WTCM #Дивиденды',\n",
              " 'name': [(842, 850),\n",
              "  (225, 229),\n",
              "  (1214, 1222),\n",
              "  (169, 176),\n",
              "  (609, 620),\n",
              "  (1427, 1430),\n",
              "  (1255, 1259),\n",
              "  (825, 829),\n",
              "  (968, 972),\n",
              "  (26, 29),\n",
              "  (152, 157),\n",
              "  (927, 931),\n",
              "  (592, 596),\n",
              "  (672, 676),\n",
              "  (78, 82),\n",
              "  (530, 541),\n",
              "  (907, 911),\n",
              "  (761, 770)]}"
            ]
          },
          "execution_count": 23,
          "metadata": {},
          "output_type": "execute_result"
        }
      ],
      "source": [
        "stemmer = SnowballStemmer(\"russian\")\n",
        "company_names_uniq = company_names['issuerid'].unique()\n",
        "alphabet = set('абвгдеёжзийклмнопрстуфхцчшщъыьэюя0123456789abcdefghijklmnopqrstuvwxyz')\n",
        "\n",
        "def find_name(text, name, size):\n",
        "    name = name.lower()\n",
        "    l = [(m.start(), m.start()+size) for m in re.finditer(name, text)]\n",
        "    newl = []\n",
        "    #Проверка, что найденное название не является частью другого слова\n",
        "    for el in l:\n",
        "        if (el[0]>=0 and el[1]<len(text)) and (text[el[0]-1] not in alphabet and\n",
        "                                               text[el[1]] not in alphabet):\n",
        "            newl.append(el)\n",
        "    return newl\n",
        "\n",
        "k = 0\n",
        "def find_company_names(text, issuerid):\n",
        "    text = text.lower()\n",
        "    d = {}\n",
        "    d['text'] = text\n",
        "    names = company_names.loc[company_names['issuerid']==issuerid, 'l_syns'].iloc[0]\n",
        "    l = []\n",
        "    for name in names:\n",
        "        l.extend(find_name(text, name, len(name)))\n",
        "        name1 = stemmer.stem(name)\n",
        "        if not name.__eq__(name1):\n",
        "            l.extend(find_name(text, name1, len(name)))\n",
        "    l = list(set(l))\n",
        "    #Если сущность входит в другую сущность, то оставляем большую сущность\n",
        "    newl = []\n",
        "    for i in l:\n",
        "        f = True\n",
        "        for j in l:\n",
        "            if (i[0]>j[0] and i[1]<=j[1]) or (i[0]>=j[0] and i[1]<j[1]):\n",
        "                f = False\n",
        "                break\n",
        "        if f:\n",
        "            newl.append(i)\n",
        "    return newl\n",
        "\n",
        "def find_companies_names(text):\n",
        "    global k\n",
        "    subdf = df.loc[df['MessageTextClean']==text]\n",
        "    l = []\n",
        "    d = {}\n",
        "    for issuerid in company_names_uniq:\n",
        "        ll = find_company_names(text, issuerid)\n",
        "        l.extend(ll)\n",
        "    k += 1\n",
        "    d['text'] = text\n",
        "    d['name'] = list(set(l))\n",
        "    return d\n",
        "\n",
        "text = df.loc[0, 'MessageTextClean']\n",
        "jj = find_companies_names(text)\n",
        "jj"
      ]
    },
    {
      "cell_type": "code",
      "execution_count": null,
      "id": "b697884e-1ef2-4db2-8ef7-07d6b096a568",
      "metadata": {
        "id": "b697884e-1ef2-4db2-8ef7-07d6b096a568",
        "outputId": "940df7f6-91db-406f-b6ca-576ba9b67866"
      },
      "outputs": [
        {
          "name": "stdout",
          "output_type": "stream",
          "text": [
            " Фокус недели #ФН Сегодня ММК опубликует финансовую отчётность за 1 кв. 2020 #MAGN #Отчетность Магнит представит операционные результаты за 1 кв. 2020 #MGNT #Результаты Новатэк опубликует финансовую отчётность за 1 кв. 2020 #NVTK #Отчетность ФРС США представит решение по процентной ставке #ФРС #Макро Tesla опубликует финансовую отчётность за 1 кв. 2020 #TSLA #Отчетность Microsoft опубликует финансовую отчётность за 1 кв. 2020 #MSFT #Отчетность Facebook опубликует финансовую отчётность за 1 кв. 2020 #FB #Отчетность 30 апреля Детский мир опубликует финансовую отчётность по МСФО за 2019 #DSKY #Отчетность Энел Россия опубликует финансовую отчётность по РСБУ за 1 кв. #ENRU #Отчетность Evraz представит операционные результаты за 1 кв. 2020 #EVR #Результаты НорНикель опубликует производственные результаты за 1 кв. 2020 #GMKN #Результаты РусГидро представит финансовую отчётность по РСБУ за 1 кв. 2020 #HYDR #Отчетность СД НЛМК рассмотрит дивиденды за 1 кв. 2020 #NLMK #Дивиденды Apple опубликует финансовую отчётность за 1 кв. 2020 #AAPL #Отчетность Amazon опубликует финансовую отчётность за 1 кв. 2020 #AMZN #Отчетность Gilead опубликует финансовую отчётность за 1 кв. 2020 #GILD #Отчетность 1 мая Торги на МосБирже не проводятся из-за праздников #MOEX #График Exxon Mobil опубликует финансовую отчетность за 1 кв. 2020 #XOM #Отчетность Chevron публикует финансовую отчетность за 1 кв. 2020 #CVX #Отчетность 4 мая Акции ЦМТ последний день торгуются с дивидендом 0,56 руб. на акцию #WTCM #Дивиденды\n",
            "\n",
            "Companies -  ['РусГидро' 'NVTK' 'МосБирже' 'Новатэк' 'Энел Россия' 'ЦМТ' 'MOEX' 'GMKN'\n",
            " 'NLMK' 'ММК' 'MGNT ' 'НЛМК' 'DSKY' 'ENRU' 'MAGN' 'Детский мир' 'HYDR'\n",
            " 'НорНикель']\n"
          ]
        }
      ],
      "source": [
        "print(jj['text'])\n",
        "l = []\n",
        "for i in jj['name']:\n",
        "    l.append(jj['text'][i[0]:i[1]])\n",
        "print('\\nCompanies - ', np.array(l))"
      ]
    },
    {
      "cell_type": "code",
      "execution_count": null,
      "id": "cffc3274-9d68-4b46-ae36-a01598ee6351",
      "metadata": {
        "id": "cffc3274-9d68-4b46-ae36-a01598ee6351",
        "outputId": "8c72b56a-1467-4f9a-8bd5-429e9ca984fb"
      },
      "outputs": [
        {
          "data": {
            "text/html": [
              "<div>\n",
              "<style scoped>\n",
              "    .dataframe tbody tr th:only-of-type {\n",
              "        vertical-align: middle;\n",
              "    }\n",
              "\n",
              "    .dataframe tbody tr th {\n",
              "        vertical-align: top;\n",
              "    }\n",
              "\n",
              "    .dataframe thead th {\n",
              "        text-align: right;\n",
              "    }\n",
              "</style>\n",
              "<table border=\"1\" class=\"dataframe\">\n",
              "  <thead>\n",
              "    <tr style=\"text-align: right;\">\n",
              "      <th></th>\n",
              "      <th>ChannelID</th>\n",
              "      <th>messageid</th>\n",
              "      <th>issuerid</th>\n",
              "      <th>MessageID</th>\n",
              "      <th>DateAdded</th>\n",
              "      <th>DatePosted</th>\n",
              "      <th>MessageText</th>\n",
              "      <th>IsForward</th>\n",
              "      <th>MessageTextClean</th>\n",
              "    </tr>\n",
              "  </thead>\n",
              "  <tbody>\n",
              "    <tr>\n",
              "      <th>0</th>\n",
              "      <td>1197210433</td>\n",
              "      <td>5408</td>\n",
              "      <td>90</td>\n",
              "      <td>5408</td>\n",
              "      <td>2021-02-06 01:42:42</td>\n",
              "      <td>2020-04-29 07:29:01</td>\n",
              "      <td>?? Фокус недели #ФН  Сегодня ????? ММК опублик...</td>\n",
              "      <td>False</td>\n",
              "      <td>Фокус недели #ФН Сегодня ММК опубликует финан...</td>\n",
              "    </tr>\n",
              "  </tbody>\n",
              "</table>\n",
              "</div>"
            ],
            "text/plain": [
              "    ChannelID  messageid  issuerid  MessageID           DateAdded  \\\n",
              "0  1197210433       5408        90       5408 2021-02-06 01:42:42   \n",
              "\n",
              "           DatePosted                                        MessageText  \\\n",
              "0 2020-04-29 07:29:01  ?? Фокус недели #ФН  Сегодня ????? ММК опублик...   \n",
              "\n",
              "   IsForward                                   MessageTextClean  \n",
              "0      False   Фокус недели #ФН Сегодня ММК опубликует финан...  "
            ]
          },
          "execution_count": 25,
          "metadata": {},
          "output_type": "execute_result"
        }
      ],
      "source": [
        "names_texts = pd.read_pickle('mentions texts.pickle')\n",
        "names_texts = clear_text(names_texts)\n",
        "names_texts.loc[names_texts['MessageTextClean']==jj['text']]"
      ]
    },
    {
      "cell_type": "code",
      "execution_count": null,
      "id": "4706d333-bab7-4dfd-a1b3-2a9b1c0452b5",
      "metadata": {
        "id": "4706d333-bab7-4dfd-a1b3-2a9b1c0452b5"
      },
      "outputs": [],
      "source": [
        "from tqdm import tqdm\n",
        "pp = 0\n",
        "res = []\n",
        "uniq_texts = df['MessageTextClean'].unique()\n",
        "for i in tqdm(range(len(uniq_texts))):\n",
        "    d = find_companies_names(uniq_texts[i])\n",
        "    if d:\n",
        "        res.append(d)\n",
        "    else:\n",
        "        pp += 1"
      ]
    },
    {
      "cell_type": "code",
      "execution_count": null,
      "id": "671b5b39-7693-42e9-803e-eaf6356083ef",
      "metadata": {
        "id": "671b5b39-7693-42e9-803e-eaf6356083ef"
      },
      "outputs": [],
      "source": [
        "with open('data3_allnames.json', 'w') as f:\n",
        "    json.dump({'data': res}, f)"
      ]
    }
  ],
  "metadata": {
    "kernelspec": {
      "display_name": "Python 3 (ipykernel)",
      "language": "python",
      "name": "python3"
    },
    "language_info": {
      "codemirror_mode": {
        "name": "ipython",
        "version": 3
      },
      "file_extension": ".py",
      "mimetype": "text/x-python",
      "name": "python",
      "nbconvert_exporter": "python",
      "pygments_lexer": "ipython3",
      "version": "3.10.13"
    },
    "colab": {
      "provenance": []
    }
  },
  "nbformat": 4,
  "nbformat_minor": 5
}
