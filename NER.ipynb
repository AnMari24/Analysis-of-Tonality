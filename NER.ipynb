{
  "cells": [
    {
      "cell_type": "markdown",
      "source": [
        "# Обучение нейронной сети для решения задачи NER"
      ],
      "metadata": {
        "id": "UAhnjLEUesyW"
      },
      "id": "UAhnjLEUesyW"
    },
    {
      "cell_type": "code",
      "execution_count": 3,
      "id": "529b92b0",
      "metadata": {
        "id": "529b92b0"
      },
      "outputs": [],
      "source": [
        "import pandas as pd\n",
        "from tqdm import tqdm\n",
        "import json\n",
        "import numpy as np\n",
        "import torch\n",
        "from transformers import AutoTokenizer, AutoModel, AutoModelForTokenClassification\n",
        "from torch.utils.data import Dataset, DataLoader\n",
        "from sklearn.model_selection import train_test_split\n",
        "from torch.optim.lr_scheduler import ExponentialLR\n",
        "from sklearn.metrics import accuracy_score, f1_score"
      ]
    },
    {
      "cell_type": "code",
      "execution_count": 4,
      "id": "rM-JYhepVbH3",
      "metadata": {
        "colab": {
          "base_uri": "https://localhost:8080/"
        },
        "id": "rM-JYhepVbH3",
        "outputId": "a3493e5b-d15b-45c4-f458-8b14573232a8"
      },
      "outputs": [
        {
          "output_type": "stream",
          "name": "stdout",
          "text": [
            "Mounted at /content/drive\n"
          ]
        }
      ],
      "source": [
        "from google.colab import drive\n",
        "drive.mount('/content/drive')"
      ]
    },
    {
      "cell_type": "code",
      "execution_count": 5,
      "id": "DL_g9_Fir4iY",
      "metadata": {
        "id": "DL_g9_Fir4iY"
      },
      "outputs": [],
      "source": [
        "with open('/content/drive/MyDrive/data4_allnames.json', 'r') as json_file:\n",
        "    data = json.load(json_file)['data']"
      ]
    },
    {
      "cell_type": "code",
      "execution_count": 6,
      "id": "v3J7Zu_48_HI",
      "metadata": {
        "colab": {
          "base_uri": "https://localhost:8080/",
          "height": 269,
          "referenced_widgets": [
            "b64849f7eab04f38814179bc6d0a2d3d",
            "68b5cf611afd48d89e24cfc8eaa83999",
            "e02a51af931c49d59dba31cc5ef4e056",
            "decf67ab253446a0bbc2f5a8a50cb61f",
            "229709a63c2b4633bb6512b3202a03d9",
            "21f7e3a6b4ab48a3a9ae28a9a254e641",
            "f26b700375a9499eb7de0356f8fbe20e",
            "3de590a2e2a8425295db41f4e943a1b3",
            "7c12ecd01c28497f8b661395d6002e18",
            "0863862669b34e37bf58fef8fc2cc743",
            "3e4d2c1ecbab410dbc316d936549badf",
            "32284650b97c4ec2b4cd5c6dcf9a6d23",
            "386d47c0ad694a5cb408f47367b6196b",
            "b60696291e164ee7bd54d2866e3cef99",
            "31b6071eccef4d1a9f56012e294ba0d0",
            "05f6079c329e4f26a42d9516c4fc25f2",
            "e78a7585b0aa4ba7aec2dc86b313682a",
            "bcb2309f000243d09ad5c83c4d6d1fc0",
            "88ca6752b06943d5b1c8b59203bcc8f0",
            "66a65fe08dd74f0984e71adc46d1a153",
            "be1d784b2e2e48f5b62400085442c24c",
            "110942013f394b859077e15784dd6d06",
            "f66c46af18af4140a43c7c11374cd748",
            "8c53bebf9bfb45199cb4d1079a246251",
            "11194774efc74c62a47863f436c268b5",
            "7f70c6bea99c4606a3cfbc27cab909e9",
            "2938f61309604743a2fd210ef3af7dfb",
            "2077ed594f704f5189277fb31f3ccbf7",
            "efe050e42b7241ee9674ef30ff524b32",
            "18cf77721ce7436f90812ded9d7315d1",
            "04255237cc5e43acbe2458fa49b54f0f",
            "1d241b537384420facb8343e5c1befc1",
            "7ca249be6b0745d3879f84a560710b17",
            "538f77f1e6824c83a614e7a9db811436",
            "8e419e9a1ed245f0a54cee4c05ae865b",
            "89f2836bd17f42f1a5f8720497d22573",
            "f728dc6533654de58adbcbdc48301708",
            "44b3b90a37534eed9333790cd1a76939",
            "370eecc77d2a4fb5a5edbbc008cdfd03",
            "b7957e2b14904a9ca898fd03ca762f97",
            "4ea62a67653e4f608d082ecd887a0326",
            "2443ca6cdc5a40319ef27cdf702424c4",
            "53d564125b1745a38e64390d702df607",
            "5f3ac40e48704ba9be4edc626762922e"
          ]
        },
        "id": "v3J7Zu_48_HI",
        "outputId": "45559ab1-a1d8-4d5a-fb53-d36ea65a7f69"
      },
      "outputs": [
        {
          "output_type": "stream",
          "name": "stderr",
          "text": [
            "/usr/local/lib/python3.10/dist-packages/huggingface_hub/utils/_token.py:89: UserWarning: \n",
            "The secret `HF_TOKEN` does not exist in your Colab secrets.\n",
            "To authenticate with the Hugging Face Hub, create a token in your settings tab (https://huggingface.co/settings/tokens), set it as secret in your Google Colab and restart your session.\n",
            "You will be able to reuse this secret in all of your notebooks.\n",
            "Please note that authentication is recommended but still optional to access public models or datasets.\n",
            "  warnings.warn(\n"
          ]
        },
        {
          "output_type": "display_data",
          "data": {
            "text/plain": [
              "tokenizer_config.json:   0%|          | 0.00/582 [00:00<?, ?B/s]"
            ],
            "application/vnd.jupyter.widget-view+json": {
              "version_major": 2,
              "version_minor": 0,
              "model_id": "b64849f7eab04f38814179bc6d0a2d3d"
            }
          },
          "metadata": {}
        },
        {
          "output_type": "display_data",
          "data": {
            "text/plain": [
              "sentencepiece.bpe.model:   0%|          | 0.00/944k [00:00<?, ?B/s]"
            ],
            "application/vnd.jupyter.widget-view+json": {
              "version_major": 2,
              "version_minor": 0,
              "model_id": "32284650b97c4ec2b4cd5c6dcf9a6d23"
            }
          },
          "metadata": {}
        },
        {
          "output_type": "display_data",
          "data": {
            "text/plain": [
              "tokenizer.json:   0%|          | 0.00/1.51M [00:00<?, ?B/s]"
            ],
            "application/vnd.jupyter.widget-view+json": {
              "version_major": 2,
              "version_minor": 0,
              "model_id": "f66c46af18af4140a43c7c11374cd748"
            }
          },
          "metadata": {}
        },
        {
          "output_type": "display_data",
          "data": {
            "text/plain": [
              "special_tokens_map.json:   0%|          | 0.00/238 [00:00<?, ?B/s]"
            ],
            "application/vnd.jupyter.widget-view+json": {
              "version_major": 2,
              "version_minor": 0,
              "model_id": "538f77f1e6824c83a614e7a9db811436"
            }
          },
          "metadata": {}
        }
      ],
      "source": [
        "tokenizer = AutoTokenizer.from_pretrained('DeepPavlov/xlm-roberta-large-en-ru')"
      ]
    },
    {
      "cell_type": "code",
      "execution_count": 7,
      "id": "LGGlq10bE3lW",
      "metadata": {
        "id": "LGGlq10bE3lW"
      },
      "outputs": [],
      "source": [
        "class dataset(Dataset):\n",
        "    def __init__(self, data: dict, tokenizer, max_len: int):\n",
        "        self.len = len(data)\n",
        "        self.data = data\n",
        "        self.tokenizer = tokenizer\n",
        "        self.max_len = max_len\n",
        "        print('Label prepare')\n",
        "        self.__prepare_labels__()\n",
        "\n",
        "    def __prepare_labels__(self) -> list:\n",
        "        labels = []\n",
        "        tokens_l = []\n",
        "        for i in tqdm(range(0, len(self.data))):\n",
        "            text = self.data[i]['text']\n",
        "            name = self.data[i]['name']\n",
        "            name.sort()\n",
        "            startidx = 0\n",
        "            IO = []\n",
        "            tokens_t = []\n",
        "            for j in range(len(name)):\n",
        "                tokens = self.tokenizer.tokenize(text[startidx:name[j][0]])\n",
        "                IO.extend([0]*len(tokens))\n",
        "                tokens_t.extend(tokens)\n",
        "\n",
        "                tokens = self.tokenizer.tokenize(text[name[j][0]:name[j][1]])\n",
        "                IO.extend([1]*len(tokens))\n",
        "                tokens_t.extend(tokens)\n",
        "                startidx = name[j][1]\n",
        "            tokens = self.tokenizer.tokenize(text[startidx:])\n",
        "            IO.extend([0]*len(tokens))\n",
        "            tokens_t.extend(tokens)\n",
        "\n",
        "            labels.append(IO)\n",
        "            tokens_l.append(tokens_t)\n",
        "        self.labels = labels\n",
        "        self.tokens = tokens_l\n",
        "\n",
        "    def __getitem__(self, idx):\n",
        "        tokenized_text = self.tokens[idx]\n",
        "        labels = self.labels[idx]\n",
        "        maxlen = self.max_len\n",
        "\n",
        "        if (len(tokenized_text) > maxlen):\n",
        "          tokenized_text = tokenized_text[:maxlen]\n",
        "          labels = labels[:maxlen]\n",
        "        else:\n",
        "          tokenized_text = tokenized_text + ['[PAD]' for _ in range(maxlen - len(tokenized_text))]\n",
        "          labels = labels + [0 for _ in range(maxlen - len(labels))]\n",
        "\n",
        "        attn_mask = [1 if tok != '[PAD]' else 0 for tok in tokenized_text]\n",
        "\n",
        "        ids = self.tokenizer.convert_tokens_to_ids(tokenized_text)\n",
        "\n",
        "        return {\n",
        "              'ids': torch.tensor(ids, dtype=torch.long),\n",
        "              'mask': torch.tensor(attn_mask, dtype=torch.long),\n",
        "              'targets': torch.tensor(labels, dtype=torch.long)\n",
        "        }\n",
        "\n",
        "    def __len__(self):\n",
        "        return self.len"
      ]
    },
    {
      "cell_type": "code",
      "execution_count": 8,
      "id": "mG-amSA5M9KH",
      "metadata": {
        "id": "mG-amSA5M9KH"
      },
      "outputs": [],
      "source": [
        "train_data, val_data = train_test_split(data,\n",
        "                                        random_state = 77,\n",
        "                                        test_size = 0.3)"
      ]
    },
    {
      "cell_type": "code",
      "execution_count": 9,
      "id": "36b5N0LusI4c",
      "metadata": {
        "colab": {
          "base_uri": "https://localhost:8080/"
        },
        "id": "36b5N0LusI4c",
        "outputId": "6f7a190d-cd16-4aa1-a88e-9790c0f64623"
      },
      "outputs": [
        {
          "output_type": "stream",
          "name": "stdout",
          "text": [
            "Label prepare\n"
          ]
        },
        {
          "output_type": "stream",
          "name": "stderr",
          "text": [
            "100%|██████████| 11091/11091 [00:16<00:00, 666.62it/s]\n"
          ]
        },
        {
          "output_type": "stream",
          "name": "stdout",
          "text": [
            "Label prepare\n"
          ]
        },
        {
          "output_type": "stream",
          "name": "stderr",
          "text": [
            "100%|██████████| 4754/4754 [00:08<00:00, 589.25it/s]\n"
          ]
        }
      ],
      "source": [
        "MAX_LEN = 512\n",
        "train_dataset = dataset(train_data, tokenizer, MAX_LEN)\n",
        "val_dataset = dataset(val_data, tokenizer, MAX_LEN)"
      ]
    },
    {
      "cell_type": "code",
      "execution_count": 12,
      "id": "LIqTfVSEsIyh",
      "metadata": {
        "id": "LIqTfVSEsIyh"
      },
      "outputs": [],
      "source": [
        "train_params = {'batch_size': 3,\n",
        "                }\n",
        "\n",
        "test_params = {'batch_size': 3,\n",
        "                }\n",
        "\n",
        "train_loader = DataLoader(train_dataset, shuffle=True, **train_params)\n",
        "val_loader = DataLoader(val_dataset, **test_params)"
      ]
    },
    {
      "cell_type": "code",
      "execution_count": 13,
      "id": "gOp84nXpSU08",
      "metadata": {
        "id": "gOp84nXpSU08"
      },
      "outputs": [],
      "source": [
        "from torch import cuda\n",
        "device = 'cuda' if cuda.is_available() else 'cpu'"
      ]
    },
    {
      "cell_type": "code",
      "execution_count": 14,
      "id": "IIngIbxc9MCq",
      "metadata": {
        "colab": {
          "base_uri": "https://localhost:8080/",
          "height": 847,
          "referenced_widgets": [
            "2e0cb9bef5d14b47886e3456138395e0",
            "77adf6eff2774c379526945d8804760c",
            "ebdad3e42f5648c99644b54757c47ba1",
            "360ab2c42c0b41808f26e3034e53928f",
            "692ec9a8d87f4c2483df1e8458bbadb9",
            "4b04da1a378a44a1b629f7993f8d2a35",
            "55e1f5c9206e4dcc8a771ea477cf864a",
            "866c18864fcc4e4e937497e8725256ef",
            "749b27ea130942ecb5ee0c5ca3d799a4",
            "cc9afe2d56fc401da3c50de0eb1d4df3",
            "3f3b40d6185b4c7fbf4b991b2cd31f2f",
            "d32a3f77addf4b35aa1f9075e614e06d",
            "bdd690d1ef704fe79cc86c19d3c88fe1",
            "3728c14b174a4545a45d36701d8116b3",
            "4bea39f2688d4ad189925dc55a9e7cfa",
            "330ca88db5d04ffb84c9839c884ca43d",
            "d840c9a9d62041c8b2c91beb684ea2c8",
            "3faff3e79c5e4ea2b281bc32c6077475",
            "654dbc72eee5470487eccd7f8b62816b",
            "f72b0d5c9b774e5aa299d429845bd271",
            "7132c559617b472c85c71aa375787fbd",
            "916dc9371d794657be94ef491b705d7e"
          ]
        },
        "id": "IIngIbxc9MCq",
        "outputId": "a991ea74-b96c-4d7e-8fb9-12463531a585"
      },
      "outputs": [
        {
          "output_type": "display_data",
          "data": {
            "text/plain": [
              "config.json:   0%|          | 0.00/722 [00:00<?, ?B/s]"
            ],
            "application/vnd.jupyter.widget-view+json": {
              "version_major": 2,
              "version_minor": 0,
              "model_id": "2e0cb9bef5d14b47886e3456138395e0"
            }
          },
          "metadata": {}
        },
        {
          "output_type": "display_data",
          "data": {
            "text/plain": [
              "pytorch_model.bin:   0%|          | 0.00/1.36G [00:00<?, ?B/s]"
            ],
            "application/vnd.jupyter.widget-view+json": {
              "version_major": 2,
              "version_minor": 0,
              "model_id": "d32a3f77addf4b35aa1f9075e614e06d"
            }
          },
          "metadata": {}
        },
        {
          "output_type": "stream",
          "name": "stderr",
          "text": [
            "Some weights of XLMRobertaForTokenClassification were not initialized from the model checkpoint at DeepPavlov/xlm-roberta-large-en-ru and are newly initialized: ['classifier.bias', 'classifier.weight']\n",
            "You should probably TRAIN this model on a down-stream task to be able to use it for predictions and inference.\n"
          ]
        },
        {
          "output_type": "execute_result",
          "data": {
            "text/plain": [
              "XLMRobertaForTokenClassification(\n",
              "  (roberta): XLMRobertaModel(\n",
              "    (embeddings): XLMRobertaEmbeddings(\n",
              "      (word_embeddings): Embedding(35054, 1024, padding_idx=1)\n",
              "      (position_embeddings): Embedding(514, 1024, padding_idx=1)\n",
              "      (token_type_embeddings): Embedding(1, 1024)\n",
              "      (LayerNorm): LayerNorm((1024,), eps=1e-05, elementwise_affine=True)\n",
              "      (dropout): Dropout(p=0.1, inplace=False)\n",
              "    )\n",
              "    (encoder): XLMRobertaEncoder(\n",
              "      (layer): ModuleList(\n",
              "        (0-23): 24 x XLMRobertaLayer(\n",
              "          (attention): XLMRobertaAttention(\n",
              "            (self): XLMRobertaSelfAttention(\n",
              "              (query): Linear(in_features=1024, out_features=1024, bias=True)\n",
              "              (key): Linear(in_features=1024, out_features=1024, bias=True)\n",
              "              (value): Linear(in_features=1024, out_features=1024, bias=True)\n",
              "              (dropout): Dropout(p=0.1, inplace=False)\n",
              "            )\n",
              "            (output): XLMRobertaSelfOutput(\n",
              "              (dense): Linear(in_features=1024, out_features=1024, bias=True)\n",
              "              (LayerNorm): LayerNorm((1024,), eps=1e-05, elementwise_affine=True)\n",
              "              (dropout): Dropout(p=0.1, inplace=False)\n",
              "            )\n",
              "          )\n",
              "          (intermediate): XLMRobertaIntermediate(\n",
              "            (dense): Linear(in_features=1024, out_features=4096, bias=True)\n",
              "            (intermediate_act_fn): GELUActivation()\n",
              "          )\n",
              "          (output): XLMRobertaOutput(\n",
              "            (dense): Linear(in_features=4096, out_features=1024, bias=True)\n",
              "            (LayerNorm): LayerNorm((1024,), eps=1e-05, elementwise_affine=True)\n",
              "            (dropout): Dropout(p=0.1, inplace=False)\n",
              "          )\n",
              "        )\n",
              "      )\n",
              "    )\n",
              "  )\n",
              "  (dropout): Dropout(p=0.1, inplace=False)\n",
              "  (classifier): Linear(in_features=1024, out_features=2, bias=True)\n",
              ")"
            ]
          },
          "metadata": {},
          "execution_count": 14
        }
      ],
      "source": [
        "model = AutoModelForTokenClassification.from_pretrained('DeepPavlov/xlm-roberta-large-en-ru',\n",
        "                                                   num_labels=2)\n",
        "model.to(device)"
      ]
    },
    {
      "cell_type": "code",
      "execution_count": 15,
      "id": "9fv6oh-aSRxH",
      "metadata": {
        "id": "9fv6oh-aSRxH"
      },
      "outputs": [],
      "source": [
        "optimizer = torch.optim.Adam(params=model.parameters(), lr=0.00001)\n",
        "scheduler = ExponentialLR(optimizer, gamma=0.9)"
      ]
    },
    {
      "cell_type": "code",
      "execution_count": 16,
      "id": "et44Zcu-Oash",
      "metadata": {
        "id": "et44Zcu-Oash"
      },
      "outputs": [],
      "source": [
        "def train():\n",
        "    tr_accuracy = []\n",
        "    nb_tr_examples, nb_tr_steps = 0, 0\n",
        "    tr_loss = []\n",
        "    model.train()\n",
        "    acc = []\n",
        "    f1 = []\n",
        "\n",
        "    for idx, batch in tqdm(enumerate(train_loader)):\n",
        "\n",
        "        ids = batch['ids'].to(device, dtype = torch.long)\n",
        "        mask = batch['mask'].to(device, dtype = torch.long)\n",
        "        targets = batch['targets'].to(device, dtype = torch.long)\n",
        "\n",
        "        outputs = model(input_ids=ids, attention_mask=mask, labels=targets)\n",
        "        loss, tr_logits = outputs.loss, outputs.logits\n",
        "        tr_loss.append(loss.item())\n",
        "\n",
        "        nb_tr_steps += 1\n",
        "\n",
        "        # compute training accuracy\n",
        "        flattened_targets = targets.view(-1) # shape (batch_size * seq_len,)\n",
        "        active_logits = tr_logits.view(-1, model.num_labels) # shape (batch_size * seq_len, num_labels)\n",
        "        flattened_predictions = torch.argmax(active_logits, axis=1) # shape (batch_size * seq_len,)\n",
        "        # now, use mask to determine where we should compare predictions with targets\n",
        "        active_accuracy = mask.view(-1) == 1 # active accuracy is also of shape (batch_size * seq_len,)\n",
        "        targets = torch.masked_select(flattened_targets, active_accuracy)\n",
        "        predictions = torch.masked_select(flattened_predictions, active_accuracy)\n",
        "\n",
        "        acc.append(accuracy_score(targets.to('cpu').numpy(), predictions.to('cpu').numpy()))\n",
        "        f1.append(f1_score(targets.to('cpu').numpy(), predictions.to('cpu').numpy()))\n",
        "\n",
        "        if len(tr_loss) % 50 == 0:\n",
        "            print(\"Training loss: \", sum(tr_loss[-50:]) / len(tr_loss[-50:]))\n",
        "            print(\"Training accuracy: \", sum(acc[-50]) / len(acc[-50:]))\n",
        "            print(\"Training F1: \", sum(f1[-50:]) / len(f1[-50:]))\n",
        "\n",
        "        # backward pass\n",
        "        optimizer.zero_grad()\n",
        "        loss.backward()\n",
        "        optimizer.step()\n",
        "\n",
        "    scheduler.step()\n",
        "\n",
        "    epoch_loss = sum(tr_loss[-32:]) / len(tr_loss[-32:])\n",
        "    print(f\"Training loss epoch: {epoch_loss}\")\n",
        "    print(f\"Training Accuracy epoch: {acc_sum/acc_amount}\")"
      ]
    },
    {
      "cell_type": "code",
      "execution_count": 17,
      "id": "Syyc4VccQXn1",
      "metadata": {
        "colab": {
          "base_uri": "https://localhost:8080/",
          "height": 1000
        },
        "id": "Syyc4VccQXn1",
        "outputId": "bb62f995-666f-4009-be00-082a4aec3c0e"
      },
      "outputs": [
        {
          "output_type": "stream",
          "name": "stderr",
          "text": [
            "50it [00:48,  1.04it/s]"
          ]
        },
        {
          "output_type": "stream",
          "name": "stdout",
          "text": [
            "Training loss:  0.08912918768823147\n",
            "Training accuracy:  0.9091251702725777\n",
            "Training F1:  0.008\n"
          ]
        },
        {
          "output_type": "stream",
          "name": "stderr",
          "text": [
            "99it [01:36,  1.01it/s]"
          ]
        },
        {
          "output_type": "stream",
          "name": "stdout",
          "text": [
            "Training loss:  0.03790824256837368\n",
            "Training accuracy:  0.9611403279706139\n",
            "Training F1:  0.6606414434830158\n"
          ]
        },
        {
          "output_type": "stream",
          "name": "stderr",
          "text": [
            "149it [02:27,  1.01s/it]"
          ]
        },
        {
          "output_type": "stream",
          "name": "stdout",
          "text": [
            "Training loss:  0.022870921343564988\n",
            "Training accuracy:  0.9731617881456378\n",
            "Training F1:  0.8196245526602866\n"
          ]
        },
        {
          "output_type": "stream",
          "name": "stderr",
          "text": [
            "199it [03:17,  1.01s/it]"
          ]
        },
        {
          "output_type": "stream",
          "name": "stdout",
          "text": [
            "Training loss:  0.01890181325376034\n",
            "Training accuracy:  0.979934439149168\n",
            "Training F1:  0.8573548303670862\n"
          ]
        },
        {
          "output_type": "stream",
          "name": "stderr",
          "text": [
            "249it [04:08,  1.01s/it]"
          ]
        },
        {
          "output_type": "stream",
          "name": "stdout",
          "text": [
            "Training loss:  0.016670558694750072\n",
            "Training accuracy:  0.9814269542126732\n",
            "Training F1:  0.8803834338780052\n"
          ]
        },
        {
          "output_type": "stream",
          "name": "stderr",
          "text": [
            "299it [04:58,  1.01s/it]"
          ]
        },
        {
          "output_type": "stream",
          "name": "stdout",
          "text": [
            "Training loss:  0.010105416625738144\n",
            "Training accuracy:  0.986950239184661\n",
            "Training F1:  0.9276454804307783\n"
          ]
        },
        {
          "output_type": "stream",
          "name": "stderr",
          "text": [
            "349it [05:49,  1.01s/it]"
          ]
        },
        {
          "output_type": "stream",
          "name": "stdout",
          "text": [
            "Training loss:  0.012206819241400808\n",
            "Training accuracy:  0.9902562921942755\n",
            "Training F1:  0.9383540504704034\n"
          ]
        },
        {
          "output_type": "stream",
          "name": "stderr",
          "text": [
            "399it [06:40,  1.01s/it]"
          ]
        },
        {
          "output_type": "stream",
          "name": "stdout",
          "text": [
            "Training loss:  0.01004419445991516\n",
            "Training accuracy:  0.9938658651035187\n",
            "Training F1:  0.9436125190296059\n"
          ]
        },
        {
          "output_type": "stream",
          "name": "stderr",
          "text": [
            "449it [07:30,  1.01s/it]"
          ]
        },
        {
          "output_type": "stream",
          "name": "stdout",
          "text": [
            "Training loss:  0.025220740241929888\n",
            "Training accuracy:  0.9833011388385963\n",
            "Training F1:  0.8986641276717622\n"
          ]
        },
        {
          "output_type": "stream",
          "name": "stderr",
          "text": [
            "499it [08:21,  1.01s/it]"
          ]
        },
        {
          "output_type": "stream",
          "name": "stdout",
          "text": [
            "Training loss:  0.018069524466991425\n",
            "Training accuracy:  0.9767311781472445\n",
            "Training F1:  0.8696189597306385\n"
          ]
        },
        {
          "output_type": "stream",
          "name": "stderr",
          "text": [
            "549it [09:11,  1.01s/it]"
          ]
        },
        {
          "output_type": "stream",
          "name": "stdout",
          "text": [
            "Training loss:  0.01079185972455889\n",
            "Training accuracy:  0.9918513118849205\n",
            "Training F1:  0.9412606698991814\n"
          ]
        },
        {
          "output_type": "stream",
          "name": "stderr",
          "text": [
            "599it [10:02,  1.01s/it]"
          ]
        },
        {
          "output_type": "stream",
          "name": "stdout",
          "text": [
            "Training loss:  0.0060440999222919345\n",
            "Training accuracy:  0.9942982484211703\n",
            "Training F1:  0.9640277586768906\n"
          ]
        },
        {
          "output_type": "stream",
          "name": "stderr",
          "text": [
            "649it [10:52,  1.01s/it]"
          ]
        },
        {
          "output_type": "stream",
          "name": "stdout",
          "text": [
            "Training loss:  0.007102389249484986\n",
            "Training accuracy:  0.9923865133470055\n",
            "Training F1:  0.9461052785615788\n"
          ]
        },
        {
          "output_type": "stream",
          "name": "stderr",
          "text": [
            "699it [11:43,  1.01s/it]"
          ]
        },
        {
          "output_type": "stream",
          "name": "stdout",
          "text": [
            "Training loss:  0.006832580544287339\n",
            "Training accuracy:  0.9943309503499781\n",
            "Training F1:  0.9684571712619885\n"
          ]
        },
        {
          "output_type": "stream",
          "name": "stderr",
          "text": [
            "749it [12:33,  1.01s/it]"
          ]
        },
        {
          "output_type": "stream",
          "name": "stdout",
          "text": [
            "Training loss:  0.005269959655124694\n",
            "Training accuracy:  0.9953987579331447\n",
            "Training F1:  0.970221066866614\n"
          ]
        },
        {
          "output_type": "stream",
          "name": "stderr",
          "text": [
            "799it [13:24,  1.01s/it]"
          ]
        },
        {
          "output_type": "stream",
          "name": "stdout",
          "text": [
            "Training loss:  0.006650964936707169\n",
            "Training accuracy:  0.9948771641559029\n",
            "Training F1:  0.9621655357569164\n"
          ]
        },
        {
          "output_type": "stream",
          "name": "stderr",
          "text": [
            "849it [14:14,  1.01s/it]"
          ]
        },
        {
          "output_type": "stream",
          "name": "stdout",
          "text": [
            "Training loss:  0.006747743673622608\n",
            "Training accuracy:  0.9906420198232165\n",
            "Training F1:  0.9441289667102424\n"
          ]
        },
        {
          "output_type": "stream",
          "name": "stderr",
          "text": [
            "899it [15:05,  1.02s/it]"
          ]
        },
        {
          "output_type": "stream",
          "name": "stdout",
          "text": [
            "Training loss:  0.009390078706201167\n",
            "Training accuracy:  0.9910544982847082\n",
            "Training F1:  0.9490192539884535\n"
          ]
        },
        {
          "output_type": "stream",
          "name": "stderr",
          "text": [
            "949it [15:56,  1.01s/it]"
          ]
        },
        {
          "output_type": "stream",
          "name": "stdout",
          "text": [
            "Training loss:  0.006082221149699763\n",
            "Training accuracy:  0.9955734554499028\n",
            "Training F1:  0.9756183653691308\n"
          ]
        },
        {
          "output_type": "stream",
          "name": "stderr",
          "text": [
            "999it [16:46,  1.01s/it]"
          ]
        },
        {
          "output_type": "stream",
          "name": "stdout",
          "text": [
            "Training loss:  0.004842377952300012\n",
            "Training accuracy:  0.9967332775324845\n",
            "Training F1:  0.9764862624335536\n"
          ]
        },
        {
          "output_type": "stream",
          "name": "stderr",
          "text": [
            "1049it [17:37,  1.01s/it]"
          ]
        },
        {
          "output_type": "stream",
          "name": "stdout",
          "text": [
            "Training loss:  0.005891124026384205\n",
            "Training accuracy:  0.9955567103903743\n",
            "Training F1:  0.9675984892989499\n"
          ]
        },
        {
          "output_type": "stream",
          "name": "stderr",
          "text": [
            "1099it [18:27,  1.01s/it]"
          ]
        },
        {
          "output_type": "stream",
          "name": "stdout",
          "text": [
            "Training loss:  0.0054508237028494475\n",
            "Training accuracy:  0.9958365999268162\n",
            "Training F1:  0.9573632274591762\n"
          ]
        },
        {
          "output_type": "stream",
          "name": "stderr",
          "text": [
            "1149it [19:18,  1.01s/it]"
          ]
        },
        {
          "output_type": "stream",
          "name": "stdout",
          "text": [
            "Training loss:  0.004034022653941065\n",
            "Training accuracy:  0.9954863196941628\n",
            "Training F1:  0.9733361999675965\n"
          ]
        },
        {
          "output_type": "stream",
          "name": "stderr",
          "text": [
            "1199it [20:09,  1.01s/it]"
          ]
        },
        {
          "output_type": "stream",
          "name": "stdout",
          "text": [
            "Training loss:  0.00549261984298937\n",
            "Training accuracy:  0.9970704591276014\n",
            "Training F1:  0.9823484491578376\n"
          ]
        },
        {
          "output_type": "stream",
          "name": "stderr",
          "text": [
            "1249it [20:59,  1.01s/it]"
          ]
        },
        {
          "output_type": "stream",
          "name": "stdout",
          "text": [
            "Training loss:  0.004848419707268476\n",
            "Training accuracy:  0.9957534541781322\n",
            "Training F1:  0.9701348391056025\n"
          ]
        },
        {
          "output_type": "stream",
          "name": "stderr",
          "text": [
            "1299it [21:50,  1.08s/it]"
          ]
        },
        {
          "output_type": "stream",
          "name": "stdout",
          "text": [
            "Training loss:  0.006641539545962587\n",
            "Training accuracy:  0.9921863195846385\n",
            "Training F1:  0.9681614951168538\n"
          ]
        },
        {
          "output_type": "stream",
          "name": "stderr",
          "text": [
            "1349it [22:40,  1.02s/it]"
          ]
        },
        {
          "output_type": "stream",
          "name": "stdout",
          "text": [
            "Training loss:  0.0048892174707725645\n",
            "Training accuracy:  0.9963322845028059\n",
            "Training F1:  0.9789490993282333\n"
          ]
        },
        {
          "output_type": "stream",
          "name": "stderr",
          "text": [
            "1399it [23:31,  1.01s/it]"
          ]
        },
        {
          "output_type": "stream",
          "name": "stdout",
          "text": [
            "Training loss:  0.004479388244799338\n",
            "Training accuracy:  0.9970716731918162\n",
            "Training F1:  0.9756688166474576\n"
          ]
        },
        {
          "output_type": "stream",
          "name": "stderr",
          "text": [
            "1449it [24:21,  1.01s/it]"
          ]
        },
        {
          "output_type": "stream",
          "name": "stdout",
          "text": [
            "Training loss:  0.0038099805638194084\n",
            "Training accuracy:  0.9966577232829293\n",
            "Training F1:  0.9746849639872905\n"
          ]
        },
        {
          "output_type": "stream",
          "name": "stderr",
          "text": [
            "1499it [25:12,  1.01s/it]"
          ]
        },
        {
          "output_type": "stream",
          "name": "stdout",
          "text": [
            "Training loss:  0.0041367380711017174\n",
            "Training accuracy:  0.9970273143189928\n",
            "Training F1:  0.9796708880181189\n"
          ]
        },
        {
          "output_type": "stream",
          "name": "stderr",
          "text": [
            "1549it [26:03,  1.01s/it]"
          ]
        },
        {
          "output_type": "stream",
          "name": "stdout",
          "text": [
            "Training loss:  0.004999417343642562\n",
            "Training accuracy:  0.9954027560516705\n",
            "Training F1:  0.9706078685643366\n"
          ]
        },
        {
          "output_type": "stream",
          "name": "stderr",
          "text": [
            "1599it [26:53,  1.01s/it]"
          ]
        },
        {
          "output_type": "stream",
          "name": "stdout",
          "text": [
            "Training loss:  0.004255875666858628\n",
            "Training accuracy:  0.9973833128409986\n",
            "Training F1:  0.9802280156795605\n"
          ]
        },
        {
          "output_type": "stream",
          "name": "stderr",
          "text": [
            "1649it [27:44,  1.01s/it]"
          ]
        },
        {
          "output_type": "stream",
          "name": "stdout",
          "text": [
            "Training loss:  0.0027266331808641553\n",
            "Training accuracy:  0.9960671234853329\n",
            "Training F1:  0.9807570987064266\n"
          ]
        },
        {
          "output_type": "stream",
          "name": "stderr",
          "text": [
            "1699it [28:34,  1.01s/it]"
          ]
        },
        {
          "output_type": "stream",
          "name": "stdout",
          "text": [
            "Training loss:  0.0067132398847024885\n",
            "Training accuracy:  0.9945401941795836\n",
            "Training F1:  0.9667015872633519\n"
          ]
        },
        {
          "output_type": "stream",
          "name": "stderr",
          "text": [
            "1749it [29:25,  1.01s/it]"
          ]
        },
        {
          "output_type": "stream",
          "name": "stdout",
          "text": [
            "Training loss:  0.0030337096948642285\n",
            "Training accuracy:  0.9978118282703514\n",
            "Training F1:  0.9848693486491932\n"
          ]
        },
        {
          "output_type": "stream",
          "name": "stderr",
          "text": [
            "1799it [30:16,  1.02s/it]"
          ]
        },
        {
          "output_type": "stream",
          "name": "stdout",
          "text": [
            "Training loss:  0.0022248192246479446\n",
            "Training accuracy:  0.9986041683750517\n",
            "Training F1:  0.9900449063136689\n"
          ]
        },
        {
          "output_type": "stream",
          "name": "stderr",
          "text": [
            "1849it [31:06,  1.01s/it]"
          ]
        },
        {
          "output_type": "stream",
          "name": "stdout",
          "text": [
            "Training loss:  0.003805793414940126\n",
            "Training accuracy:  0.996709329321578\n",
            "Training F1:  0.9822602053508714\n"
          ]
        },
        {
          "output_type": "stream",
          "name": "stderr",
          "text": [
            "1899it [31:57,  1.01s/it]"
          ]
        },
        {
          "output_type": "stream",
          "name": "stdout",
          "text": [
            "Training loss:  0.004421068640658632\n",
            "Training accuracy:  0.9965462662815625\n",
            "Training F1:  0.9760330998513059\n"
          ]
        },
        {
          "output_type": "stream",
          "name": "stderr",
          "text": [
            "1949it [32:47,  1.02s/it]"
          ]
        },
        {
          "output_type": "stream",
          "name": "stdout",
          "text": [
            "Training loss:  0.0025012290294398553\n",
            "Training accuracy:  0.9962270454354732\n",
            "Training F1:  0.9830437430965131\n"
          ]
        },
        {
          "output_type": "stream",
          "name": "stderr",
          "text": [
            "1999it [33:38,  1.01s/it]"
          ]
        },
        {
          "output_type": "stream",
          "name": "stdout",
          "text": [
            "Training loss:  0.0017431196017423645\n",
            "Training accuracy:  0.9979862588832724\n",
            "Training F1:  0.9909860179095868\n"
          ]
        },
        {
          "output_type": "stream",
          "name": "stderr",
          "text": [
            "2049it [34:28,  1.01s/it]"
          ]
        },
        {
          "output_type": "stream",
          "name": "stdout",
          "text": [
            "Training loss:  0.003150752488290891\n",
            "Training accuracy:  0.9958720621187662\n",
            "Training F1:  0.9755401495915267\n"
          ]
        },
        {
          "output_type": "stream",
          "name": "stderr",
          "text": [
            "2099it [35:19,  1.01s/it]"
          ]
        },
        {
          "output_type": "stream",
          "name": "stdout",
          "text": [
            "Training loss:  0.0019689688517246394\n",
            "Training accuracy:  0.9982528338327953\n",
            "Training F1:  0.9888926605977757\n"
          ]
        },
        {
          "output_type": "stream",
          "name": "stderr",
          "text": [
            "2149it [36:10,  1.01s/it]"
          ]
        },
        {
          "output_type": "stream",
          "name": "stdout",
          "text": [
            "Training loss:  0.0017723110454971902\n",
            "Training accuracy:  0.9977873840523073\n",
            "Training F1:  0.9858653187389114\n"
          ]
        },
        {
          "output_type": "stream",
          "name": "stderr",
          "text": [
            "2199it [37:00,  1.01s/it]"
          ]
        },
        {
          "output_type": "stream",
          "name": "stdout",
          "text": [
            "Training loss:  0.0030578362883534283\n",
            "Training accuracy:  0.9983250051858417\n",
            "Training F1:  0.9853920774562593\n"
          ]
        },
        {
          "output_type": "stream",
          "name": "stderr",
          "text": [
            "2249it [37:51,  1.02s/it]"
          ]
        },
        {
          "output_type": "stream",
          "name": "stdout",
          "text": [
            "Training loss:  0.0030681589522282594\n",
            "Training accuracy:  0.9964443513982877\n",
            "Training F1:  0.9826371964221171\n"
          ]
        },
        {
          "output_type": "stream",
          "name": "stderr",
          "text": [
            "2299it [38:42,  1.02s/it]"
          ]
        },
        {
          "output_type": "stream",
          "name": "stdout",
          "text": [
            "Training loss:  0.001798958815925289\n",
            "Training accuracy:  0.9982580877691017\n",
            "Training F1:  0.9922808732214251\n"
          ]
        },
        {
          "output_type": "stream",
          "name": "stderr",
          "text": [
            "2349it [39:32,  1.01s/it]"
          ]
        },
        {
          "output_type": "stream",
          "name": "stdout",
          "text": [
            "Training loss:  0.002216384870989714\n",
            "Training accuracy:  0.998551370599744\n",
            "Training F1:  0.9906848310344859\n"
          ]
        },
        {
          "output_type": "stream",
          "name": "stderr",
          "text": [
            "2399it [40:23,  1.01s/it]"
          ]
        },
        {
          "output_type": "stream",
          "name": "stdout",
          "text": [
            "Training loss:  0.0027629442285979165\n",
            "Training accuracy:  0.9960685711611105\n",
            "Training F1:  0.9808816316557166\n"
          ]
        },
        {
          "output_type": "stream",
          "name": "stderr",
          "text": [
            "2449it [41:13,  1.02s/it]"
          ]
        },
        {
          "output_type": "stream",
          "name": "stdout",
          "text": [
            "Training loss:  0.0016847152667469345\n",
            "Training accuracy:  0.9985943121895585\n",
            "Training F1:  0.990758756081357\n"
          ]
        },
        {
          "output_type": "stream",
          "name": "stderr",
          "text": [
            "2499it [42:04,  1.01s/it]"
          ]
        },
        {
          "output_type": "stream",
          "name": "stdout",
          "text": [
            "Training loss:  0.002098030738416128\n",
            "Training accuracy:  0.9981275982421097\n",
            "Training F1:  0.9902054985445483\n"
          ]
        },
        {
          "output_type": "stream",
          "name": "stderr",
          "text": [
            "2549it [42:55,  1.01s/it]"
          ]
        },
        {
          "output_type": "stream",
          "name": "stdout",
          "text": [
            "Training loss:  0.0017871150749124353\n",
            "Training accuracy:  0.997690441253514\n",
            "Training F1:  0.9876398916241206\n"
          ]
        },
        {
          "output_type": "stream",
          "name": "stderr",
          "text": [
            "2599it [43:45,  1.01s/it]"
          ]
        },
        {
          "output_type": "stream",
          "name": "stdout",
          "text": [
            "Training loss:  0.0021024866958032364\n",
            "Training accuracy:  0.9984543189571415\n",
            "Training F1:  0.9872072246880848\n"
          ]
        },
        {
          "output_type": "stream",
          "name": "stderr",
          "text": [
            "2649it [44:36,  1.01s/it]"
          ]
        },
        {
          "output_type": "stream",
          "name": "stdout",
          "text": [
            "Training loss:  0.002223971162457019\n",
            "Training accuracy:  0.9988683553880136\n",
            "Training F1:  0.9888996005049137\n"
          ]
        },
        {
          "output_type": "stream",
          "name": "stderr",
          "text": [
            "2699it [45:26,  1.01s/it]"
          ]
        },
        {
          "output_type": "stream",
          "name": "stdout",
          "text": [
            "Training loss:  0.0020005394850159063\n",
            "Training accuracy:  0.9972287035599926\n",
            "Training F1:  0.9818212633349032\n"
          ]
        },
        {
          "output_type": "stream",
          "name": "stderr",
          "text": [
            "2749it [46:17,  1.02s/it]"
          ]
        },
        {
          "output_type": "stream",
          "name": "stdout",
          "text": [
            "Training loss:  0.002996393121429719\n",
            "Training accuracy:  0.9978406085932514\n",
            "Training F1:  0.9840363093395845\n"
          ]
        },
        {
          "output_type": "stream",
          "name": "stderr",
          "text": [
            "2799it [47:07,  1.01s/it]"
          ]
        },
        {
          "output_type": "stream",
          "name": "stdout",
          "text": [
            "Training loss:  0.0030017132597276943\n",
            "Training accuracy:  0.9965442181223664\n",
            "Training F1:  0.9757955821781377\n"
          ]
        },
        {
          "output_type": "stream",
          "name": "stderr",
          "text": [
            "2849it [47:58,  1.02s/it]"
          ]
        },
        {
          "output_type": "stream",
          "name": "stdout",
          "text": [
            "Training loss:  0.0010727626021252946\n",
            "Training accuracy:  0.999307308269629\n",
            "Training F1:  0.9908634270029714\n"
          ]
        },
        {
          "output_type": "stream",
          "name": "stderr",
          "text": [
            "2899it [48:49,  1.01s/it]"
          ]
        },
        {
          "output_type": "stream",
          "name": "stdout",
          "text": [
            "Training loss:  0.0012406721607840154\n",
            "Training accuracy:  0.9988703699201659\n",
            "Training F1:  0.9936040360925427\n"
          ]
        },
        {
          "output_type": "stream",
          "name": "stderr",
          "text": [
            "2949it [49:39,  1.01s/it]"
          ]
        },
        {
          "output_type": "stream",
          "name": "stdout",
          "text": [
            "Training loss:  0.0017173331754747779\n",
            "Training accuracy:  0.9979485719783437\n",
            "Training F1:  0.9837852662242906\n"
          ]
        },
        {
          "output_type": "stream",
          "name": "stderr",
          "text": [
            "2999it [50:30,  1.01s/it]"
          ]
        },
        {
          "output_type": "stream",
          "name": "stdout",
          "text": [
            "Training loss:  0.0025017880933592097\n",
            "Training accuracy:  0.9988749687090775\n",
            "Training F1:  0.9931453280729383\n"
          ]
        },
        {
          "output_type": "stream",
          "name": "stderr",
          "text": [
            "3049it [51:20,  1.01s/it]"
          ]
        },
        {
          "output_type": "stream",
          "name": "stdout",
          "text": [
            "Training loss:  0.005198499243124388\n",
            "Training accuracy:  0.9973662135471912\n",
            "Training F1:  0.9881920291511903\n"
          ]
        },
        {
          "output_type": "stream",
          "name": "stderr",
          "text": [
            "3099it [52:11,  1.01s/it]"
          ]
        },
        {
          "output_type": "stream",
          "name": "stdout",
          "text": [
            "Training loss:  0.0036646491230931133\n",
            "Training accuracy:  0.9968157335436767\n",
            "Training F1:  0.9834236579107888\n"
          ]
        },
        {
          "output_type": "stream",
          "name": "stderr",
          "text": [
            "3149it [53:02,  1.01s/it]"
          ]
        },
        {
          "output_type": "stream",
          "name": "stdout",
          "text": [
            "Training loss:  0.002245723991654813\n",
            "Training accuracy:  0.9975161378770313\n",
            "Training F1:  0.977703474085828\n"
          ]
        },
        {
          "output_type": "stream",
          "name": "stderr",
          "text": [
            "3199it [53:52,  1.01s/it]"
          ]
        },
        {
          "output_type": "stream",
          "name": "stdout",
          "text": [
            "Training loss:  0.0013973499440180603\n",
            "Training accuracy:  0.998604758470147\n",
            "Training F1:  0.9923316422672542\n"
          ]
        },
        {
          "output_type": "stream",
          "name": "stderr",
          "text": [
            "3249it [54:43,  1.02s/it]"
          ]
        },
        {
          "output_type": "stream",
          "name": "stdout",
          "text": [
            "Training loss:  0.0016466768804821186\n",
            "Training accuracy:  0.9992807018519371\n",
            "Training F1:  0.99517261749145\n"
          ]
        },
        {
          "output_type": "stream",
          "name": "stderr",
          "text": [
            "3299it [55:34,  1.01s/it]"
          ]
        },
        {
          "output_type": "stream",
          "name": "stdout",
          "text": [
            "Training loss:  0.0018404535559238865\n",
            "Training accuracy:  0.998106801100315\n",
            "Training F1:  0.9801988773163478\n"
          ]
        },
        {
          "output_type": "stream",
          "name": "stderr",
          "text": [
            "3349it [56:24,  1.02s/it]"
          ]
        },
        {
          "output_type": "stream",
          "name": "stdout",
          "text": [
            "Training loss:  0.0009067030888400041\n",
            "Training accuracy:  0.9995317446972994\n",
            "Training F1:  0.9961770100935752\n"
          ]
        },
        {
          "output_type": "stream",
          "name": "stderr",
          "text": [
            "3399it [57:15,  1.02s/it]"
          ]
        },
        {
          "output_type": "stream",
          "name": "stdout",
          "text": [
            "Training loss:  0.009782740254886449\n",
            "Training accuracy:  0.9920833397028974\n",
            "Training F1:  0.9463299938009606\n"
          ]
        },
        {
          "output_type": "stream",
          "name": "stderr",
          "text": [
            "3449it [58:06,  1.01s/it]"
          ]
        },
        {
          "output_type": "stream",
          "name": "stdout",
          "text": [
            "Training loss:  0.003278917629504576\n",
            "Training accuracy:  0.9966255358236521\n",
            "Training F1:  0.9802674009385594\n"
          ]
        },
        {
          "output_type": "stream",
          "name": "stderr",
          "text": [
            "3499it [58:56,  1.01s/it]"
          ]
        },
        {
          "output_type": "stream",
          "name": "stdout",
          "text": [
            "Training loss:  0.00261096729489509\n",
            "Training accuracy:  0.9973925637521448\n",
            "Training F1:  0.9863725428462051\n"
          ]
        },
        {
          "output_type": "stream",
          "name": "stderr",
          "text": [
            "3549it [59:47,  1.01s/it]"
          ]
        },
        {
          "output_type": "stream",
          "name": "stdout",
          "text": [
            "Training loss:  0.0022369440164766276\n",
            "Training accuracy:  0.9978938532930828\n",
            "Training F1:  0.9868224034923633\n"
          ]
        },
        {
          "output_type": "stream",
          "name": "stderr",
          "text": [
            "3599it [1:00:38,  1.01s/it]"
          ]
        },
        {
          "output_type": "stream",
          "name": "stdout",
          "text": [
            "Training loss:  0.0017181350031751207\n",
            "Training accuracy:  0.9988047683479493\n",
            "Training F1:  0.988881725215127\n"
          ]
        },
        {
          "output_type": "stream",
          "name": "stderr",
          "text": [
            "3649it [1:01:28,  1.01s/it]"
          ]
        },
        {
          "output_type": "stream",
          "name": "stdout",
          "text": [
            "Training loss:  0.0027727286165463738\n",
            "Training accuracy:  0.9977795339511398\n",
            "Training F1:  0.9863891905571383\n"
          ]
        },
        {
          "output_type": "stream",
          "name": "stderr",
          "text": [
            "3697it [1:02:17,  1.01s/it]"
          ]
        },
        {
          "output_type": "stream",
          "name": "stdout",
          "text": [
            "Training loss epoch: 0.002479028777770509\n"
          ]
        },
        {
          "output_type": "stream",
          "name": "stderr",
          "text": [
            "\n"
          ]
        },
        {
          "output_type": "error",
          "ename": "NameError",
          "evalue": "name 'acc_sum' is not defined",
          "traceback": [
            "\u001b[0;31m---------------------------------------------------------------------------\u001b[0m",
            "\u001b[0;31mNameError\u001b[0m                                 Traceback (most recent call last)",
            "\u001b[0;32m<ipython-input-17-2da0ffaf5447>\u001b[0m in \u001b[0;36m<cell line: 1>\u001b[0;34m()\u001b[0m\n\u001b[0;32m----> 1\u001b[0;31m \u001b[0mtrain\u001b[0m\u001b[0;34m(\u001b[0m\u001b[0;34m)\u001b[0m\u001b[0;34m\u001b[0m\u001b[0;34m\u001b[0m\u001b[0m\n\u001b[0m",
            "\u001b[0;32m<ipython-input-16-3c6e07486063>\u001b[0m in \u001b[0;36mtrain\u001b[0;34m()\u001b[0m\n\u001b[1;32m     54\u001b[0m     \u001b[0mepoch_loss\u001b[0m \u001b[0;34m=\u001b[0m \u001b[0msum\u001b[0m\u001b[0;34m(\u001b[0m\u001b[0mtr_loss\u001b[0m\u001b[0;34m[\u001b[0m\u001b[0;34m-\u001b[0m\u001b[0;36m32\u001b[0m\u001b[0;34m:\u001b[0m\u001b[0;34m]\u001b[0m\u001b[0;34m)\u001b[0m \u001b[0;34m/\u001b[0m \u001b[0mlen\u001b[0m\u001b[0;34m(\u001b[0m\u001b[0mtr_loss\u001b[0m\u001b[0;34m[\u001b[0m\u001b[0;34m-\u001b[0m\u001b[0;36m32\u001b[0m\u001b[0;34m:\u001b[0m\u001b[0;34m]\u001b[0m\u001b[0;34m)\u001b[0m\u001b[0;34m\u001b[0m\u001b[0;34m\u001b[0m\u001b[0m\n\u001b[1;32m     55\u001b[0m     \u001b[0mprint\u001b[0m\u001b[0;34m(\u001b[0m\u001b[0;34mf\"Training loss epoch: {epoch_loss}\"\u001b[0m\u001b[0;34m)\u001b[0m\u001b[0;34m\u001b[0m\u001b[0;34m\u001b[0m\u001b[0m\n\u001b[0;32m---> 56\u001b[0;31m     \u001b[0mprint\u001b[0m\u001b[0;34m(\u001b[0m\u001b[0;34mf\"Training Accuracy epoch: {acc_sum/acc_amount}\"\u001b[0m\u001b[0;34m)\u001b[0m\u001b[0;34m\u001b[0m\u001b[0;34m\u001b[0m\u001b[0m\n\u001b[0m\u001b[1;32m     57\u001b[0m \u001b[0;34m\u001b[0m\u001b[0m\n\u001b[1;32m     58\u001b[0m     \u001b[0;31m#validation()\u001b[0m\u001b[0;34m\u001b[0m\u001b[0;34m\u001b[0m\u001b[0m\n",
            "\u001b[0;31mNameError\u001b[0m: name 'acc_sum' is not defined"
          ]
        }
      ],
      "source": [
        "train()"
      ]
    },
    {
      "cell_type": "code",
      "execution_count": 18,
      "id": "E_fttjv_TJVX",
      "metadata": {
        "id": "E_fttjv_TJVX"
      },
      "outputs": [],
      "source": [
        "torch.save(model.state_dict(), '/content/drive/MyDrive/model_xlm_9864.pickle')"
      ]
    },
    {
      "cell_type": "code",
      "source": [
        "def val():\n",
        "    tr_accuracy = []\n",
        "    nb_tr_examples, nb_tr_steps = 0, 0\n",
        "    tr_loss = []\n",
        "    model.eval()\n",
        "    acc = []\n",
        "    f1 = []\n",
        "\n",
        "    for idx, batch in tqdm(enumerate(val_loader)):\n",
        "\n",
        "        ids = batch['ids'].to(device, dtype = torch.long)\n",
        "        mask = batch['mask'].to(device, dtype = torch.long)\n",
        "        targets = batch['targets'].to(device, dtype = torch.long)\n",
        "\n",
        "\n",
        "        outputs = model(input_ids=ids, attention_mask=mask, labels=targets)\n",
        "        loss, tr_logits = outputs.loss, outputs.logits\n",
        "        tr_loss.append(loss.item())\n",
        "\n",
        "        nb_tr_steps += 1\n",
        "\n",
        "        flattened_targets = targets.view(-1) # shape (batch_size * seq_len,)\n",
        "        active_logits = tr_logits.view(-1, model.num_labels) # shape (batch_size * seq_len, num_labels)\n",
        "        flattened_predictions = torch.argmax(active_logits, axis=1) # shape (batch_size * seq_len,)\n",
        "        # now, use mask to determine where we should compare predictions with targets\n",
        "        active_accuracy = mask.view(-1) == 1 # active accuracy is also of shape (batch_size * seq_len,)\n",
        "        targets = torch.masked_select(flattened_targets, active_accuracy)\n",
        "        predictions = torch.masked_select(flattened_predictions, active_accuracy)\n",
        "\n",
        "        acc.append(accuracy_score(targets.to('cpu').numpy(), predictions.to('cpu').numpy()))\n",
        "        f1.append(f1_score(targets.to('cpu').numpy(), predictions.to('cpu').numpy(), average=\"macro\"))\n",
        "\n",
        "        if len(tr_loss) % 25 == 0:\n",
        "            print(\"Val loss: \", sum(tr_loss[-25:]) / len(tr_loss[-25:]))\n",
        "            print(\"Val accuracy: \", sum(acc[-25:]) / len(acc[-25:]))\n",
        "            print(\"Val F1: \", sum(f1[-25:]) / len(f1[-25:]))\n",
        "\n",
        "    epoch_loss = sum(tr_loss[-32:]) / len(tr_loss[-32:])\n",
        "    print(f\"Val loss epoch: {epoch_loss}\")"
      ],
      "metadata": {
        "id": "6xKfsJCciVqw"
      },
      "id": "6xKfsJCciVqw",
      "execution_count": 19,
      "outputs": []
    },
    {
      "cell_type": "code",
      "source": [
        "val()"
      ],
      "metadata": {
        "colab": {
          "base_uri": "https://localhost:8080/"
        },
        "id": "n5PUpfMdiXwY",
        "outputId": "3b7d4557-97df-447a-c0f6-c332703d89e6"
      },
      "id": "n5PUpfMdiXwY",
      "execution_count": 21,
      "outputs": [
        {
          "output_type": "stream",
          "name": "stderr",
          "text": [
            "25it [00:07,  3.17it/s]"
          ]
        },
        {
          "output_type": "stream",
          "name": "stdout",
          "text": [
            "Val loss:  0.001369015403688536\n",
            "Val accuracy:  0.9988904325579459\n",
            "Val F1:  0.9962766109320836\n"
          ]
        },
        {
          "output_type": "stream",
          "name": "stderr",
          "text": [
            "50it [00:15,  3.21it/s]"
          ]
        },
        {
          "output_type": "stream",
          "name": "stdout",
          "text": [
            "Val loss:  0.0012710119283292443\n",
            "Val accuracy:  0.9992749782370385\n",
            "Val F1:  0.9978500800021165\n"
          ]
        },
        {
          "output_type": "stream",
          "name": "stderr",
          "text": [
            "75it [00:23,  3.19it/s]"
          ]
        },
        {
          "output_type": "stream",
          "name": "stdout",
          "text": [
            "Val loss:  0.0005652729573193938\n",
            "Val accuracy:  0.9996174571377712\n",
            "Val F1:  0.9986413727966658\n"
          ]
        },
        {
          "output_type": "stream",
          "name": "stderr",
          "text": [
            "100it [00:31,  3.18it/s]"
          ]
        },
        {
          "output_type": "stream",
          "name": "stdout",
          "text": [
            "Val loss:  0.0011441543184628243\n",
            "Val accuracy:  0.9987759909603185\n",
            "Val F1:  0.9958631084504891\n"
          ]
        },
        {
          "output_type": "stream",
          "name": "stderr",
          "text": [
            "125it [00:39,  3.17it/s]"
          ]
        },
        {
          "output_type": "stream",
          "name": "stdout",
          "text": [
            "Val loss:  0.001637979587976588\n",
            "Val accuracy:  0.9990430764225359\n",
            "Val F1:  0.9969553613061157\n"
          ]
        },
        {
          "output_type": "stream",
          "name": "stderr",
          "text": [
            "150it [00:47,  3.12it/s]"
          ]
        },
        {
          "output_type": "stream",
          "name": "stdout",
          "text": [
            "Val loss:  0.0018254056145815413\n",
            "Val accuracy:  0.9986640725368516\n",
            "Val F1:  0.9941291545274648\n"
          ]
        },
        {
          "output_type": "stream",
          "name": "stderr",
          "text": [
            "175it [00:55,  3.08it/s]"
          ]
        },
        {
          "output_type": "stream",
          "name": "stdout",
          "text": [
            "Val loss:  0.00098677971662255\n",
            "Val accuracy:  0.9986666637860435\n",
            "Val F1:  0.9958753517426331\n"
          ]
        },
        {
          "output_type": "stream",
          "name": "stderr",
          "text": [
            "200it [01:03,  3.08it/s]"
          ]
        },
        {
          "output_type": "stream",
          "name": "stdout",
          "text": [
            "Val loss:  0.0015896757980226538\n",
            "Val accuracy:  0.9985274189885124\n",
            "Val F1:  0.9960471471099326\n"
          ]
        },
        {
          "output_type": "stream",
          "name": "stderr",
          "text": [
            "225it [01:11,  3.05it/s]"
          ]
        },
        {
          "output_type": "stream",
          "name": "stdout",
          "text": [
            "Val loss:  0.00054762714804383\n",
            "Val accuracy:  0.9994038987599447\n",
            "Val F1:  0.997908527918548\n"
          ]
        },
        {
          "output_type": "stream",
          "name": "stderr",
          "text": [
            "250it [01:19,  3.06it/s]"
          ]
        },
        {
          "output_type": "stream",
          "name": "stdout",
          "text": [
            "Val loss:  0.002790802308009006\n",
            "Val accuracy:  0.997781610290835\n",
            "Val F1:  0.9926864577540107\n"
          ]
        },
        {
          "output_type": "stream",
          "name": "stderr",
          "text": [
            "275it [01:27,  3.01it/s]"
          ]
        },
        {
          "output_type": "stream",
          "name": "stdout",
          "text": [
            "Val loss:  0.0019167024281341583\n",
            "Val accuracy:  0.9975221432271328\n",
            "Val F1:  0.9934096346877473\n"
          ]
        },
        {
          "output_type": "stream",
          "name": "stderr",
          "text": [
            "300it [01:36,  2.96it/s]"
          ]
        },
        {
          "output_type": "stream",
          "name": "stdout",
          "text": [
            "Val loss:  0.001383317117288243\n",
            "Val accuracy:  0.9985761086968706\n",
            "Val F1:  0.9942394032410098\n"
          ]
        },
        {
          "output_type": "stream",
          "name": "stderr",
          "text": [
            "325it [01:44,  3.03it/s]"
          ]
        },
        {
          "output_type": "stream",
          "name": "stdout",
          "text": [
            "Val loss:  0.0015269340229860972\n",
            "Val accuracy:  0.9986110968901872\n",
            "Val F1:  0.9963258330655593\n"
          ]
        },
        {
          "output_type": "stream",
          "name": "stderr",
          "text": [
            "350it [01:52,  3.02it/s]"
          ]
        },
        {
          "output_type": "stream",
          "name": "stdout",
          "text": [
            "Val loss:  0.001337735232518753\n",
            "Val accuracy:  0.9987595540286068\n",
            "Val F1:  0.9920049129739357\n"
          ]
        },
        {
          "output_type": "stream",
          "name": "stderr",
          "text": [
            "375it [02:01,  3.03it/s]"
          ]
        },
        {
          "output_type": "stream",
          "name": "stdout",
          "text": [
            "Val loss:  0.0019095307230600155\n",
            "Val accuracy:  0.9984062259370537\n",
            "Val F1:  0.9942292059629401\n"
          ]
        },
        {
          "output_type": "stream",
          "name": "stderr",
          "text": [
            "400it [02:09,  3.05it/s]"
          ]
        },
        {
          "output_type": "stream",
          "name": "stdout",
          "text": [
            "Val loss:  0.0007396990159759298\n",
            "Val accuracy:  0.9995153511046886\n",
            "Val F1:  0.9973754699435611\n"
          ]
        },
        {
          "output_type": "stream",
          "name": "stderr",
          "text": [
            "425it [02:17,  3.05it/s]"
          ]
        },
        {
          "output_type": "stream",
          "name": "stdout",
          "text": [
            "Val loss:  0.0010617494060716126\n",
            "Val accuracy:  0.9992949376352753\n",
            "Val F1:  0.9968898665770928\n"
          ]
        },
        {
          "output_type": "stream",
          "name": "stderr",
          "text": [
            "450it [02:25,  3.04it/s]"
          ]
        },
        {
          "output_type": "stream",
          "name": "stdout",
          "text": [
            "Val loss:  0.0007523769281397108\n",
            "Val accuracy:  0.9995466934809408\n",
            "Val F1:  0.9979601422787241\n"
          ]
        },
        {
          "output_type": "stream",
          "name": "stderr",
          "text": [
            "475it [02:34,  3.01it/s]"
          ]
        },
        {
          "output_type": "stream",
          "name": "stdout",
          "text": [
            "Val loss:  0.0007915968450834043\n",
            "Val accuracy:  0.9993191634989198\n",
            "Val F1:  0.996541141465107\n"
          ]
        },
        {
          "output_type": "stream",
          "name": "stderr",
          "text": [
            "500it [02:42,  3.03it/s]"
          ]
        },
        {
          "output_type": "stream",
          "name": "stdout",
          "text": [
            "Val loss:  0.0023340504862426315\n",
            "Val accuracy:  0.9985375669039565\n",
            "Val F1:  0.9962440220291249\n"
          ]
        },
        {
          "output_type": "stream",
          "name": "stderr",
          "text": [
            "525it [02:50,  3.04it/s]"
          ]
        },
        {
          "output_type": "stream",
          "name": "stdout",
          "text": [
            "Val loss:  0.0019616673050040843\n",
            "Val accuracy:  0.998047794183875\n",
            "Val F1:  0.9914699344362041\n"
          ]
        },
        {
          "output_type": "stream",
          "name": "stderr",
          "text": [
            "550it [02:58,  3.03it/s]"
          ]
        },
        {
          "output_type": "stream",
          "name": "stdout",
          "text": [
            "Val loss:  0.002388266886409838\n",
            "Val accuracy:  0.9989518337118269\n",
            "Val F1:  0.9959869481094246\n"
          ]
        },
        {
          "output_type": "stream",
          "name": "stderr",
          "text": [
            "575it [03:07,  3.04it/s]"
          ]
        },
        {
          "output_type": "stream",
          "name": "stdout",
          "text": [
            "Val loss:  0.0012527088323258794\n",
            "Val accuracy:  0.9981894152006467\n",
            "Val F1:  0.9938583918657663\n"
          ]
        },
        {
          "output_type": "stream",
          "name": "stderr",
          "text": [
            "600it [03:15,  3.01it/s]"
          ]
        },
        {
          "output_type": "stream",
          "name": "stdout",
          "text": [
            "Val loss:  0.0011953983770217746\n",
            "Val accuracy:  0.9989473108889254\n",
            "Val F1:  0.9972867042434561\n"
          ]
        },
        {
          "output_type": "stream",
          "name": "stderr",
          "text": [
            "625it [03:23,  3.02it/s]"
          ]
        },
        {
          "output_type": "stream",
          "name": "stdout",
          "text": [
            "Val loss:  0.001847273627645336\n",
            "Val accuracy:  0.9986666944490977\n",
            "Val F1:  0.9943946998112938\n"
          ]
        },
        {
          "output_type": "stream",
          "name": "stderr",
          "text": [
            "650it [03:31,  3.02it/s]"
          ]
        },
        {
          "output_type": "stream",
          "name": "stdout",
          "text": [
            "Val loss:  0.0028519210674858185\n",
            "Val accuracy:  0.997648057750547\n",
            "Val F1:  0.9918353351422892\n"
          ]
        },
        {
          "output_type": "stream",
          "name": "stderr",
          "text": [
            "675it [03:40,  3.05it/s]"
          ]
        },
        {
          "output_type": "stream",
          "name": "stdout",
          "text": [
            "Val loss:  0.0004089089248736855\n",
            "Val accuracy:  0.9995961614143433\n",
            "Val F1:  0.999134532911448\n"
          ]
        },
        {
          "output_type": "stream",
          "name": "stderr",
          "text": [
            "700it [03:48,  3.04it/s]"
          ]
        },
        {
          "output_type": "stream",
          "name": "stdout",
          "text": [
            "Val loss:  0.0007352592104871292\n",
            "Val accuracy:  0.999687866241372\n",
            "Val F1:  0.9991777923782547\n"
          ]
        },
        {
          "output_type": "stream",
          "name": "stderr",
          "text": [
            "725it [03:56,  3.00it/s]"
          ]
        },
        {
          "output_type": "stream",
          "name": "stdout",
          "text": [
            "Val loss:  0.0009346883127000183\n",
            "Val accuracy:  0.9988789155081971\n",
            "Val F1:  0.9964430615324376\n"
          ]
        },
        {
          "output_type": "stream",
          "name": "stderr",
          "text": [
            "750it [04:05,  3.03it/s]"
          ]
        },
        {
          "output_type": "stream",
          "name": "stdout",
          "text": [
            "Val loss:  0.0016973443247843534\n",
            "Val accuracy:  0.9986420188055543\n",
            "Val F1:  0.9932238685749817\n"
          ]
        },
        {
          "output_type": "stream",
          "name": "stderr",
          "text": [
            "775it [04:13,  3.03it/s]"
          ]
        },
        {
          "output_type": "stream",
          "name": "stdout",
          "text": [
            "Val loss:  0.0017497982460190542\n",
            "Val accuracy:  0.9981343263772038\n",
            "Val F1:  0.9954288066684822\n"
          ]
        },
        {
          "output_type": "stream",
          "name": "stderr",
          "text": [
            "800it [04:21,  3.04it/s]"
          ]
        },
        {
          "output_type": "stream",
          "name": "stdout",
          "text": [
            "Val loss:  0.0020526319784403314\n",
            "Val accuracy:  0.9974815626674892\n",
            "Val F1:  0.9919660739832458\n"
          ]
        },
        {
          "output_type": "stream",
          "name": "stderr",
          "text": [
            "825it [04:29,  3.01it/s]"
          ]
        },
        {
          "output_type": "stream",
          "name": "stdout",
          "text": [
            "Val loss:  0.0013204361716634594\n",
            "Val accuracy:  0.9989807292129308\n",
            "Val F1:  0.9952313825271965\n"
          ]
        },
        {
          "output_type": "stream",
          "name": "stderr",
          "text": [
            "850it [04:38,  3.02it/s]"
          ]
        },
        {
          "output_type": "stream",
          "name": "stdout",
          "text": [
            "Val loss:  0.0014990641677286476\n",
            "Val accuracy:  0.9986609164109018\n",
            "Val F1:  0.9943350968324325\n"
          ]
        },
        {
          "output_type": "stream",
          "name": "stderr",
          "text": [
            "875it [04:46,  3.04it/s]"
          ]
        },
        {
          "output_type": "stream",
          "name": "stdout",
          "text": [
            "Val loss:  0.0011767973421956412\n",
            "Val accuracy:  0.9989495057064747\n",
            "Val F1:  0.9940608888407167\n"
          ]
        },
        {
          "output_type": "stream",
          "name": "stderr",
          "text": [
            "900it [04:54,  3.00it/s]"
          ]
        },
        {
          "output_type": "stream",
          "name": "stdout",
          "text": [
            "Val loss:  0.0018258472440356853\n",
            "Val accuracy:  0.9989773648557967\n",
            "Val F1:  0.9949873070886849\n"
          ]
        },
        {
          "output_type": "stream",
          "name": "stderr",
          "text": [
            "925it [05:02,  3.03it/s]"
          ]
        },
        {
          "output_type": "stream",
          "name": "stdout",
          "text": [
            "Val loss:  0.0014831781637622042\n",
            "Val accuracy:  0.999237294572785\n",
            "Val F1:  0.9973428580176267\n"
          ]
        },
        {
          "output_type": "stream",
          "name": "stderr",
          "text": [
            "950it [05:11,  3.02it/s]"
          ]
        },
        {
          "output_type": "stream",
          "name": "stdout",
          "text": [
            "Val loss:  0.0011672288803674746\n",
            "Val accuracy:  0.9988817454989973\n",
            "Val F1:  0.995676968397969\n"
          ]
        },
        {
          "output_type": "stream",
          "name": "stderr",
          "text": [
            "975it [05:19,  3.02it/s]"
          ]
        },
        {
          "output_type": "stream",
          "name": "stdout",
          "text": [
            "Val loss:  0.0016462452488485723\n",
            "Val accuracy:  0.9968210781625654\n",
            "Val F1:  0.9926683283619369\n"
          ]
        },
        {
          "output_type": "stream",
          "name": "stderr",
          "text": [
            "1000it [05:27,  3.04it/s]"
          ]
        },
        {
          "output_type": "stream",
          "name": "stdout",
          "text": [
            "Val loss:  0.001365056159265805\n",
            "Val accuracy:  0.9981464158707554\n",
            "Val F1:  0.9915308401714937\n"
          ]
        },
        {
          "output_type": "stream",
          "name": "stderr",
          "text": [
            "1025it [05:36,  3.00it/s]"
          ]
        },
        {
          "output_type": "stream",
          "name": "stdout",
          "text": [
            "Val loss:  0.0017031845623569097\n",
            "Val accuracy:  0.9993378804551838\n",
            "Val F1:  0.9975793314292645\n"
          ]
        },
        {
          "output_type": "stream",
          "name": "stderr",
          "text": [
            "1050it [05:44,  3.04it/s]"
          ]
        },
        {
          "output_type": "stream",
          "name": "stdout",
          "text": [
            "Val loss:  0.0007519905114895664\n",
            "Val accuracy:  0.9993619996674343\n",
            "Val F1:  0.997399504024759\n"
          ]
        },
        {
          "output_type": "stream",
          "name": "stderr",
          "text": [
            "1075it [05:52,  3.02it/s]"
          ]
        },
        {
          "output_type": "stream",
          "name": "stdout",
          "text": [
            "Val loss:  0.002200929993268801\n",
            "Val accuracy:  0.9983048883025636\n",
            "Val F1:  0.9941054858498312\n"
          ]
        },
        {
          "output_type": "stream",
          "name": "stderr",
          "text": [
            "1100it [06:00,  2.99it/s]"
          ]
        },
        {
          "output_type": "stream",
          "name": "stdout",
          "text": [
            "Val loss:  0.0005615275561285671\n",
            "Val accuracy:  0.9996001501678182\n",
            "Val F1:  0.9972561153235171\n"
          ]
        },
        {
          "output_type": "stream",
          "name": "stderr",
          "text": [
            "1125it [06:09,  3.02it/s]"
          ]
        },
        {
          "output_type": "stream",
          "name": "stdout",
          "text": [
            "Val loss:  0.002284587851027027\n",
            "Val accuracy:  0.9985926551965689\n",
            "Val F1:  0.9943722500744019\n"
          ]
        },
        {
          "output_type": "stream",
          "name": "stderr",
          "text": [
            "1150it [06:17,  3.01it/s]"
          ]
        },
        {
          "output_type": "stream",
          "name": "stdout",
          "text": [
            "Val loss:  0.001281121832143981\n",
            "Val accuracy:  0.9992476966139754\n",
            "Val F1:  0.9970373863871622\n"
          ]
        },
        {
          "output_type": "stream",
          "name": "stderr",
          "text": [
            "1175it [06:25,  3.01it/s]"
          ]
        },
        {
          "output_type": "stream",
          "name": "stdout",
          "text": [
            "Val loss:  0.0024910696054575967\n",
            "Val accuracy:  0.9965255249651526\n",
            "Val F1:  0.9867794134135832\n"
          ]
        },
        {
          "output_type": "stream",
          "name": "stderr",
          "text": [
            "1200it [06:34,  3.03it/s]"
          ]
        },
        {
          "output_type": "stream",
          "name": "stdout",
          "text": [
            "Val loss:  0.002764019733440364\n",
            "Val accuracy:  0.9975719952187471\n",
            "Val F1:  0.9900791735328227\n"
          ]
        },
        {
          "output_type": "stream",
          "name": "stderr",
          "text": [
            "1225it [06:42,  3.00it/s]"
          ]
        },
        {
          "output_type": "stream",
          "name": "stdout",
          "text": [
            "Val loss:  0.002939423503703438\n",
            "Val accuracy:  0.9980379749185434\n",
            "Val F1:  0.9934042881355919\n"
          ]
        },
        {
          "output_type": "stream",
          "name": "stderr",
          "text": [
            "1250it [06:50,  3.03it/s]"
          ]
        },
        {
          "output_type": "stream",
          "name": "stdout",
          "text": [
            "Val loss:  0.0014169453442445957\n",
            "Val accuracy:  0.9992728407820205\n",
            "Val F1:  0.997661054089926\n"
          ]
        },
        {
          "output_type": "stream",
          "name": "stderr",
          "text": [
            "1275it [06:58,  3.03it/s]"
          ]
        },
        {
          "output_type": "stream",
          "name": "stdout",
          "text": [
            "Val loss:  0.001532842439773958\n",
            "Val accuracy:  0.9985712899774997\n",
            "Val F1:  0.9954696555635971\n"
          ]
        },
        {
          "output_type": "stream",
          "name": "stderr",
          "text": [
            "1300it [07:07,  3.01it/s]"
          ]
        },
        {
          "output_type": "stream",
          "name": "stdout",
          "text": [
            "Val loss:  0.002365685153490631\n",
            "Val accuracy:  0.9982337838240274\n",
            "Val F1:  0.9930963248989382\n"
          ]
        },
        {
          "output_type": "stream",
          "name": "stderr",
          "text": [
            "1325it [07:15,  3.02it/s]"
          ]
        },
        {
          "output_type": "stream",
          "name": "stdout",
          "text": [
            "Val loss:  0.0016335834647179582\n",
            "Val accuracy:  0.999244163350721\n",
            "Val F1:  0.9962093356468589\n"
          ]
        },
        {
          "output_type": "stream",
          "name": "stderr",
          "text": [
            "1350it [07:23,  3.01it/s]"
          ]
        },
        {
          "output_type": "stream",
          "name": "stdout",
          "text": [
            "Val loss:  0.0017256932771124412\n",
            "Val accuracy:  0.9983912257864415\n",
            "Val F1:  0.9940221060941116\n"
          ]
        },
        {
          "output_type": "stream",
          "name": "stderr",
          "text": [
            "1375it [07:31,  3.02it/s]"
          ]
        },
        {
          "output_type": "stream",
          "name": "stdout",
          "text": [
            "Val loss:  0.0022727877844590694\n",
            "Val accuracy:  0.9983735302099828\n",
            "Val F1:  0.9949972042971492\n"
          ]
        },
        {
          "output_type": "stream",
          "name": "stderr",
          "text": [
            "1400it [07:40,  3.04it/s]"
          ]
        },
        {
          "output_type": "stream",
          "name": "stdout",
          "text": [
            "Val loss:  0.0015288333575153956\n",
            "Val accuracy:  0.998926892416176\n",
            "Val F1:  0.9963544302164603\n"
          ]
        },
        {
          "output_type": "stream",
          "name": "stderr",
          "text": [
            "1425it [07:48,  3.02it/s]"
          ]
        },
        {
          "output_type": "stream",
          "name": "stdout",
          "text": [
            "Val loss:  0.0013824776969704545\n",
            "Val accuracy:  0.9979005520939103\n",
            "Val F1:  0.9940701137527991\n"
          ]
        },
        {
          "output_type": "stream",
          "name": "stderr",
          "text": [
            "1450it [07:56,  3.03it/s]"
          ]
        },
        {
          "output_type": "stream",
          "name": "stdout",
          "text": [
            "Val loss:  0.002207404871151084\n",
            "Val accuracy:  0.9986108569582199\n",
            "Val F1:  0.9962702853835862\n"
          ]
        },
        {
          "output_type": "stream",
          "name": "stderr",
          "text": [
            "1475it [08:04,  3.02it/s]"
          ]
        },
        {
          "output_type": "stream",
          "name": "stdout",
          "text": [
            "Val loss:  0.0011341351504961495\n",
            "Val accuracy:  0.999227539634858\n",
            "Val F1:  0.9979445246583364\n"
          ]
        },
        {
          "output_type": "stream",
          "name": "stderr",
          "text": [
            "1500it [08:13,  3.01it/s]"
          ]
        },
        {
          "output_type": "stream",
          "name": "stdout",
          "text": [
            "Val loss:  0.001961194614414126\n",
            "Val accuracy:  0.9982650960975179\n",
            "Val F1:  0.9932800366933715\n"
          ]
        },
        {
          "output_type": "stream",
          "name": "stderr",
          "text": [
            "1525it [08:21,  3.01it/s]"
          ]
        },
        {
          "output_type": "stream",
          "name": "stdout",
          "text": [
            "Val loss:  0.0015902023165835998\n",
            "Val accuracy:  0.9973410689172947\n",
            "Val F1:  0.9918713839134585\n"
          ]
        },
        {
          "output_type": "stream",
          "name": "stderr",
          "text": [
            "1550it [08:29,  3.04it/s]"
          ]
        },
        {
          "output_type": "stream",
          "name": "stdout",
          "text": [
            "Val loss:  0.0015839362939004786\n",
            "Val accuracy:  0.9993699651087361\n",
            "Val F1:  0.9971142282432217\n"
          ]
        },
        {
          "output_type": "stream",
          "name": "stderr",
          "text": [
            "1575it [08:37,  3.02it/s]"
          ]
        },
        {
          "output_type": "stream",
          "name": "stdout",
          "text": [
            "Val loss:  0.001382182610250311\n",
            "Val accuracy:  0.9983589040811826\n",
            "Val F1:  0.9940853994693647\n"
          ]
        },
        {
          "output_type": "stream",
          "name": "stderr",
          "text": [
            "1585it [08:41,  3.04it/s]"
          ]
        },
        {
          "output_type": "stream",
          "name": "stdout",
          "text": [
            "Val loss epoch: 0.0011662682424002924\n"
          ]
        },
        {
          "output_type": "stream",
          "name": "stderr",
          "text": [
            "\n"
          ]
        }
      ]
    },
    {
      "cell_type": "code",
      "execution_count": 22,
      "id": "uyOMgICqTJXR",
      "metadata": {
        "colab": {
          "base_uri": "https://localhost:8080/"
        },
        "id": "uyOMgICqTJXR",
        "outputId": "69feee9a-c988-4752-e96b-4af84da035e7"
      },
      "outputs": [
        {
          "output_type": "stream",
          "name": "stderr",
          "text": [
            "1it [00:00, 23.26it/s]\n"
          ]
        }
      ],
      "source": [
        "for idx, batch in tqdm(enumerate(train_loader)):\n",
        "    if idx==0:\n",
        "\n",
        "        ids = batch['ids'].to(device, dtype = torch.long)\n",
        "        mask = batch['mask'].to(device, dtype = torch.long)\n",
        "        targets = batch['targets'].to(device, dtype = torch.long)\n",
        "\n",
        "        outputs = model(input_ids=ids, attention_mask=mask, labels=targets)\n",
        "        loss, tr_logits = outputs.loss, outputs.logits\n",
        "\n",
        "        flattened_targets = targets.view(-1) # shape (batch_size * seq_len,)\n",
        "        active_logits = tr_logits.view(-1, model.num_labels) # shape (batch_size * seq_len, num_labels)\n",
        "        flattened_predictions = torch.argmax(active_logits, axis=1) # shape (batch_size * seq_len,)\n",
        "    else: break"
      ]
    },
    {
      "cell_type": "code",
      "execution_count": 23,
      "id": "1VhwOGeOfkq3",
      "metadata": {
        "colab": {
          "base_uri": "https://localhost:8080/"
        },
        "id": "1VhwOGeOfkq3",
        "outputId": "d27d8142-ff62-4708-d170-05be0d864a55"
      },
      "outputs": [
        {
          "output_type": "execute_result",
          "data": {
            "text/plain": [
              "tensor([[ 3.4924, -4.1411],\n",
              "        [-3.5146,  4.0253],\n",
              "        [-3.6593,  4.0609],\n",
              "        [ 3.6932, -5.0133],\n",
              "        [ 4.3382, -5.2632],\n",
              "        [ 4.7030, -5.1718],\n",
              "        [ 3.6055, -4.3241],\n",
              "        [ 4.3836, -4.9923],\n",
              "        [ 1.4666, -2.1907],\n",
              "        [-3.6613,  4.5043],\n",
              "        [-2.8929,  4.0115],\n",
              "        [ 3.8535, -4.8592],\n",
              "        [ 4.5035, -5.1777],\n",
              "        [ 4.3001, -5.1229],\n",
              "        [ 4.6853, -5.3138],\n",
              "        [ 3.9623, -4.3422],\n",
              "        [ 3.9753, -4.3517],\n",
              "        [ 3.9952, -4.7968],\n",
              "        [-3.5200,  4.3695],\n",
              "        [-3.1462,  4.0493],\n",
              "        [ 3.7984, -5.2290],\n",
              "        [ 4.3840, -5.1624],\n",
              "        [ 5.1483, -5.8744],\n",
              "        [ 4.8928, -5.6284],\n",
              "        [ 5.1260, -5.6830],\n",
              "        [ 4.8706, -5.8235],\n",
              "        [ 5.0296, -5.7687],\n",
              "        [ 4.9136, -5.5723],\n",
              "        [ 4.9862, -5.9334],\n",
              "        [ 3.9249, -4.6148],\n",
              "        [ 1.4660, -2.1913],\n",
              "        [ 4.8604, -5.7044],\n",
              "        [ 4.5439, -5.3385],\n",
              "        [ 5.3385, -5.9935],\n",
              "        [ 4.8612, -5.7313],\n",
              "        [ 5.0252, -6.1255],\n",
              "        [ 4.9525, -5.4536],\n",
              "        [ 5.3798, -6.1545],\n",
              "        [ 5.2468, -6.0030],\n",
              "        [ 5.2196, -5.8375],\n",
              "        [ 3.5909, -3.8434],\n",
              "        [ 5.1087, -5.7255],\n",
              "        [ 4.4120, -4.7022],\n",
              "        [ 4.2184, -4.5099],\n",
              "        [ 3.8419, -4.5882],\n",
              "        [-3.3163,  4.2715],\n",
              "        [-3.0860,  4.0227],\n",
              "        [ 4.3478, -5.5652],\n",
              "        [ 5.1751, -5.7101],\n",
              "        [ 5.4098, -6.5657],\n",
              "        [ 5.4098, -6.5657],\n",
              "        [ 5.4098, -6.5657],\n",
              "        [ 5.4098, -6.5657],\n",
              "        [ 5.4098, -6.5657],\n",
              "        [ 5.4098, -6.5657],\n",
              "        [ 5.4098, -6.5657],\n",
              "        [ 5.4098, -6.5657],\n",
              "        [ 5.4098, -6.5657],\n",
              "        [ 5.4098, -6.5657],\n",
              "        [ 5.4098, -6.5657],\n",
              "        [ 5.4098, -6.5657],\n",
              "        [ 5.4098, -6.5657],\n",
              "        [ 5.4098, -6.5657],\n",
              "        [ 5.4098, -6.5657],\n",
              "        [ 5.4098, -6.5657],\n",
              "        [ 5.4098, -6.5657],\n",
              "        [ 5.4098, -6.5657],\n",
              "        [ 5.4098, -6.5657],\n",
              "        [ 5.4098, -6.5657],\n",
              "        [ 5.4098, -6.5657],\n",
              "        [ 5.4098, -6.5657],\n",
              "        [ 5.4098, -6.5657],\n",
              "        [ 5.4098, -6.5657],\n",
              "        [ 5.4098, -6.5657],\n",
              "        [ 5.4098, -6.5657],\n",
              "        [ 5.4098, -6.5657],\n",
              "        [ 5.4098, -6.5657],\n",
              "        [ 5.4098, -6.5657],\n",
              "        [ 5.4098, -6.5657],\n",
              "        [ 5.4098, -6.5657],\n",
              "        [ 5.4098, -6.5657],\n",
              "        [ 5.4098, -6.5657],\n",
              "        [ 5.4098, -6.5657],\n",
              "        [ 5.4098, -6.5657],\n",
              "        [ 5.4098, -6.5657],\n",
              "        [ 5.4098, -6.5657],\n",
              "        [ 5.4098, -6.5657],\n",
              "        [ 5.4098, -6.5657],\n",
              "        [ 5.4098, -6.5657],\n",
              "        [ 5.4098, -6.5657],\n",
              "        [ 5.4098, -6.5657],\n",
              "        [ 5.4098, -6.5657],\n",
              "        [ 5.4098, -6.5657],\n",
              "        [ 5.4098, -6.5657],\n",
              "        [ 5.4098, -6.5657],\n",
              "        [ 5.4098, -6.5657],\n",
              "        [ 5.4098, -6.5657],\n",
              "        [ 5.4098, -6.5657],\n",
              "        [ 5.4098, -6.5657],\n",
              "        [ 5.4098, -6.5657]], device='cuda:0', grad_fn=<SliceBackward0>)"
            ]
          },
          "metadata": {},
          "execution_count": 23
        }
      ],
      "source": [
        "tr_logits[0][:100]"
      ]
    },
    {
      "cell_type": "code",
      "execution_count": 24,
      "id": "3zkKxJlmTJZ4",
      "metadata": {
        "colab": {
          "base_uri": "https://localhost:8080/"
        },
        "id": "3zkKxJlmTJZ4",
        "outputId": "5c7d027b-bf26-4e2f-dd5d-ee83fbec6fb7"
      },
      "outputs": [
        {
          "output_type": "execute_result",
          "data": {
            "text/plain": [
              "tensor([0, 1, 1, 0, 0, 0, 0, 0, 0, 1, 1, 0, 0, 0, 0, 0, 0, 0, 1, 1, 0, 0, 0, 0,\n",
              "        0, 0, 0, 0, 0, 0, 0, 0, 0, 0, 0, 0, 0, 0, 0, 0, 0, 0, 0, 0, 0, 1, 1, 0,\n",
              "        0, 0, 0, 0, 0, 0, 0, 0, 0, 0, 0, 0, 0, 0, 0, 0, 0, 0, 0, 0, 0, 0, 0, 0,\n",
              "        0, 0, 0, 0, 0, 0, 0, 0, 0, 0, 0, 0, 0, 0, 0, 0, 0, 0, 0, 0, 0, 0, 0, 0,\n",
              "        0, 0, 0, 0], device='cuda:0')"
            ]
          },
          "metadata": {},
          "execution_count": 24
        }
      ],
      "source": [
        "flattened_targets[:100]"
      ]
    },
    {
      "cell_type": "code",
      "execution_count": 25,
      "id": "-IsKztnMhq8D",
      "metadata": {
        "colab": {
          "base_uri": "https://localhost:8080/"
        },
        "id": "-IsKztnMhq8D",
        "outputId": "6b3fb427-1694-4e37-d2ab-2e2d39cd6e47"
      },
      "outputs": [
        {
          "output_type": "execute_result",
          "data": {
            "text/plain": [
              "tensor([0, 1, 1, 0, 0, 0, 0, 0, 0, 1, 1, 0, 0, 0, 0, 0, 0, 0, 1, 1, 0, 0, 0, 0,\n",
              "        0, 0, 0, 0, 0, 0, 0, 0, 0, 0, 0, 0, 0, 0, 0, 0, 0, 0, 0, 0, 0, 1, 1, 0,\n",
              "        0, 0, 0, 0, 0, 0, 0, 0, 0, 0, 0, 0, 0, 0, 0, 0, 0, 0, 0, 0, 0, 0, 0, 0,\n",
              "        0, 0, 0, 0, 0, 0, 0, 0, 0, 0, 0, 0, 0, 0, 0, 0, 0, 0, 0, 0, 0, 0, 0, 0,\n",
              "        0, 0, 0, 0], device='cuda:0')"
            ]
          },
          "metadata": {},
          "execution_count": 25
        }
      ],
      "source": [
        "targets[0][:100]"
      ]
    },
    {
      "cell_type": "code",
      "execution_count": 27,
      "id": "n5lNBy55Zre9",
      "metadata": {
        "colab": {
          "base_uri": "https://localhost:8080/"
        },
        "id": "n5lNBy55Zre9",
        "outputId": "bc546ba3-64a3-4d1e-b312-867bce31c144"
      },
      "outputs": [
        {
          "output_type": "stream",
          "name": "stdout",
          "text": [
            "MT\n",
            "SS\n",
            "М\n",
            "ТС\n",
            "М\n",
            "ТС\n",
            "М\n",
            "ТС\n"
          ]
        }
      ],
      "source": [
        "for i in range(0, 512):\n",
        "  if targets[0][i] == 1:\n",
        "      m = tokenizer.decode(ids[0][i])\n",
        "      print(m)"
      ]
    },
    {
      "cell_type": "code",
      "execution_count": 28,
      "id": "sIlIUHdzhrB5",
      "metadata": {
        "colab": {
          "base_uri": "https://localhost:8080/"
        },
        "id": "sIlIUHdzhrB5",
        "outputId": "f0a3549f-ac85-485e-8945-4ae72fb30c44"
      },
      "outputs": [
        {
          "output_type": "stream",
          "name": "stdout",
          "text": [
            "MT\n",
            "SS\n",
            "М\n",
            "ТС\n",
            "М\n",
            "ТС\n",
            "М\n",
            "ТС\n"
          ]
        }
      ],
      "source": [
        "for i in range(0, 512):\n",
        "  if flattened_predictions[i] == 1:\n",
        "      m = tokenizer.decode(ids[0][i])\n",
        "      print(m)"
      ]
    }
  ],
  "metadata": {
    "accelerator": "GPU",
    "colab": {
      "gpuType": "T4",
      "provenance": []
    },
    "kernelspec": {
      "display_name": "Python 3",
      "name": "python3"
    },
    "language_info": {
      "codemirror_mode": {
        "name": "ipython",
        "version": 3
      },
      "file_extension": ".py",
      "mimetype": "text/x-python",
      "name": "python",
      "nbconvert_exporter": "python",
      "pygments_lexer": "ipython3",
      "version": "3.9.13"
    },
    "widgets": {
      "application/vnd.jupyter.widget-state+json": {
        "b64849f7eab04f38814179bc6d0a2d3d": {
          "model_module": "@jupyter-widgets/controls",
          "model_name": "HBoxModel",
          "model_module_version": "1.5.0",
          "state": {
            "_dom_classes": [],
            "_model_module": "@jupyter-widgets/controls",
            "_model_module_version": "1.5.0",
            "_model_name": "HBoxModel",
            "_view_count": null,
            "_view_module": "@jupyter-widgets/controls",
            "_view_module_version": "1.5.0",
            "_view_name": "HBoxView",
            "box_style": "",
            "children": [
              "IPY_MODEL_68b5cf611afd48d89e24cfc8eaa83999",
              "IPY_MODEL_e02a51af931c49d59dba31cc5ef4e056",
              "IPY_MODEL_decf67ab253446a0bbc2f5a8a50cb61f"
            ],
            "layout": "IPY_MODEL_229709a63c2b4633bb6512b3202a03d9"
          }
        },
        "68b5cf611afd48d89e24cfc8eaa83999": {
          "model_module": "@jupyter-widgets/controls",
          "model_name": "HTMLModel",
          "model_module_version": "1.5.0",
          "state": {
            "_dom_classes": [],
            "_model_module": "@jupyter-widgets/controls",
            "_model_module_version": "1.5.0",
            "_model_name": "HTMLModel",
            "_view_count": null,
            "_view_module": "@jupyter-widgets/controls",
            "_view_module_version": "1.5.0",
            "_view_name": "HTMLView",
            "description": "",
            "description_tooltip": null,
            "layout": "IPY_MODEL_21f7e3a6b4ab48a3a9ae28a9a254e641",
            "placeholder": "​",
            "style": "IPY_MODEL_f26b700375a9499eb7de0356f8fbe20e",
            "value": "tokenizer_config.json: 100%"
          }
        },
        "e02a51af931c49d59dba31cc5ef4e056": {
          "model_module": "@jupyter-widgets/controls",
          "model_name": "FloatProgressModel",
          "model_module_version": "1.5.0",
          "state": {
            "_dom_classes": [],
            "_model_module": "@jupyter-widgets/controls",
            "_model_module_version": "1.5.0",
            "_model_name": "FloatProgressModel",
            "_view_count": null,
            "_view_module": "@jupyter-widgets/controls",
            "_view_module_version": "1.5.0",
            "_view_name": "ProgressView",
            "bar_style": "success",
            "description": "",
            "description_tooltip": null,
            "layout": "IPY_MODEL_3de590a2e2a8425295db41f4e943a1b3",
            "max": 582,
            "min": 0,
            "orientation": "horizontal",
            "style": "IPY_MODEL_7c12ecd01c28497f8b661395d6002e18",
            "value": 582
          }
        },
        "decf67ab253446a0bbc2f5a8a50cb61f": {
          "model_module": "@jupyter-widgets/controls",
          "model_name": "HTMLModel",
          "model_module_version": "1.5.0",
          "state": {
            "_dom_classes": [],
            "_model_module": "@jupyter-widgets/controls",
            "_model_module_version": "1.5.0",
            "_model_name": "HTMLModel",
            "_view_count": null,
            "_view_module": "@jupyter-widgets/controls",
            "_view_module_version": "1.5.0",
            "_view_name": "HTMLView",
            "description": "",
            "description_tooltip": null,
            "layout": "IPY_MODEL_0863862669b34e37bf58fef8fc2cc743",
            "placeholder": "​",
            "style": "IPY_MODEL_3e4d2c1ecbab410dbc316d936549badf",
            "value": " 582/582 [00:00&lt;00:00, 36.9kB/s]"
          }
        },
        "229709a63c2b4633bb6512b3202a03d9": {
          "model_module": "@jupyter-widgets/base",
          "model_name": "LayoutModel",
          "model_module_version": "1.2.0",
          "state": {
            "_model_module": "@jupyter-widgets/base",
            "_model_module_version": "1.2.0",
            "_model_name": "LayoutModel",
            "_view_count": null,
            "_view_module": "@jupyter-widgets/base",
            "_view_module_version": "1.2.0",
            "_view_name": "LayoutView",
            "align_content": null,
            "align_items": null,
            "align_self": null,
            "border": null,
            "bottom": null,
            "display": null,
            "flex": null,
            "flex_flow": null,
            "grid_area": null,
            "grid_auto_columns": null,
            "grid_auto_flow": null,
            "grid_auto_rows": null,
            "grid_column": null,
            "grid_gap": null,
            "grid_row": null,
            "grid_template_areas": null,
            "grid_template_columns": null,
            "grid_template_rows": null,
            "height": null,
            "justify_content": null,
            "justify_items": null,
            "left": null,
            "margin": null,
            "max_height": null,
            "max_width": null,
            "min_height": null,
            "min_width": null,
            "object_fit": null,
            "object_position": null,
            "order": null,
            "overflow": null,
            "overflow_x": null,
            "overflow_y": null,
            "padding": null,
            "right": null,
            "top": null,
            "visibility": null,
            "width": null
          }
        },
        "21f7e3a6b4ab48a3a9ae28a9a254e641": {
          "model_module": "@jupyter-widgets/base",
          "model_name": "LayoutModel",
          "model_module_version": "1.2.0",
          "state": {
            "_model_module": "@jupyter-widgets/base",
            "_model_module_version": "1.2.0",
            "_model_name": "LayoutModel",
            "_view_count": null,
            "_view_module": "@jupyter-widgets/base",
            "_view_module_version": "1.2.0",
            "_view_name": "LayoutView",
            "align_content": null,
            "align_items": null,
            "align_self": null,
            "border": null,
            "bottom": null,
            "display": null,
            "flex": null,
            "flex_flow": null,
            "grid_area": null,
            "grid_auto_columns": null,
            "grid_auto_flow": null,
            "grid_auto_rows": null,
            "grid_column": null,
            "grid_gap": null,
            "grid_row": null,
            "grid_template_areas": null,
            "grid_template_columns": null,
            "grid_template_rows": null,
            "height": null,
            "justify_content": null,
            "justify_items": null,
            "left": null,
            "margin": null,
            "max_height": null,
            "max_width": null,
            "min_height": null,
            "min_width": null,
            "object_fit": null,
            "object_position": null,
            "order": null,
            "overflow": null,
            "overflow_x": null,
            "overflow_y": null,
            "padding": null,
            "right": null,
            "top": null,
            "visibility": null,
            "width": null
          }
        },
        "f26b700375a9499eb7de0356f8fbe20e": {
          "model_module": "@jupyter-widgets/controls",
          "model_name": "DescriptionStyleModel",
          "model_module_version": "1.5.0",
          "state": {
            "_model_module": "@jupyter-widgets/controls",
            "_model_module_version": "1.5.0",
            "_model_name": "DescriptionStyleModel",
            "_view_count": null,
            "_view_module": "@jupyter-widgets/base",
            "_view_module_version": "1.2.0",
            "_view_name": "StyleView",
            "description_width": ""
          }
        },
        "3de590a2e2a8425295db41f4e943a1b3": {
          "model_module": "@jupyter-widgets/base",
          "model_name": "LayoutModel",
          "model_module_version": "1.2.0",
          "state": {
            "_model_module": "@jupyter-widgets/base",
            "_model_module_version": "1.2.0",
            "_model_name": "LayoutModel",
            "_view_count": null,
            "_view_module": "@jupyter-widgets/base",
            "_view_module_version": "1.2.0",
            "_view_name": "LayoutView",
            "align_content": null,
            "align_items": null,
            "align_self": null,
            "border": null,
            "bottom": null,
            "display": null,
            "flex": null,
            "flex_flow": null,
            "grid_area": null,
            "grid_auto_columns": null,
            "grid_auto_flow": null,
            "grid_auto_rows": null,
            "grid_column": null,
            "grid_gap": null,
            "grid_row": null,
            "grid_template_areas": null,
            "grid_template_columns": null,
            "grid_template_rows": null,
            "height": null,
            "justify_content": null,
            "justify_items": null,
            "left": null,
            "margin": null,
            "max_height": null,
            "max_width": null,
            "min_height": null,
            "min_width": null,
            "object_fit": null,
            "object_position": null,
            "order": null,
            "overflow": null,
            "overflow_x": null,
            "overflow_y": null,
            "padding": null,
            "right": null,
            "top": null,
            "visibility": null,
            "width": null
          }
        },
        "7c12ecd01c28497f8b661395d6002e18": {
          "model_module": "@jupyter-widgets/controls",
          "model_name": "ProgressStyleModel",
          "model_module_version": "1.5.0",
          "state": {
            "_model_module": "@jupyter-widgets/controls",
            "_model_module_version": "1.5.0",
            "_model_name": "ProgressStyleModel",
            "_view_count": null,
            "_view_module": "@jupyter-widgets/base",
            "_view_module_version": "1.2.0",
            "_view_name": "StyleView",
            "bar_color": null,
            "description_width": ""
          }
        },
        "0863862669b34e37bf58fef8fc2cc743": {
          "model_module": "@jupyter-widgets/base",
          "model_name": "LayoutModel",
          "model_module_version": "1.2.0",
          "state": {
            "_model_module": "@jupyter-widgets/base",
            "_model_module_version": "1.2.0",
            "_model_name": "LayoutModel",
            "_view_count": null,
            "_view_module": "@jupyter-widgets/base",
            "_view_module_version": "1.2.0",
            "_view_name": "LayoutView",
            "align_content": null,
            "align_items": null,
            "align_self": null,
            "border": null,
            "bottom": null,
            "display": null,
            "flex": null,
            "flex_flow": null,
            "grid_area": null,
            "grid_auto_columns": null,
            "grid_auto_flow": null,
            "grid_auto_rows": null,
            "grid_column": null,
            "grid_gap": null,
            "grid_row": null,
            "grid_template_areas": null,
            "grid_template_columns": null,
            "grid_template_rows": null,
            "height": null,
            "justify_content": null,
            "justify_items": null,
            "left": null,
            "margin": null,
            "max_height": null,
            "max_width": null,
            "min_height": null,
            "min_width": null,
            "object_fit": null,
            "object_position": null,
            "order": null,
            "overflow": null,
            "overflow_x": null,
            "overflow_y": null,
            "padding": null,
            "right": null,
            "top": null,
            "visibility": null,
            "width": null
          }
        },
        "3e4d2c1ecbab410dbc316d936549badf": {
          "model_module": "@jupyter-widgets/controls",
          "model_name": "DescriptionStyleModel",
          "model_module_version": "1.5.0",
          "state": {
            "_model_module": "@jupyter-widgets/controls",
            "_model_module_version": "1.5.0",
            "_model_name": "DescriptionStyleModel",
            "_view_count": null,
            "_view_module": "@jupyter-widgets/base",
            "_view_module_version": "1.2.0",
            "_view_name": "StyleView",
            "description_width": ""
          }
        },
        "32284650b97c4ec2b4cd5c6dcf9a6d23": {
          "model_module": "@jupyter-widgets/controls",
          "model_name": "HBoxModel",
          "model_module_version": "1.5.0",
          "state": {
            "_dom_classes": [],
            "_model_module": "@jupyter-widgets/controls",
            "_model_module_version": "1.5.0",
            "_model_name": "HBoxModel",
            "_view_count": null,
            "_view_module": "@jupyter-widgets/controls",
            "_view_module_version": "1.5.0",
            "_view_name": "HBoxView",
            "box_style": "",
            "children": [
              "IPY_MODEL_386d47c0ad694a5cb408f47367b6196b",
              "IPY_MODEL_b60696291e164ee7bd54d2866e3cef99",
              "IPY_MODEL_31b6071eccef4d1a9f56012e294ba0d0"
            ],
            "layout": "IPY_MODEL_05f6079c329e4f26a42d9516c4fc25f2"
          }
        },
        "386d47c0ad694a5cb408f47367b6196b": {
          "model_module": "@jupyter-widgets/controls",
          "model_name": "HTMLModel",
          "model_module_version": "1.5.0",
          "state": {
            "_dom_classes": [],
            "_model_module": "@jupyter-widgets/controls",
            "_model_module_version": "1.5.0",
            "_model_name": "HTMLModel",
            "_view_count": null,
            "_view_module": "@jupyter-widgets/controls",
            "_view_module_version": "1.5.0",
            "_view_name": "HTMLView",
            "description": "",
            "description_tooltip": null,
            "layout": "IPY_MODEL_e78a7585b0aa4ba7aec2dc86b313682a",
            "placeholder": "​",
            "style": "IPY_MODEL_bcb2309f000243d09ad5c83c4d6d1fc0",
            "value": "sentencepiece.bpe.model: 100%"
          }
        },
        "b60696291e164ee7bd54d2866e3cef99": {
          "model_module": "@jupyter-widgets/controls",
          "model_name": "FloatProgressModel",
          "model_module_version": "1.5.0",
          "state": {
            "_dom_classes": [],
            "_model_module": "@jupyter-widgets/controls",
            "_model_module_version": "1.5.0",
            "_model_name": "FloatProgressModel",
            "_view_count": null,
            "_view_module": "@jupyter-widgets/controls",
            "_view_module_version": "1.5.0",
            "_view_name": "ProgressView",
            "bar_style": "success",
            "description": "",
            "description_tooltip": null,
            "layout": "IPY_MODEL_88ca6752b06943d5b1c8b59203bcc8f0",
            "max": 943862,
            "min": 0,
            "orientation": "horizontal",
            "style": "IPY_MODEL_66a65fe08dd74f0984e71adc46d1a153",
            "value": 943862
          }
        },
        "31b6071eccef4d1a9f56012e294ba0d0": {
          "model_module": "@jupyter-widgets/controls",
          "model_name": "HTMLModel",
          "model_module_version": "1.5.0",
          "state": {
            "_dom_classes": [],
            "_model_module": "@jupyter-widgets/controls",
            "_model_module_version": "1.5.0",
            "_model_name": "HTMLModel",
            "_view_count": null,
            "_view_module": "@jupyter-widgets/controls",
            "_view_module_version": "1.5.0",
            "_view_name": "HTMLView",
            "description": "",
            "description_tooltip": null,
            "layout": "IPY_MODEL_be1d784b2e2e48f5b62400085442c24c",
            "placeholder": "​",
            "style": "IPY_MODEL_110942013f394b859077e15784dd6d06",
            "value": " 944k/944k [00:00&lt;00:00, 7.52MB/s]"
          }
        },
        "05f6079c329e4f26a42d9516c4fc25f2": {
          "model_module": "@jupyter-widgets/base",
          "model_name": "LayoutModel",
          "model_module_version": "1.2.0",
          "state": {
            "_model_module": "@jupyter-widgets/base",
            "_model_module_version": "1.2.0",
            "_model_name": "LayoutModel",
            "_view_count": null,
            "_view_module": "@jupyter-widgets/base",
            "_view_module_version": "1.2.0",
            "_view_name": "LayoutView",
            "align_content": null,
            "align_items": null,
            "align_self": null,
            "border": null,
            "bottom": null,
            "display": null,
            "flex": null,
            "flex_flow": null,
            "grid_area": null,
            "grid_auto_columns": null,
            "grid_auto_flow": null,
            "grid_auto_rows": null,
            "grid_column": null,
            "grid_gap": null,
            "grid_row": null,
            "grid_template_areas": null,
            "grid_template_columns": null,
            "grid_template_rows": null,
            "height": null,
            "justify_content": null,
            "justify_items": null,
            "left": null,
            "margin": null,
            "max_height": null,
            "max_width": null,
            "min_height": null,
            "min_width": null,
            "object_fit": null,
            "object_position": null,
            "order": null,
            "overflow": null,
            "overflow_x": null,
            "overflow_y": null,
            "padding": null,
            "right": null,
            "top": null,
            "visibility": null,
            "width": null
          }
        },
        "e78a7585b0aa4ba7aec2dc86b313682a": {
          "model_module": "@jupyter-widgets/base",
          "model_name": "LayoutModel",
          "model_module_version": "1.2.0",
          "state": {
            "_model_module": "@jupyter-widgets/base",
            "_model_module_version": "1.2.0",
            "_model_name": "LayoutModel",
            "_view_count": null,
            "_view_module": "@jupyter-widgets/base",
            "_view_module_version": "1.2.0",
            "_view_name": "LayoutView",
            "align_content": null,
            "align_items": null,
            "align_self": null,
            "border": null,
            "bottom": null,
            "display": null,
            "flex": null,
            "flex_flow": null,
            "grid_area": null,
            "grid_auto_columns": null,
            "grid_auto_flow": null,
            "grid_auto_rows": null,
            "grid_column": null,
            "grid_gap": null,
            "grid_row": null,
            "grid_template_areas": null,
            "grid_template_columns": null,
            "grid_template_rows": null,
            "height": null,
            "justify_content": null,
            "justify_items": null,
            "left": null,
            "margin": null,
            "max_height": null,
            "max_width": null,
            "min_height": null,
            "min_width": null,
            "object_fit": null,
            "object_position": null,
            "order": null,
            "overflow": null,
            "overflow_x": null,
            "overflow_y": null,
            "padding": null,
            "right": null,
            "top": null,
            "visibility": null,
            "width": null
          }
        },
        "bcb2309f000243d09ad5c83c4d6d1fc0": {
          "model_module": "@jupyter-widgets/controls",
          "model_name": "DescriptionStyleModel",
          "model_module_version": "1.5.0",
          "state": {
            "_model_module": "@jupyter-widgets/controls",
            "_model_module_version": "1.5.0",
            "_model_name": "DescriptionStyleModel",
            "_view_count": null,
            "_view_module": "@jupyter-widgets/base",
            "_view_module_version": "1.2.0",
            "_view_name": "StyleView",
            "description_width": ""
          }
        },
        "88ca6752b06943d5b1c8b59203bcc8f0": {
          "model_module": "@jupyter-widgets/base",
          "model_name": "LayoutModel",
          "model_module_version": "1.2.0",
          "state": {
            "_model_module": "@jupyter-widgets/base",
            "_model_module_version": "1.2.0",
            "_model_name": "LayoutModel",
            "_view_count": null,
            "_view_module": "@jupyter-widgets/base",
            "_view_module_version": "1.2.0",
            "_view_name": "LayoutView",
            "align_content": null,
            "align_items": null,
            "align_self": null,
            "border": null,
            "bottom": null,
            "display": null,
            "flex": null,
            "flex_flow": null,
            "grid_area": null,
            "grid_auto_columns": null,
            "grid_auto_flow": null,
            "grid_auto_rows": null,
            "grid_column": null,
            "grid_gap": null,
            "grid_row": null,
            "grid_template_areas": null,
            "grid_template_columns": null,
            "grid_template_rows": null,
            "height": null,
            "justify_content": null,
            "justify_items": null,
            "left": null,
            "margin": null,
            "max_height": null,
            "max_width": null,
            "min_height": null,
            "min_width": null,
            "object_fit": null,
            "object_position": null,
            "order": null,
            "overflow": null,
            "overflow_x": null,
            "overflow_y": null,
            "padding": null,
            "right": null,
            "top": null,
            "visibility": null,
            "width": null
          }
        },
        "66a65fe08dd74f0984e71adc46d1a153": {
          "model_module": "@jupyter-widgets/controls",
          "model_name": "ProgressStyleModel",
          "model_module_version": "1.5.0",
          "state": {
            "_model_module": "@jupyter-widgets/controls",
            "_model_module_version": "1.5.0",
            "_model_name": "ProgressStyleModel",
            "_view_count": null,
            "_view_module": "@jupyter-widgets/base",
            "_view_module_version": "1.2.0",
            "_view_name": "StyleView",
            "bar_color": null,
            "description_width": ""
          }
        },
        "be1d784b2e2e48f5b62400085442c24c": {
          "model_module": "@jupyter-widgets/base",
          "model_name": "LayoutModel",
          "model_module_version": "1.2.0",
          "state": {
            "_model_module": "@jupyter-widgets/base",
            "_model_module_version": "1.2.0",
            "_model_name": "LayoutModel",
            "_view_count": null,
            "_view_module": "@jupyter-widgets/base",
            "_view_module_version": "1.2.0",
            "_view_name": "LayoutView",
            "align_content": null,
            "align_items": null,
            "align_self": null,
            "border": null,
            "bottom": null,
            "display": null,
            "flex": null,
            "flex_flow": null,
            "grid_area": null,
            "grid_auto_columns": null,
            "grid_auto_flow": null,
            "grid_auto_rows": null,
            "grid_column": null,
            "grid_gap": null,
            "grid_row": null,
            "grid_template_areas": null,
            "grid_template_columns": null,
            "grid_template_rows": null,
            "height": null,
            "justify_content": null,
            "justify_items": null,
            "left": null,
            "margin": null,
            "max_height": null,
            "max_width": null,
            "min_height": null,
            "min_width": null,
            "object_fit": null,
            "object_position": null,
            "order": null,
            "overflow": null,
            "overflow_x": null,
            "overflow_y": null,
            "padding": null,
            "right": null,
            "top": null,
            "visibility": null,
            "width": null
          }
        },
        "110942013f394b859077e15784dd6d06": {
          "model_module": "@jupyter-widgets/controls",
          "model_name": "DescriptionStyleModel",
          "model_module_version": "1.5.0",
          "state": {
            "_model_module": "@jupyter-widgets/controls",
            "_model_module_version": "1.5.0",
            "_model_name": "DescriptionStyleModel",
            "_view_count": null,
            "_view_module": "@jupyter-widgets/base",
            "_view_module_version": "1.2.0",
            "_view_name": "StyleView",
            "description_width": ""
          }
        },
        "f66c46af18af4140a43c7c11374cd748": {
          "model_module": "@jupyter-widgets/controls",
          "model_name": "HBoxModel",
          "model_module_version": "1.5.0",
          "state": {
            "_dom_classes": [],
            "_model_module": "@jupyter-widgets/controls",
            "_model_module_version": "1.5.0",
            "_model_name": "HBoxModel",
            "_view_count": null,
            "_view_module": "@jupyter-widgets/controls",
            "_view_module_version": "1.5.0",
            "_view_name": "HBoxView",
            "box_style": "",
            "children": [
              "IPY_MODEL_8c53bebf9bfb45199cb4d1079a246251",
              "IPY_MODEL_11194774efc74c62a47863f436c268b5",
              "IPY_MODEL_7f70c6bea99c4606a3cfbc27cab909e9"
            ],
            "layout": "IPY_MODEL_2938f61309604743a2fd210ef3af7dfb"
          }
        },
        "8c53bebf9bfb45199cb4d1079a246251": {
          "model_module": "@jupyter-widgets/controls",
          "model_name": "HTMLModel",
          "model_module_version": "1.5.0",
          "state": {
            "_dom_classes": [],
            "_model_module": "@jupyter-widgets/controls",
            "_model_module_version": "1.5.0",
            "_model_name": "HTMLModel",
            "_view_count": null,
            "_view_module": "@jupyter-widgets/controls",
            "_view_module_version": "1.5.0",
            "_view_name": "HTMLView",
            "description": "",
            "description_tooltip": null,
            "layout": "IPY_MODEL_2077ed594f704f5189277fb31f3ccbf7",
            "placeholder": "​",
            "style": "IPY_MODEL_efe050e42b7241ee9674ef30ff524b32",
            "value": "tokenizer.json: 100%"
          }
        },
        "11194774efc74c62a47863f436c268b5": {
          "model_module": "@jupyter-widgets/controls",
          "model_name": "FloatProgressModel",
          "model_module_version": "1.5.0",
          "state": {
            "_dom_classes": [],
            "_model_module": "@jupyter-widgets/controls",
            "_model_module_version": "1.5.0",
            "_model_name": "FloatProgressModel",
            "_view_count": null,
            "_view_module": "@jupyter-widgets/controls",
            "_view_module_version": "1.5.0",
            "_view_name": "ProgressView",
            "bar_style": "success",
            "description": "",
            "description_tooltip": null,
            "layout": "IPY_MODEL_18cf77721ce7436f90812ded9d7315d1",
            "max": 1506784,
            "min": 0,
            "orientation": "horizontal",
            "style": "IPY_MODEL_04255237cc5e43acbe2458fa49b54f0f",
            "value": 1506784
          }
        },
        "7f70c6bea99c4606a3cfbc27cab909e9": {
          "model_module": "@jupyter-widgets/controls",
          "model_name": "HTMLModel",
          "model_module_version": "1.5.0",
          "state": {
            "_dom_classes": [],
            "_model_module": "@jupyter-widgets/controls",
            "_model_module_version": "1.5.0",
            "_model_name": "HTMLModel",
            "_view_count": null,
            "_view_module": "@jupyter-widgets/controls",
            "_view_module_version": "1.5.0",
            "_view_name": "HTMLView",
            "description": "",
            "description_tooltip": null,
            "layout": "IPY_MODEL_1d241b537384420facb8343e5c1befc1",
            "placeholder": "​",
            "style": "IPY_MODEL_7ca249be6b0745d3879f84a560710b17",
            "value": " 1.51M/1.51M [00:00&lt;00:00, 4.78MB/s]"
          }
        },
        "2938f61309604743a2fd210ef3af7dfb": {
          "model_module": "@jupyter-widgets/base",
          "model_name": "LayoutModel",
          "model_module_version": "1.2.0",
          "state": {
            "_model_module": "@jupyter-widgets/base",
            "_model_module_version": "1.2.0",
            "_model_name": "LayoutModel",
            "_view_count": null,
            "_view_module": "@jupyter-widgets/base",
            "_view_module_version": "1.2.0",
            "_view_name": "LayoutView",
            "align_content": null,
            "align_items": null,
            "align_self": null,
            "border": null,
            "bottom": null,
            "display": null,
            "flex": null,
            "flex_flow": null,
            "grid_area": null,
            "grid_auto_columns": null,
            "grid_auto_flow": null,
            "grid_auto_rows": null,
            "grid_column": null,
            "grid_gap": null,
            "grid_row": null,
            "grid_template_areas": null,
            "grid_template_columns": null,
            "grid_template_rows": null,
            "height": null,
            "justify_content": null,
            "justify_items": null,
            "left": null,
            "margin": null,
            "max_height": null,
            "max_width": null,
            "min_height": null,
            "min_width": null,
            "object_fit": null,
            "object_position": null,
            "order": null,
            "overflow": null,
            "overflow_x": null,
            "overflow_y": null,
            "padding": null,
            "right": null,
            "top": null,
            "visibility": null,
            "width": null
          }
        },
        "2077ed594f704f5189277fb31f3ccbf7": {
          "model_module": "@jupyter-widgets/base",
          "model_name": "LayoutModel",
          "model_module_version": "1.2.0",
          "state": {
            "_model_module": "@jupyter-widgets/base",
            "_model_module_version": "1.2.0",
            "_model_name": "LayoutModel",
            "_view_count": null,
            "_view_module": "@jupyter-widgets/base",
            "_view_module_version": "1.2.0",
            "_view_name": "LayoutView",
            "align_content": null,
            "align_items": null,
            "align_self": null,
            "border": null,
            "bottom": null,
            "display": null,
            "flex": null,
            "flex_flow": null,
            "grid_area": null,
            "grid_auto_columns": null,
            "grid_auto_flow": null,
            "grid_auto_rows": null,
            "grid_column": null,
            "grid_gap": null,
            "grid_row": null,
            "grid_template_areas": null,
            "grid_template_columns": null,
            "grid_template_rows": null,
            "height": null,
            "justify_content": null,
            "justify_items": null,
            "left": null,
            "margin": null,
            "max_height": null,
            "max_width": null,
            "min_height": null,
            "min_width": null,
            "object_fit": null,
            "object_position": null,
            "order": null,
            "overflow": null,
            "overflow_x": null,
            "overflow_y": null,
            "padding": null,
            "right": null,
            "top": null,
            "visibility": null,
            "width": null
          }
        },
        "efe050e42b7241ee9674ef30ff524b32": {
          "model_module": "@jupyter-widgets/controls",
          "model_name": "DescriptionStyleModel",
          "model_module_version": "1.5.0",
          "state": {
            "_model_module": "@jupyter-widgets/controls",
            "_model_module_version": "1.5.0",
            "_model_name": "DescriptionStyleModel",
            "_view_count": null,
            "_view_module": "@jupyter-widgets/base",
            "_view_module_version": "1.2.0",
            "_view_name": "StyleView",
            "description_width": ""
          }
        },
        "18cf77721ce7436f90812ded9d7315d1": {
          "model_module": "@jupyter-widgets/base",
          "model_name": "LayoutModel",
          "model_module_version": "1.2.0",
          "state": {
            "_model_module": "@jupyter-widgets/base",
            "_model_module_version": "1.2.0",
            "_model_name": "LayoutModel",
            "_view_count": null,
            "_view_module": "@jupyter-widgets/base",
            "_view_module_version": "1.2.0",
            "_view_name": "LayoutView",
            "align_content": null,
            "align_items": null,
            "align_self": null,
            "border": null,
            "bottom": null,
            "display": null,
            "flex": null,
            "flex_flow": null,
            "grid_area": null,
            "grid_auto_columns": null,
            "grid_auto_flow": null,
            "grid_auto_rows": null,
            "grid_column": null,
            "grid_gap": null,
            "grid_row": null,
            "grid_template_areas": null,
            "grid_template_columns": null,
            "grid_template_rows": null,
            "height": null,
            "justify_content": null,
            "justify_items": null,
            "left": null,
            "margin": null,
            "max_height": null,
            "max_width": null,
            "min_height": null,
            "min_width": null,
            "object_fit": null,
            "object_position": null,
            "order": null,
            "overflow": null,
            "overflow_x": null,
            "overflow_y": null,
            "padding": null,
            "right": null,
            "top": null,
            "visibility": null,
            "width": null
          }
        },
        "04255237cc5e43acbe2458fa49b54f0f": {
          "model_module": "@jupyter-widgets/controls",
          "model_name": "ProgressStyleModel",
          "model_module_version": "1.5.0",
          "state": {
            "_model_module": "@jupyter-widgets/controls",
            "_model_module_version": "1.5.0",
            "_model_name": "ProgressStyleModel",
            "_view_count": null,
            "_view_module": "@jupyter-widgets/base",
            "_view_module_version": "1.2.0",
            "_view_name": "StyleView",
            "bar_color": null,
            "description_width": ""
          }
        },
        "1d241b537384420facb8343e5c1befc1": {
          "model_module": "@jupyter-widgets/base",
          "model_name": "LayoutModel",
          "model_module_version": "1.2.0",
          "state": {
            "_model_module": "@jupyter-widgets/base",
            "_model_module_version": "1.2.0",
            "_model_name": "LayoutModel",
            "_view_count": null,
            "_view_module": "@jupyter-widgets/base",
            "_view_module_version": "1.2.0",
            "_view_name": "LayoutView",
            "align_content": null,
            "align_items": null,
            "align_self": null,
            "border": null,
            "bottom": null,
            "display": null,
            "flex": null,
            "flex_flow": null,
            "grid_area": null,
            "grid_auto_columns": null,
            "grid_auto_flow": null,
            "grid_auto_rows": null,
            "grid_column": null,
            "grid_gap": null,
            "grid_row": null,
            "grid_template_areas": null,
            "grid_template_columns": null,
            "grid_template_rows": null,
            "height": null,
            "justify_content": null,
            "justify_items": null,
            "left": null,
            "margin": null,
            "max_height": null,
            "max_width": null,
            "min_height": null,
            "min_width": null,
            "object_fit": null,
            "object_position": null,
            "order": null,
            "overflow": null,
            "overflow_x": null,
            "overflow_y": null,
            "padding": null,
            "right": null,
            "top": null,
            "visibility": null,
            "width": null
          }
        },
        "7ca249be6b0745d3879f84a560710b17": {
          "model_module": "@jupyter-widgets/controls",
          "model_name": "DescriptionStyleModel",
          "model_module_version": "1.5.0",
          "state": {
            "_model_module": "@jupyter-widgets/controls",
            "_model_module_version": "1.5.0",
            "_model_name": "DescriptionStyleModel",
            "_view_count": null,
            "_view_module": "@jupyter-widgets/base",
            "_view_module_version": "1.2.0",
            "_view_name": "StyleView",
            "description_width": ""
          }
        },
        "538f77f1e6824c83a614e7a9db811436": {
          "model_module": "@jupyter-widgets/controls",
          "model_name": "HBoxModel",
          "model_module_version": "1.5.0",
          "state": {
            "_dom_classes": [],
            "_model_module": "@jupyter-widgets/controls",
            "_model_module_version": "1.5.0",
            "_model_name": "HBoxModel",
            "_view_count": null,
            "_view_module": "@jupyter-widgets/controls",
            "_view_module_version": "1.5.0",
            "_view_name": "HBoxView",
            "box_style": "",
            "children": [
              "IPY_MODEL_8e419e9a1ed245f0a54cee4c05ae865b",
              "IPY_MODEL_89f2836bd17f42f1a5f8720497d22573",
              "IPY_MODEL_f728dc6533654de58adbcbdc48301708"
            ],
            "layout": "IPY_MODEL_44b3b90a37534eed9333790cd1a76939"
          }
        },
        "8e419e9a1ed245f0a54cee4c05ae865b": {
          "model_module": "@jupyter-widgets/controls",
          "model_name": "HTMLModel",
          "model_module_version": "1.5.0",
          "state": {
            "_dom_classes": [],
            "_model_module": "@jupyter-widgets/controls",
            "_model_module_version": "1.5.0",
            "_model_name": "HTMLModel",
            "_view_count": null,
            "_view_module": "@jupyter-widgets/controls",
            "_view_module_version": "1.5.0",
            "_view_name": "HTMLView",
            "description": "",
            "description_tooltip": null,
            "layout": "IPY_MODEL_370eecc77d2a4fb5a5edbbc008cdfd03",
            "placeholder": "​",
            "style": "IPY_MODEL_b7957e2b14904a9ca898fd03ca762f97",
            "value": "special_tokens_map.json: 100%"
          }
        },
        "89f2836bd17f42f1a5f8720497d22573": {
          "model_module": "@jupyter-widgets/controls",
          "model_name": "FloatProgressModel",
          "model_module_version": "1.5.0",
          "state": {
            "_dom_classes": [],
            "_model_module": "@jupyter-widgets/controls",
            "_model_module_version": "1.5.0",
            "_model_name": "FloatProgressModel",
            "_view_count": null,
            "_view_module": "@jupyter-widgets/controls",
            "_view_module_version": "1.5.0",
            "_view_name": "ProgressView",
            "bar_style": "success",
            "description": "",
            "description_tooltip": null,
            "layout": "IPY_MODEL_4ea62a67653e4f608d082ecd887a0326",
            "max": 238,
            "min": 0,
            "orientation": "horizontal",
            "style": "IPY_MODEL_2443ca6cdc5a40319ef27cdf702424c4",
            "value": 238
          }
        },
        "f728dc6533654de58adbcbdc48301708": {
          "model_module": "@jupyter-widgets/controls",
          "model_name": "HTMLModel",
          "model_module_version": "1.5.0",
          "state": {
            "_dom_classes": [],
            "_model_module": "@jupyter-widgets/controls",
            "_model_module_version": "1.5.0",
            "_model_name": "HTMLModel",
            "_view_count": null,
            "_view_module": "@jupyter-widgets/controls",
            "_view_module_version": "1.5.0",
            "_view_name": "HTMLView",
            "description": "",
            "description_tooltip": null,
            "layout": "IPY_MODEL_53d564125b1745a38e64390d702df607",
            "placeholder": "​",
            "style": "IPY_MODEL_5f3ac40e48704ba9be4edc626762922e",
            "value": " 238/238 [00:00&lt;00:00, 17.8kB/s]"
          }
        },
        "44b3b90a37534eed9333790cd1a76939": {
          "model_module": "@jupyter-widgets/base",
          "model_name": "LayoutModel",
          "model_module_version": "1.2.0",
          "state": {
            "_model_module": "@jupyter-widgets/base",
            "_model_module_version": "1.2.0",
            "_model_name": "LayoutModel",
            "_view_count": null,
            "_view_module": "@jupyter-widgets/base",
            "_view_module_version": "1.2.0",
            "_view_name": "LayoutView",
            "align_content": null,
            "align_items": null,
            "align_self": null,
            "border": null,
            "bottom": null,
            "display": null,
            "flex": null,
            "flex_flow": null,
            "grid_area": null,
            "grid_auto_columns": null,
            "grid_auto_flow": null,
            "grid_auto_rows": null,
            "grid_column": null,
            "grid_gap": null,
            "grid_row": null,
            "grid_template_areas": null,
            "grid_template_columns": null,
            "grid_template_rows": null,
            "height": null,
            "justify_content": null,
            "justify_items": null,
            "left": null,
            "margin": null,
            "max_height": null,
            "max_width": null,
            "min_height": null,
            "min_width": null,
            "object_fit": null,
            "object_position": null,
            "order": null,
            "overflow": null,
            "overflow_x": null,
            "overflow_y": null,
            "padding": null,
            "right": null,
            "top": null,
            "visibility": null,
            "width": null
          }
        },
        "370eecc77d2a4fb5a5edbbc008cdfd03": {
          "model_module": "@jupyter-widgets/base",
          "model_name": "LayoutModel",
          "model_module_version": "1.2.0",
          "state": {
            "_model_module": "@jupyter-widgets/base",
            "_model_module_version": "1.2.0",
            "_model_name": "LayoutModel",
            "_view_count": null,
            "_view_module": "@jupyter-widgets/base",
            "_view_module_version": "1.2.0",
            "_view_name": "LayoutView",
            "align_content": null,
            "align_items": null,
            "align_self": null,
            "border": null,
            "bottom": null,
            "display": null,
            "flex": null,
            "flex_flow": null,
            "grid_area": null,
            "grid_auto_columns": null,
            "grid_auto_flow": null,
            "grid_auto_rows": null,
            "grid_column": null,
            "grid_gap": null,
            "grid_row": null,
            "grid_template_areas": null,
            "grid_template_columns": null,
            "grid_template_rows": null,
            "height": null,
            "justify_content": null,
            "justify_items": null,
            "left": null,
            "margin": null,
            "max_height": null,
            "max_width": null,
            "min_height": null,
            "min_width": null,
            "object_fit": null,
            "object_position": null,
            "order": null,
            "overflow": null,
            "overflow_x": null,
            "overflow_y": null,
            "padding": null,
            "right": null,
            "top": null,
            "visibility": null,
            "width": null
          }
        },
        "b7957e2b14904a9ca898fd03ca762f97": {
          "model_module": "@jupyter-widgets/controls",
          "model_name": "DescriptionStyleModel",
          "model_module_version": "1.5.0",
          "state": {
            "_model_module": "@jupyter-widgets/controls",
            "_model_module_version": "1.5.0",
            "_model_name": "DescriptionStyleModel",
            "_view_count": null,
            "_view_module": "@jupyter-widgets/base",
            "_view_module_version": "1.2.0",
            "_view_name": "StyleView",
            "description_width": ""
          }
        },
        "4ea62a67653e4f608d082ecd887a0326": {
          "model_module": "@jupyter-widgets/base",
          "model_name": "LayoutModel",
          "model_module_version": "1.2.0",
          "state": {
            "_model_module": "@jupyter-widgets/base",
            "_model_module_version": "1.2.0",
            "_model_name": "LayoutModel",
            "_view_count": null,
            "_view_module": "@jupyter-widgets/base",
            "_view_module_version": "1.2.0",
            "_view_name": "LayoutView",
            "align_content": null,
            "align_items": null,
            "align_self": null,
            "border": null,
            "bottom": null,
            "display": null,
            "flex": null,
            "flex_flow": null,
            "grid_area": null,
            "grid_auto_columns": null,
            "grid_auto_flow": null,
            "grid_auto_rows": null,
            "grid_column": null,
            "grid_gap": null,
            "grid_row": null,
            "grid_template_areas": null,
            "grid_template_columns": null,
            "grid_template_rows": null,
            "height": null,
            "justify_content": null,
            "justify_items": null,
            "left": null,
            "margin": null,
            "max_height": null,
            "max_width": null,
            "min_height": null,
            "min_width": null,
            "object_fit": null,
            "object_position": null,
            "order": null,
            "overflow": null,
            "overflow_x": null,
            "overflow_y": null,
            "padding": null,
            "right": null,
            "top": null,
            "visibility": null,
            "width": null
          }
        },
        "2443ca6cdc5a40319ef27cdf702424c4": {
          "model_module": "@jupyter-widgets/controls",
          "model_name": "ProgressStyleModel",
          "model_module_version": "1.5.0",
          "state": {
            "_model_module": "@jupyter-widgets/controls",
            "_model_module_version": "1.5.0",
            "_model_name": "ProgressStyleModel",
            "_view_count": null,
            "_view_module": "@jupyter-widgets/base",
            "_view_module_version": "1.2.0",
            "_view_name": "StyleView",
            "bar_color": null,
            "description_width": ""
          }
        },
        "53d564125b1745a38e64390d702df607": {
          "model_module": "@jupyter-widgets/base",
          "model_name": "LayoutModel",
          "model_module_version": "1.2.0",
          "state": {
            "_model_module": "@jupyter-widgets/base",
            "_model_module_version": "1.2.0",
            "_model_name": "LayoutModel",
            "_view_count": null,
            "_view_module": "@jupyter-widgets/base",
            "_view_module_version": "1.2.0",
            "_view_name": "LayoutView",
            "align_content": null,
            "align_items": null,
            "align_self": null,
            "border": null,
            "bottom": null,
            "display": null,
            "flex": null,
            "flex_flow": null,
            "grid_area": null,
            "grid_auto_columns": null,
            "grid_auto_flow": null,
            "grid_auto_rows": null,
            "grid_column": null,
            "grid_gap": null,
            "grid_row": null,
            "grid_template_areas": null,
            "grid_template_columns": null,
            "grid_template_rows": null,
            "height": null,
            "justify_content": null,
            "justify_items": null,
            "left": null,
            "margin": null,
            "max_height": null,
            "max_width": null,
            "min_height": null,
            "min_width": null,
            "object_fit": null,
            "object_position": null,
            "order": null,
            "overflow": null,
            "overflow_x": null,
            "overflow_y": null,
            "padding": null,
            "right": null,
            "top": null,
            "visibility": null,
            "width": null
          }
        },
        "5f3ac40e48704ba9be4edc626762922e": {
          "model_module": "@jupyter-widgets/controls",
          "model_name": "DescriptionStyleModel",
          "model_module_version": "1.5.0",
          "state": {
            "_model_module": "@jupyter-widgets/controls",
            "_model_module_version": "1.5.0",
            "_model_name": "DescriptionStyleModel",
            "_view_count": null,
            "_view_module": "@jupyter-widgets/base",
            "_view_module_version": "1.2.0",
            "_view_name": "StyleView",
            "description_width": ""
          }
        },
        "2e0cb9bef5d14b47886e3456138395e0": {
          "model_module": "@jupyter-widgets/controls",
          "model_name": "HBoxModel",
          "model_module_version": "1.5.0",
          "state": {
            "_dom_classes": [],
            "_model_module": "@jupyter-widgets/controls",
            "_model_module_version": "1.5.0",
            "_model_name": "HBoxModel",
            "_view_count": null,
            "_view_module": "@jupyter-widgets/controls",
            "_view_module_version": "1.5.0",
            "_view_name": "HBoxView",
            "box_style": "",
            "children": [
              "IPY_MODEL_77adf6eff2774c379526945d8804760c",
              "IPY_MODEL_ebdad3e42f5648c99644b54757c47ba1",
              "IPY_MODEL_360ab2c42c0b41808f26e3034e53928f"
            ],
            "layout": "IPY_MODEL_692ec9a8d87f4c2483df1e8458bbadb9"
          }
        },
        "77adf6eff2774c379526945d8804760c": {
          "model_module": "@jupyter-widgets/controls",
          "model_name": "HTMLModel",
          "model_module_version": "1.5.0",
          "state": {
            "_dom_classes": [],
            "_model_module": "@jupyter-widgets/controls",
            "_model_module_version": "1.5.0",
            "_model_name": "HTMLModel",
            "_view_count": null,
            "_view_module": "@jupyter-widgets/controls",
            "_view_module_version": "1.5.0",
            "_view_name": "HTMLView",
            "description": "",
            "description_tooltip": null,
            "layout": "IPY_MODEL_4b04da1a378a44a1b629f7993f8d2a35",
            "placeholder": "​",
            "style": "IPY_MODEL_55e1f5c9206e4dcc8a771ea477cf864a",
            "value": "config.json: 100%"
          }
        },
        "ebdad3e42f5648c99644b54757c47ba1": {
          "model_module": "@jupyter-widgets/controls",
          "model_name": "FloatProgressModel",
          "model_module_version": "1.5.0",
          "state": {
            "_dom_classes": [],
            "_model_module": "@jupyter-widgets/controls",
            "_model_module_version": "1.5.0",
            "_model_name": "FloatProgressModel",
            "_view_count": null,
            "_view_module": "@jupyter-widgets/controls",
            "_view_module_version": "1.5.0",
            "_view_name": "ProgressView",
            "bar_style": "success",
            "description": "",
            "description_tooltip": null,
            "layout": "IPY_MODEL_866c18864fcc4e4e937497e8725256ef",
            "max": 722,
            "min": 0,
            "orientation": "horizontal",
            "style": "IPY_MODEL_749b27ea130942ecb5ee0c5ca3d799a4",
            "value": 722
          }
        },
        "360ab2c42c0b41808f26e3034e53928f": {
          "model_module": "@jupyter-widgets/controls",
          "model_name": "HTMLModel",
          "model_module_version": "1.5.0",
          "state": {
            "_dom_classes": [],
            "_model_module": "@jupyter-widgets/controls",
            "_model_module_version": "1.5.0",
            "_model_name": "HTMLModel",
            "_view_count": null,
            "_view_module": "@jupyter-widgets/controls",
            "_view_module_version": "1.5.0",
            "_view_name": "HTMLView",
            "description": "",
            "description_tooltip": null,
            "layout": "IPY_MODEL_cc9afe2d56fc401da3c50de0eb1d4df3",
            "placeholder": "​",
            "style": "IPY_MODEL_3f3b40d6185b4c7fbf4b991b2cd31f2f",
            "value": " 722/722 [00:00&lt;00:00, 18.1kB/s]"
          }
        },
        "692ec9a8d87f4c2483df1e8458bbadb9": {
          "model_module": "@jupyter-widgets/base",
          "model_name": "LayoutModel",
          "model_module_version": "1.2.0",
          "state": {
            "_model_module": "@jupyter-widgets/base",
            "_model_module_version": "1.2.0",
            "_model_name": "LayoutModel",
            "_view_count": null,
            "_view_module": "@jupyter-widgets/base",
            "_view_module_version": "1.2.0",
            "_view_name": "LayoutView",
            "align_content": null,
            "align_items": null,
            "align_self": null,
            "border": null,
            "bottom": null,
            "display": null,
            "flex": null,
            "flex_flow": null,
            "grid_area": null,
            "grid_auto_columns": null,
            "grid_auto_flow": null,
            "grid_auto_rows": null,
            "grid_column": null,
            "grid_gap": null,
            "grid_row": null,
            "grid_template_areas": null,
            "grid_template_columns": null,
            "grid_template_rows": null,
            "height": null,
            "justify_content": null,
            "justify_items": null,
            "left": null,
            "margin": null,
            "max_height": null,
            "max_width": null,
            "min_height": null,
            "min_width": null,
            "object_fit": null,
            "object_position": null,
            "order": null,
            "overflow": null,
            "overflow_x": null,
            "overflow_y": null,
            "padding": null,
            "right": null,
            "top": null,
            "visibility": null,
            "width": null
          }
        },
        "4b04da1a378a44a1b629f7993f8d2a35": {
          "model_module": "@jupyter-widgets/base",
          "model_name": "LayoutModel",
          "model_module_version": "1.2.0",
          "state": {
            "_model_module": "@jupyter-widgets/base",
            "_model_module_version": "1.2.0",
            "_model_name": "LayoutModel",
            "_view_count": null,
            "_view_module": "@jupyter-widgets/base",
            "_view_module_version": "1.2.0",
            "_view_name": "LayoutView",
            "align_content": null,
            "align_items": null,
            "align_self": null,
            "border": null,
            "bottom": null,
            "display": null,
            "flex": null,
            "flex_flow": null,
            "grid_area": null,
            "grid_auto_columns": null,
            "grid_auto_flow": null,
            "grid_auto_rows": null,
            "grid_column": null,
            "grid_gap": null,
            "grid_row": null,
            "grid_template_areas": null,
            "grid_template_columns": null,
            "grid_template_rows": null,
            "height": null,
            "justify_content": null,
            "justify_items": null,
            "left": null,
            "margin": null,
            "max_height": null,
            "max_width": null,
            "min_height": null,
            "min_width": null,
            "object_fit": null,
            "object_position": null,
            "order": null,
            "overflow": null,
            "overflow_x": null,
            "overflow_y": null,
            "padding": null,
            "right": null,
            "top": null,
            "visibility": null,
            "width": null
          }
        },
        "55e1f5c9206e4dcc8a771ea477cf864a": {
          "model_module": "@jupyter-widgets/controls",
          "model_name": "DescriptionStyleModel",
          "model_module_version": "1.5.0",
          "state": {
            "_model_module": "@jupyter-widgets/controls",
            "_model_module_version": "1.5.0",
            "_model_name": "DescriptionStyleModel",
            "_view_count": null,
            "_view_module": "@jupyter-widgets/base",
            "_view_module_version": "1.2.0",
            "_view_name": "StyleView",
            "description_width": ""
          }
        },
        "866c18864fcc4e4e937497e8725256ef": {
          "model_module": "@jupyter-widgets/base",
          "model_name": "LayoutModel",
          "model_module_version": "1.2.0",
          "state": {
            "_model_module": "@jupyter-widgets/base",
            "_model_module_version": "1.2.0",
            "_model_name": "LayoutModel",
            "_view_count": null,
            "_view_module": "@jupyter-widgets/base",
            "_view_module_version": "1.2.0",
            "_view_name": "LayoutView",
            "align_content": null,
            "align_items": null,
            "align_self": null,
            "border": null,
            "bottom": null,
            "display": null,
            "flex": null,
            "flex_flow": null,
            "grid_area": null,
            "grid_auto_columns": null,
            "grid_auto_flow": null,
            "grid_auto_rows": null,
            "grid_column": null,
            "grid_gap": null,
            "grid_row": null,
            "grid_template_areas": null,
            "grid_template_columns": null,
            "grid_template_rows": null,
            "height": null,
            "justify_content": null,
            "justify_items": null,
            "left": null,
            "margin": null,
            "max_height": null,
            "max_width": null,
            "min_height": null,
            "min_width": null,
            "object_fit": null,
            "object_position": null,
            "order": null,
            "overflow": null,
            "overflow_x": null,
            "overflow_y": null,
            "padding": null,
            "right": null,
            "top": null,
            "visibility": null,
            "width": null
          }
        },
        "749b27ea130942ecb5ee0c5ca3d799a4": {
          "model_module": "@jupyter-widgets/controls",
          "model_name": "ProgressStyleModel",
          "model_module_version": "1.5.0",
          "state": {
            "_model_module": "@jupyter-widgets/controls",
            "_model_module_version": "1.5.0",
            "_model_name": "ProgressStyleModel",
            "_view_count": null,
            "_view_module": "@jupyter-widgets/base",
            "_view_module_version": "1.2.0",
            "_view_name": "StyleView",
            "bar_color": null,
            "description_width": ""
          }
        },
        "cc9afe2d56fc401da3c50de0eb1d4df3": {
          "model_module": "@jupyter-widgets/base",
          "model_name": "LayoutModel",
          "model_module_version": "1.2.0",
          "state": {
            "_model_module": "@jupyter-widgets/base",
            "_model_module_version": "1.2.0",
            "_model_name": "LayoutModel",
            "_view_count": null,
            "_view_module": "@jupyter-widgets/base",
            "_view_module_version": "1.2.0",
            "_view_name": "LayoutView",
            "align_content": null,
            "align_items": null,
            "align_self": null,
            "border": null,
            "bottom": null,
            "display": null,
            "flex": null,
            "flex_flow": null,
            "grid_area": null,
            "grid_auto_columns": null,
            "grid_auto_flow": null,
            "grid_auto_rows": null,
            "grid_column": null,
            "grid_gap": null,
            "grid_row": null,
            "grid_template_areas": null,
            "grid_template_columns": null,
            "grid_template_rows": null,
            "height": null,
            "justify_content": null,
            "justify_items": null,
            "left": null,
            "margin": null,
            "max_height": null,
            "max_width": null,
            "min_height": null,
            "min_width": null,
            "object_fit": null,
            "object_position": null,
            "order": null,
            "overflow": null,
            "overflow_x": null,
            "overflow_y": null,
            "padding": null,
            "right": null,
            "top": null,
            "visibility": null,
            "width": null
          }
        },
        "3f3b40d6185b4c7fbf4b991b2cd31f2f": {
          "model_module": "@jupyter-widgets/controls",
          "model_name": "DescriptionStyleModel",
          "model_module_version": "1.5.0",
          "state": {
            "_model_module": "@jupyter-widgets/controls",
            "_model_module_version": "1.5.0",
            "_model_name": "DescriptionStyleModel",
            "_view_count": null,
            "_view_module": "@jupyter-widgets/base",
            "_view_module_version": "1.2.0",
            "_view_name": "StyleView",
            "description_width": ""
          }
        },
        "d32a3f77addf4b35aa1f9075e614e06d": {
          "model_module": "@jupyter-widgets/controls",
          "model_name": "HBoxModel",
          "model_module_version": "1.5.0",
          "state": {
            "_dom_classes": [],
            "_model_module": "@jupyter-widgets/controls",
            "_model_module_version": "1.5.0",
            "_model_name": "HBoxModel",
            "_view_count": null,
            "_view_module": "@jupyter-widgets/controls",
            "_view_module_version": "1.5.0",
            "_view_name": "HBoxView",
            "box_style": "",
            "children": [
              "IPY_MODEL_bdd690d1ef704fe79cc86c19d3c88fe1",
              "IPY_MODEL_3728c14b174a4545a45d36701d8116b3",
              "IPY_MODEL_4bea39f2688d4ad189925dc55a9e7cfa"
            ],
            "layout": "IPY_MODEL_330ca88db5d04ffb84c9839c884ca43d"
          }
        },
        "bdd690d1ef704fe79cc86c19d3c88fe1": {
          "model_module": "@jupyter-widgets/controls",
          "model_name": "HTMLModel",
          "model_module_version": "1.5.0",
          "state": {
            "_dom_classes": [],
            "_model_module": "@jupyter-widgets/controls",
            "_model_module_version": "1.5.0",
            "_model_name": "HTMLModel",
            "_view_count": null,
            "_view_module": "@jupyter-widgets/controls",
            "_view_module_version": "1.5.0",
            "_view_name": "HTMLView",
            "description": "",
            "description_tooltip": null,
            "layout": "IPY_MODEL_d840c9a9d62041c8b2c91beb684ea2c8",
            "placeholder": "​",
            "style": "IPY_MODEL_3faff3e79c5e4ea2b281bc32c6077475",
            "value": "pytorch_model.bin: 100%"
          }
        },
        "3728c14b174a4545a45d36701d8116b3": {
          "model_module": "@jupyter-widgets/controls",
          "model_name": "FloatProgressModel",
          "model_module_version": "1.5.0",
          "state": {
            "_dom_classes": [],
            "_model_module": "@jupyter-widgets/controls",
            "_model_module_version": "1.5.0",
            "_model_name": "FloatProgressModel",
            "_view_count": null,
            "_view_module": "@jupyter-widgets/controls",
            "_view_module_version": "1.5.0",
            "_view_name": "ProgressView",
            "bar_style": "success",
            "description": "",
            "description_tooltip": null,
            "layout": "IPY_MODEL_654dbc72eee5470487eccd7f8b62816b",
            "max": 1359286193,
            "min": 0,
            "orientation": "horizontal",
            "style": "IPY_MODEL_f72b0d5c9b774e5aa299d429845bd271",
            "value": 1359286193
          }
        },
        "4bea39f2688d4ad189925dc55a9e7cfa": {
          "model_module": "@jupyter-widgets/controls",
          "model_name": "HTMLModel",
          "model_module_version": "1.5.0",
          "state": {
            "_dom_classes": [],
            "_model_module": "@jupyter-widgets/controls",
            "_model_module_version": "1.5.0",
            "_model_name": "HTMLModel",
            "_view_count": null,
            "_view_module": "@jupyter-widgets/controls",
            "_view_module_version": "1.5.0",
            "_view_name": "HTMLView",
            "description": "",
            "description_tooltip": null,
            "layout": "IPY_MODEL_7132c559617b472c85c71aa375787fbd",
            "placeholder": "​",
            "style": "IPY_MODEL_916dc9371d794657be94ef491b705d7e",
            "value": " 1.36G/1.36G [00:07&lt;00:00, 216MB/s]"
          }
        },
        "330ca88db5d04ffb84c9839c884ca43d": {
          "model_module": "@jupyter-widgets/base",
          "model_name": "LayoutModel",
          "model_module_version": "1.2.0",
          "state": {
            "_model_module": "@jupyter-widgets/base",
            "_model_module_version": "1.2.0",
            "_model_name": "LayoutModel",
            "_view_count": null,
            "_view_module": "@jupyter-widgets/base",
            "_view_module_version": "1.2.0",
            "_view_name": "LayoutView",
            "align_content": null,
            "align_items": null,
            "align_self": null,
            "border": null,
            "bottom": null,
            "display": null,
            "flex": null,
            "flex_flow": null,
            "grid_area": null,
            "grid_auto_columns": null,
            "grid_auto_flow": null,
            "grid_auto_rows": null,
            "grid_column": null,
            "grid_gap": null,
            "grid_row": null,
            "grid_template_areas": null,
            "grid_template_columns": null,
            "grid_template_rows": null,
            "height": null,
            "justify_content": null,
            "justify_items": null,
            "left": null,
            "margin": null,
            "max_height": null,
            "max_width": null,
            "min_height": null,
            "min_width": null,
            "object_fit": null,
            "object_position": null,
            "order": null,
            "overflow": null,
            "overflow_x": null,
            "overflow_y": null,
            "padding": null,
            "right": null,
            "top": null,
            "visibility": null,
            "width": null
          }
        },
        "d840c9a9d62041c8b2c91beb684ea2c8": {
          "model_module": "@jupyter-widgets/base",
          "model_name": "LayoutModel",
          "model_module_version": "1.2.0",
          "state": {
            "_model_module": "@jupyter-widgets/base",
            "_model_module_version": "1.2.0",
            "_model_name": "LayoutModel",
            "_view_count": null,
            "_view_module": "@jupyter-widgets/base",
            "_view_module_version": "1.2.0",
            "_view_name": "LayoutView",
            "align_content": null,
            "align_items": null,
            "align_self": null,
            "border": null,
            "bottom": null,
            "display": null,
            "flex": null,
            "flex_flow": null,
            "grid_area": null,
            "grid_auto_columns": null,
            "grid_auto_flow": null,
            "grid_auto_rows": null,
            "grid_column": null,
            "grid_gap": null,
            "grid_row": null,
            "grid_template_areas": null,
            "grid_template_columns": null,
            "grid_template_rows": null,
            "height": null,
            "justify_content": null,
            "justify_items": null,
            "left": null,
            "margin": null,
            "max_height": null,
            "max_width": null,
            "min_height": null,
            "min_width": null,
            "object_fit": null,
            "object_position": null,
            "order": null,
            "overflow": null,
            "overflow_x": null,
            "overflow_y": null,
            "padding": null,
            "right": null,
            "top": null,
            "visibility": null,
            "width": null
          }
        },
        "3faff3e79c5e4ea2b281bc32c6077475": {
          "model_module": "@jupyter-widgets/controls",
          "model_name": "DescriptionStyleModel",
          "model_module_version": "1.5.0",
          "state": {
            "_model_module": "@jupyter-widgets/controls",
            "_model_module_version": "1.5.0",
            "_model_name": "DescriptionStyleModel",
            "_view_count": null,
            "_view_module": "@jupyter-widgets/base",
            "_view_module_version": "1.2.0",
            "_view_name": "StyleView",
            "description_width": ""
          }
        },
        "654dbc72eee5470487eccd7f8b62816b": {
          "model_module": "@jupyter-widgets/base",
          "model_name": "LayoutModel",
          "model_module_version": "1.2.0",
          "state": {
            "_model_module": "@jupyter-widgets/base",
            "_model_module_version": "1.2.0",
            "_model_name": "LayoutModel",
            "_view_count": null,
            "_view_module": "@jupyter-widgets/base",
            "_view_module_version": "1.2.0",
            "_view_name": "LayoutView",
            "align_content": null,
            "align_items": null,
            "align_self": null,
            "border": null,
            "bottom": null,
            "display": null,
            "flex": null,
            "flex_flow": null,
            "grid_area": null,
            "grid_auto_columns": null,
            "grid_auto_flow": null,
            "grid_auto_rows": null,
            "grid_column": null,
            "grid_gap": null,
            "grid_row": null,
            "grid_template_areas": null,
            "grid_template_columns": null,
            "grid_template_rows": null,
            "height": null,
            "justify_content": null,
            "justify_items": null,
            "left": null,
            "margin": null,
            "max_height": null,
            "max_width": null,
            "min_height": null,
            "min_width": null,
            "object_fit": null,
            "object_position": null,
            "order": null,
            "overflow": null,
            "overflow_x": null,
            "overflow_y": null,
            "padding": null,
            "right": null,
            "top": null,
            "visibility": null,
            "width": null
          }
        },
        "f72b0d5c9b774e5aa299d429845bd271": {
          "model_module": "@jupyter-widgets/controls",
          "model_name": "ProgressStyleModel",
          "model_module_version": "1.5.0",
          "state": {
            "_model_module": "@jupyter-widgets/controls",
            "_model_module_version": "1.5.0",
            "_model_name": "ProgressStyleModel",
            "_view_count": null,
            "_view_module": "@jupyter-widgets/base",
            "_view_module_version": "1.2.0",
            "_view_name": "StyleView",
            "bar_color": null,
            "description_width": ""
          }
        },
        "7132c559617b472c85c71aa375787fbd": {
          "model_module": "@jupyter-widgets/base",
          "model_name": "LayoutModel",
          "model_module_version": "1.2.0",
          "state": {
            "_model_module": "@jupyter-widgets/base",
            "_model_module_version": "1.2.0",
            "_model_name": "LayoutModel",
            "_view_count": null,
            "_view_module": "@jupyter-widgets/base",
            "_view_module_version": "1.2.0",
            "_view_name": "LayoutView",
            "align_content": null,
            "align_items": null,
            "align_self": null,
            "border": null,
            "bottom": null,
            "display": null,
            "flex": null,
            "flex_flow": null,
            "grid_area": null,
            "grid_auto_columns": null,
            "grid_auto_flow": null,
            "grid_auto_rows": null,
            "grid_column": null,
            "grid_gap": null,
            "grid_row": null,
            "grid_template_areas": null,
            "grid_template_columns": null,
            "grid_template_rows": null,
            "height": null,
            "justify_content": null,
            "justify_items": null,
            "left": null,
            "margin": null,
            "max_height": null,
            "max_width": null,
            "min_height": null,
            "min_width": null,
            "object_fit": null,
            "object_position": null,
            "order": null,
            "overflow": null,
            "overflow_x": null,
            "overflow_y": null,
            "padding": null,
            "right": null,
            "top": null,
            "visibility": null,
            "width": null
          }
        },
        "916dc9371d794657be94ef491b705d7e": {
          "model_module": "@jupyter-widgets/controls",
          "model_name": "DescriptionStyleModel",
          "model_module_version": "1.5.0",
          "state": {
            "_model_module": "@jupyter-widgets/controls",
            "_model_module_version": "1.5.0",
            "_model_name": "DescriptionStyleModel",
            "_view_count": null,
            "_view_module": "@jupyter-widgets/base",
            "_view_module_version": "1.2.0",
            "_view_name": "StyleView",
            "description_width": ""
          }
        }
      }
    }
  },
  "nbformat": 4,
  "nbformat_minor": 5
}